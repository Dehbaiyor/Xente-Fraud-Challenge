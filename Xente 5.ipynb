{
 "cells": [
  {
   "cell_type": "markdown",
   "metadata": {},
   "source": [
    "## Import Libraries"
   ]
  },
  {
   "cell_type": "code",
   "execution_count": 1,
   "metadata": {
    "ExecuteTime": {
     "end_time": "2019-09-22T12:01:41.245213Z",
     "start_time": "2019-09-22T12:00:56.630951Z"
    }
   },
   "outputs": [],
   "source": [
    "import numpy as np\n",
    "import pandas as pd\n",
    "import matplotlib.pyplot as plt\n",
    "import seaborn as sns\n",
    "import scipy.stats as stats\n",
    "import datetime\n",
    "import category_encoders as ce"
   ]
  },
  {
   "cell_type": "markdown",
   "metadata": {},
   "source": [
    "## Import data"
   ]
  },
  {
   "cell_type": "code",
   "execution_count": 97,
   "metadata": {
    "ExecuteTime": {
     "end_time": "2019-09-22T13:09:06.255033Z",
     "start_time": "2019-09-22T13:08:58.911690Z"
    }
   },
   "outputs": [],
   "source": [
    "df_train = pd.read_csv(\"training.csv\")\n",
    "df_test = pd.read_csv(\"test.csv\")\n",
    "profile = pd.read_csv(r\"C:\\Users\\ADEBAYO\\Desktop\\Current DS\\Xente\\Customer Profile.csv\",parse_dates=['TransactionStartTime'])\n",
    "labelled=pd.read_csv(r\"C:\\Users\\ADEBAYO\\Desktop\\Best1609.csv\")"
   ]
  },
  {
   "cell_type": "code",
   "execution_count": 98,
   "metadata": {
    "ExecuteTime": {
     "end_time": "2019-09-22T13:09:41.105074Z",
     "start_time": "2019-09-22T13:09:41.069070Z"
    }
   },
   "outputs": [],
   "source": [
    "#df_test=df_test.merge(labelled,on='TransactionId')"
   ]
  },
  {
   "cell_type": "code",
   "execution_count": 99,
   "metadata": {
    "ExecuteTime": {
     "end_time": "2019-09-22T13:10:21.157449Z",
     "start_time": "2019-09-22T13:10:21.144449Z"
    }
   },
   "outputs": [],
   "source": [
    "#df=df_test[df_test.FraudResult==1]"
   ]
  },
  {
   "cell_type": "code",
   "execution_count": 100,
   "metadata": {
    "ExecuteTime": {
     "end_time": "2019-09-22T13:11:00.782641Z",
     "start_time": "2019-09-22T13:11:00.760643Z"
    }
   },
   "outputs": [],
   "source": [
    "#df_train=df_train.append(df)"
   ]
  },
  {
   "cell_type": "markdown",
   "metadata": {},
   "source": [
    "## EDA"
   ]
  },
  {
   "cell_type": "markdown",
   "metadata": {},
   "source": [
    "### Combine the training and test data together"
   ]
  },
  {
   "cell_type": "code",
   "execution_count": 101,
   "metadata": {
    "ExecuteTime": {
     "end_time": "2019-09-22T13:11:32.911287Z",
     "start_time": "2019-09-22T13:11:32.794293Z"
    }
   },
   "outputs": [],
   "source": [
    "ndf_train = df_train.shape[0]\n",
    "ndf_test = df_test.shape[0]"
   ]
  },
  {
   "cell_type": "code",
   "execution_count": 102,
   "metadata": {
    "ExecuteTime": {
     "end_time": "2019-09-22T13:11:54.947884Z",
     "start_time": "2019-09-22T13:11:54.307339Z"
    }
   },
   "outputs": [
    {
     "name": "stderr",
     "output_type": "stream",
     "text": [
      "C:\\Users\\ADEBAYO\\Anaconda3\\lib\\site-packages\\ipykernel_launcher.py:1: FutureWarning: Sorting because non-concatenation axis is not aligned. A future version\n",
      "of pandas will change to not sort by default.\n",
      "\n",
      "To accept the future behavior, pass 'sort=False'.\n",
      "\n",
      "To retain the current behavior and silence the warning, pass 'sort=True'.\n",
      "\n",
      "  \"\"\"Entry point for launching an IPython kernel.\n"
     ]
    },
    {
     "name": "stdout",
     "output_type": "stream",
     "text": [
      "combine data size is: (140681, 16)\n"
     ]
    }
   ],
   "source": [
    "cmdata = pd.concat((df_train, df_test)).reset_index(drop=True)\n",
    "print(\"combine data size is: {}\".format(cmdata.shape))"
   ]
  },
  {
   "cell_type": "code",
   "execution_count": 103,
   "metadata": {
    "ExecuteTime": {
     "end_time": "2019-09-22T13:12:16.072139Z",
     "start_time": "2019-09-22T13:12:15.999069Z"
    }
   },
   "outputs": [],
   "source": [
    "profile=profile[['TransactionId','TimeBetweenTransaction', 'AmountBetweenTransaction',\n",
    "       'PreviousTransactionBetweenHour', 'NumberOfTransactionWithinHour',\n",
    "       'AveAmtWithinPeriod']]"
   ]
  },
  {
   "cell_type": "code",
   "execution_count": 108,
   "metadata": {
    "ExecuteTime": {
     "end_time": "2019-09-22T13:13:13.639685Z",
     "start_time": "2019-09-22T13:13:13.627685Z"
    }
   },
   "outputs": [],
   "source": [
    "#cmdata=cmdata.join(profile2,on='CustomerId',lsuffix='l').join(profile3,on='ChannelId',lsuffix='l').join(profile4,on='ProductId',lsuffix='l').join(profile5,on='ProviderId',lsuffix='l')"
   ]
  },
  {
   "cell_type": "code",
   "execution_count": 109,
   "metadata": {
    "ExecuteTime": {
     "end_time": "2019-09-22T13:14:04.189529Z",
     "start_time": "2019-09-22T13:14:04.166531Z"
    }
   },
   "outputs": [],
   "source": [
    "#cmdata=cmdata.merge(profile,on='TransactionId')"
   ]
  },
  {
   "cell_type": "code",
   "execution_count": 110,
   "metadata": {
    "ExecuteTime": {
     "end_time": "2019-09-22T13:14:21.224469Z",
     "start_time": "2019-09-22T13:14:21.209468Z"
    }
   },
   "outputs": [
    {
     "data": {
      "text/plain": [
       "Index(['AccountId', 'Amount', 'BatchId', 'ChannelId', 'CountryCode',\n",
       "       'CurrencyCode', 'CustomerId', 'FraudResult', 'PricingStrategy',\n",
       "       'ProductCategory', 'ProductId', 'ProviderId', 'SubscriptionId',\n",
       "       'TransactionId', 'TransactionStartTime', 'Value'],\n",
       "      dtype='object')"
      ]
     },
     "execution_count": 110,
     "metadata": {},
     "output_type": "execute_result"
    }
   ],
   "source": [
    "cmdata.columns"
   ]
  },
  {
   "cell_type": "code",
   "execution_count": 111,
   "metadata": {
    "ExecuteTime": {
     "end_time": "2019-09-22T13:14:38.452392Z",
     "start_time": "2019-09-22T13:14:38.345400Z"
    }
   },
   "outputs": [
    {
     "data": {
      "text/html": [
       "<div>\n",
       "<style scoped>\n",
       "    .dataframe tbody tr th:only-of-type {\n",
       "        vertical-align: middle;\n",
       "    }\n",
       "\n",
       "    .dataframe tbody tr th {\n",
       "        vertical-align: top;\n",
       "    }\n",
       "\n",
       "    .dataframe thead th {\n",
       "        text-align: right;\n",
       "    }\n",
       "</style>\n",
       "<table border=\"1\" class=\"dataframe\">\n",
       "  <thead>\n",
       "    <tr style=\"text-align: right;\">\n",
       "      <th></th>\n",
       "      <th>AccountId</th>\n",
       "      <th>Amount</th>\n",
       "      <th>BatchId</th>\n",
       "      <th>ChannelId</th>\n",
       "      <th>CountryCode</th>\n",
       "      <th>CurrencyCode</th>\n",
       "      <th>CustomerId</th>\n",
       "      <th>FraudResult</th>\n",
       "      <th>PricingStrategy</th>\n",
       "      <th>ProductCategory</th>\n",
       "      <th>ProductId</th>\n",
       "      <th>ProviderId</th>\n",
       "      <th>SubscriptionId</th>\n",
       "      <th>TransactionId</th>\n",
       "      <th>TransactionStartTime</th>\n",
       "      <th>Value</th>\n",
       "    </tr>\n",
       "  </thead>\n",
       "  <tbody>\n",
       "    <tr>\n",
       "      <td>0</td>\n",
       "      <td>AccountId_3957</td>\n",
       "      <td>1000.0</td>\n",
       "      <td>BatchId_36123</td>\n",
       "      <td>ChannelId_3</td>\n",
       "      <td>256</td>\n",
       "      <td>UGX</td>\n",
       "      <td>CustomerId_4406</td>\n",
       "      <td>0.0</td>\n",
       "      <td>2</td>\n",
       "      <td>airtime</td>\n",
       "      <td>ProductId_10</td>\n",
       "      <td>ProviderId_6</td>\n",
       "      <td>SubscriptionId_887</td>\n",
       "      <td>TransactionId_76871</td>\n",
       "      <td>2018-11-15T02:18:49Z</td>\n",
       "      <td>1000</td>\n",
       "    </tr>\n",
       "    <tr>\n",
       "      <td>1</td>\n",
       "      <td>AccountId_4841</td>\n",
       "      <td>-20.0</td>\n",
       "      <td>BatchId_15642</td>\n",
       "      <td>ChannelId_2</td>\n",
       "      <td>256</td>\n",
       "      <td>UGX</td>\n",
       "      <td>CustomerId_4406</td>\n",
       "      <td>0.0</td>\n",
       "      <td>2</td>\n",
       "      <td>financial_services</td>\n",
       "      <td>ProductId_6</td>\n",
       "      <td>ProviderId_4</td>\n",
       "      <td>SubscriptionId_3829</td>\n",
       "      <td>TransactionId_73770</td>\n",
       "      <td>2018-11-15T02:19:08Z</td>\n",
       "      <td>20</td>\n",
       "    </tr>\n",
       "    <tr>\n",
       "      <td>2</td>\n",
       "      <td>AccountId_4229</td>\n",
       "      <td>500.0</td>\n",
       "      <td>BatchId_53941</td>\n",
       "      <td>ChannelId_3</td>\n",
       "      <td>256</td>\n",
       "      <td>UGX</td>\n",
       "      <td>CustomerId_4683</td>\n",
       "      <td>0.0</td>\n",
       "      <td>2</td>\n",
       "      <td>airtime</td>\n",
       "      <td>ProductId_1</td>\n",
       "      <td>ProviderId_6</td>\n",
       "      <td>SubscriptionId_222</td>\n",
       "      <td>TransactionId_26203</td>\n",
       "      <td>2018-11-15T02:44:21Z</td>\n",
       "      <td>500</td>\n",
       "    </tr>\n",
       "    <tr>\n",
       "      <td>3</td>\n",
       "      <td>AccountId_648</td>\n",
       "      <td>20000.0</td>\n",
       "      <td>BatchId_102363</td>\n",
       "      <td>ChannelId_3</td>\n",
       "      <td>256</td>\n",
       "      <td>UGX</td>\n",
       "      <td>CustomerId_988</td>\n",
       "      <td>0.0</td>\n",
       "      <td>2</td>\n",
       "      <td>utility_bill</td>\n",
       "      <td>ProductId_21</td>\n",
       "      <td>ProviderId_1</td>\n",
       "      <td>SubscriptionId_2185</td>\n",
       "      <td>TransactionId_380</td>\n",
       "      <td>2018-11-15T03:32:55Z</td>\n",
       "      <td>21800</td>\n",
       "    </tr>\n",
       "    <tr>\n",
       "      <td>4</td>\n",
       "      <td>AccountId_4841</td>\n",
       "      <td>-644.0</td>\n",
       "      <td>BatchId_38780</td>\n",
       "      <td>ChannelId_2</td>\n",
       "      <td>256</td>\n",
       "      <td>UGX</td>\n",
       "      <td>CustomerId_988</td>\n",
       "      <td>0.0</td>\n",
       "      <td>2</td>\n",
       "      <td>financial_services</td>\n",
       "      <td>ProductId_6</td>\n",
       "      <td>ProviderId_4</td>\n",
       "      <td>SubscriptionId_3829</td>\n",
       "      <td>TransactionId_28195</td>\n",
       "      <td>2018-11-15T03:34:21Z</td>\n",
       "      <td>644</td>\n",
       "    </tr>\n",
       "  </tbody>\n",
       "</table>\n",
       "</div>"
      ],
      "text/plain": [
       "        AccountId   Amount         BatchId    ChannelId  CountryCode  \\\n",
       "0  AccountId_3957   1000.0   BatchId_36123  ChannelId_3          256   \n",
       "1  AccountId_4841    -20.0   BatchId_15642  ChannelId_2          256   \n",
       "2  AccountId_4229    500.0   BatchId_53941  ChannelId_3          256   \n",
       "3   AccountId_648  20000.0  BatchId_102363  ChannelId_3          256   \n",
       "4  AccountId_4841   -644.0   BatchId_38780  ChannelId_2          256   \n",
       "\n",
       "  CurrencyCode       CustomerId  FraudResult  PricingStrategy  \\\n",
       "0          UGX  CustomerId_4406          0.0                2   \n",
       "1          UGX  CustomerId_4406          0.0                2   \n",
       "2          UGX  CustomerId_4683          0.0                2   \n",
       "3          UGX   CustomerId_988          0.0                2   \n",
       "4          UGX   CustomerId_988          0.0                2   \n",
       "\n",
       "      ProductCategory     ProductId    ProviderId       SubscriptionId  \\\n",
       "0             airtime  ProductId_10  ProviderId_6   SubscriptionId_887   \n",
       "1  financial_services   ProductId_6  ProviderId_4  SubscriptionId_3829   \n",
       "2             airtime   ProductId_1  ProviderId_6   SubscriptionId_222   \n",
       "3        utility_bill  ProductId_21  ProviderId_1  SubscriptionId_2185   \n",
       "4  financial_services   ProductId_6  ProviderId_4  SubscriptionId_3829   \n",
       "\n",
       "         TransactionId  TransactionStartTime  Value  \n",
       "0  TransactionId_76871  2018-11-15T02:18:49Z   1000  \n",
       "1  TransactionId_73770  2018-11-15T02:19:08Z     20  \n",
       "2  TransactionId_26203  2018-11-15T02:44:21Z    500  \n",
       "3    TransactionId_380  2018-11-15T03:32:55Z  21800  \n",
       "4  TransactionId_28195  2018-11-15T03:34:21Z    644  "
      ]
     },
     "execution_count": 111,
     "metadata": {},
     "output_type": "execute_result"
    }
   ],
   "source": [
    "cmdata.head()"
   ]
  },
  {
   "cell_type": "code",
   "execution_count": 112,
   "metadata": {
    "ExecuteTime": {
     "end_time": "2019-09-22T13:14:55.265342Z",
     "start_time": "2019-09-22T13:14:55.248345Z"
    }
   },
   "outputs": [],
   "source": [
    "from sklearn.preprocessing import LabelEncoder\n",
    "label = LabelEncoder()"
   ]
  },
  {
   "cell_type": "code",
   "execution_count": 113,
   "metadata": {
    "ExecuteTime": {
     "end_time": "2019-09-22T13:15:14.152181Z",
     "start_time": "2019-09-22T13:15:13.980195Z"
    }
   },
   "outputs": [],
   "source": [
    "cmdata['subs'] = label.fit_transform(cmdata.SubscriptionId)"
   ]
  },
  {
   "cell_type": "code",
   "execution_count": 114,
   "metadata": {
    "ExecuteTime": {
     "end_time": "2019-09-22T13:15:35.005916Z",
     "start_time": "2019-09-22T13:15:34.896917Z"
    }
   },
   "outputs": [
    {
     "data": {
      "text/html": [
       "<div>\n",
       "<style scoped>\n",
       "    .dataframe tbody tr th:only-of-type {\n",
       "        vertical-align: middle;\n",
       "    }\n",
       "\n",
       "    .dataframe tbody tr th {\n",
       "        vertical-align: top;\n",
       "    }\n",
       "\n",
       "    .dataframe thead th {\n",
       "        text-align: right;\n",
       "    }\n",
       "</style>\n",
       "<table border=\"1\" class=\"dataframe\">\n",
       "  <thead>\n",
       "    <tr style=\"text-align: right;\">\n",
       "      <th></th>\n",
       "      <th>AccountId</th>\n",
       "      <th>Amount</th>\n",
       "      <th>BatchId</th>\n",
       "      <th>ChannelId</th>\n",
       "      <th>CountryCode</th>\n",
       "      <th>CurrencyCode</th>\n",
       "      <th>CustomerId</th>\n",
       "      <th>FraudResult</th>\n",
       "      <th>PricingStrategy</th>\n",
       "      <th>ProductCategory</th>\n",
       "      <th>ProductId</th>\n",
       "      <th>ProviderId</th>\n",
       "      <th>SubscriptionId</th>\n",
       "      <th>TransactionId</th>\n",
       "      <th>TransactionStartTime</th>\n",
       "      <th>Value</th>\n",
       "      <th>subs</th>\n",
       "    </tr>\n",
       "  </thead>\n",
       "  <tbody>\n",
       "    <tr>\n",
       "      <td>0</td>\n",
       "      <td>AccountId_3957</td>\n",
       "      <td>1000.0</td>\n",
       "      <td>BatchId_36123</td>\n",
       "      <td>ChannelId_3</td>\n",
       "      <td>256</td>\n",
       "      <td>UGX</td>\n",
       "      <td>CustomerId_4406</td>\n",
       "      <td>0.0</td>\n",
       "      <td>2</td>\n",
       "      <td>airtime</td>\n",
       "      <td>ProductId_10</td>\n",
       "      <td>ProviderId_6</td>\n",
       "      <td>SubscriptionId_887</td>\n",
       "      <td>TransactionId_76871</td>\n",
       "      <td>2018-11-15T02:18:49Z</td>\n",
       "      <td>1000</td>\n",
       "      <td>4711</td>\n",
       "    </tr>\n",
       "    <tr>\n",
       "      <td>1</td>\n",
       "      <td>AccountId_4841</td>\n",
       "      <td>-20.0</td>\n",
       "      <td>BatchId_15642</td>\n",
       "      <td>ChannelId_2</td>\n",
       "      <td>256</td>\n",
       "      <td>UGX</td>\n",
       "      <td>CustomerId_4406</td>\n",
       "      <td>0.0</td>\n",
       "      <td>2</td>\n",
       "      <td>financial_services</td>\n",
       "      <td>ProductId_6</td>\n",
       "      <td>ProviderId_4</td>\n",
       "      <td>SubscriptionId_3829</td>\n",
       "      <td>TransactionId_73770</td>\n",
       "      <td>2018-11-15T02:19:08Z</td>\n",
       "      <td>20</td>\n",
       "      <td>3144</td>\n",
       "    </tr>\n",
       "    <tr>\n",
       "      <td>2</td>\n",
       "      <td>AccountId_4229</td>\n",
       "      <td>500.0</td>\n",
       "      <td>BatchId_53941</td>\n",
       "      <td>ChannelId_3</td>\n",
       "      <td>256</td>\n",
       "      <td>UGX</td>\n",
       "      <td>CustomerId_4683</td>\n",
       "      <td>0.0</td>\n",
       "      <td>2</td>\n",
       "      <td>airtime</td>\n",
       "      <td>ProductId_1</td>\n",
       "      <td>ProviderId_6</td>\n",
       "      <td>SubscriptionId_222</td>\n",
       "      <td>TransactionId_26203</td>\n",
       "      <td>2018-11-15T02:44:21Z</td>\n",
       "      <td>500</td>\n",
       "      <td>1357</td>\n",
       "    </tr>\n",
       "    <tr>\n",
       "      <td>3</td>\n",
       "      <td>AccountId_648</td>\n",
       "      <td>20000.0</td>\n",
       "      <td>BatchId_102363</td>\n",
       "      <td>ChannelId_3</td>\n",
       "      <td>256</td>\n",
       "      <td>UGX</td>\n",
       "      <td>CustomerId_988</td>\n",
       "      <td>0.0</td>\n",
       "      <td>2</td>\n",
       "      <td>utility_bill</td>\n",
       "      <td>ProductId_21</td>\n",
       "      <td>ProviderId_1</td>\n",
       "      <td>SubscriptionId_2185</td>\n",
       "      <td>TransactionId_380</td>\n",
       "      <td>2018-11-15T03:32:55Z</td>\n",
       "      <td>21800</td>\n",
       "      <td>1318</td>\n",
       "    </tr>\n",
       "    <tr>\n",
       "      <td>4</td>\n",
       "      <td>AccountId_4841</td>\n",
       "      <td>-644.0</td>\n",
       "      <td>BatchId_38780</td>\n",
       "      <td>ChannelId_2</td>\n",
       "      <td>256</td>\n",
       "      <td>UGX</td>\n",
       "      <td>CustomerId_988</td>\n",
       "      <td>0.0</td>\n",
       "      <td>2</td>\n",
       "      <td>financial_services</td>\n",
       "      <td>ProductId_6</td>\n",
       "      <td>ProviderId_4</td>\n",
       "      <td>SubscriptionId_3829</td>\n",
       "      <td>TransactionId_28195</td>\n",
       "      <td>2018-11-15T03:34:21Z</td>\n",
       "      <td>644</td>\n",
       "      <td>3144</td>\n",
       "    </tr>\n",
       "  </tbody>\n",
       "</table>\n",
       "</div>"
      ],
      "text/plain": [
       "        AccountId   Amount         BatchId    ChannelId  CountryCode  \\\n",
       "0  AccountId_3957   1000.0   BatchId_36123  ChannelId_3          256   \n",
       "1  AccountId_4841    -20.0   BatchId_15642  ChannelId_2          256   \n",
       "2  AccountId_4229    500.0   BatchId_53941  ChannelId_3          256   \n",
       "3   AccountId_648  20000.0  BatchId_102363  ChannelId_3          256   \n",
       "4  AccountId_4841   -644.0   BatchId_38780  ChannelId_2          256   \n",
       "\n",
       "  CurrencyCode       CustomerId  FraudResult  PricingStrategy  \\\n",
       "0          UGX  CustomerId_4406          0.0                2   \n",
       "1          UGX  CustomerId_4406          0.0                2   \n",
       "2          UGX  CustomerId_4683          0.0                2   \n",
       "3          UGX   CustomerId_988          0.0                2   \n",
       "4          UGX   CustomerId_988          0.0                2   \n",
       "\n",
       "      ProductCategory     ProductId    ProviderId       SubscriptionId  \\\n",
       "0             airtime  ProductId_10  ProviderId_6   SubscriptionId_887   \n",
       "1  financial_services   ProductId_6  ProviderId_4  SubscriptionId_3829   \n",
       "2             airtime   ProductId_1  ProviderId_6   SubscriptionId_222   \n",
       "3        utility_bill  ProductId_21  ProviderId_1  SubscriptionId_2185   \n",
       "4  financial_services   ProductId_6  ProviderId_4  SubscriptionId_3829   \n",
       "\n",
       "         TransactionId  TransactionStartTime  Value  subs  \n",
       "0  TransactionId_76871  2018-11-15T02:18:49Z   1000  4711  \n",
       "1  TransactionId_73770  2018-11-15T02:19:08Z     20  3144  \n",
       "2  TransactionId_26203  2018-11-15T02:44:21Z    500  1357  \n",
       "3    TransactionId_380  2018-11-15T03:32:55Z  21800  1318  \n",
       "4  TransactionId_28195  2018-11-15T03:34:21Z    644  3144  "
      ]
     },
     "execution_count": 114,
     "metadata": {},
     "output_type": "execute_result"
    }
   ],
   "source": [
    "cmdata.head()"
   ]
  },
  {
   "cell_type": "code",
   "execution_count": 115,
   "metadata": {
    "ExecuteTime": {
     "end_time": "2019-09-22T13:15:54.570692Z",
     "start_time": "2019-09-22T13:15:54.330704Z"
    }
   },
   "outputs": [
    {
     "data": {
      "text/html": [
       "<div>\n",
       "<style scoped>\n",
       "    .dataframe tbody tr th:only-of-type {\n",
       "        vertical-align: middle;\n",
       "    }\n",
       "\n",
       "    .dataframe tbody tr th {\n",
       "        vertical-align: top;\n",
       "    }\n",
       "\n",
       "    .dataframe thead th {\n",
       "        text-align: right;\n",
       "    }\n",
       "</style>\n",
       "<table border=\"1\" class=\"dataframe\">\n",
       "  <thead>\n",
       "    <tr style=\"text-align: right;\">\n",
       "      <th></th>\n",
       "      <th>Amount</th>\n",
       "      <th>CountryCode</th>\n",
       "      <th>FraudResult</th>\n",
       "      <th>PricingStrategy</th>\n",
       "      <th>Value</th>\n",
       "      <th>subs</th>\n",
       "    </tr>\n",
       "  </thead>\n",
       "  <tbody>\n",
       "    <tr>\n",
       "      <td>count</td>\n",
       "      <td>1.406810e+05</td>\n",
       "      <td>140681.0</td>\n",
       "      <td>95662.000000</td>\n",
       "      <td>140681.000000</td>\n",
       "      <td>1.406810e+05</td>\n",
       "      <td>140681.000000</td>\n",
       "    </tr>\n",
       "    <tr>\n",
       "      <td>mean</td>\n",
       "      <td>6.050578e+03</td>\n",
       "      <td>256.0</td>\n",
       "      <td>0.002018</td>\n",
       "      <td>2.257469</td>\n",
       "      <td>1.002851e+04</td>\n",
       "      <td>2747.101250</td>\n",
       "    </tr>\n",
       "    <tr>\n",
       "      <td>std</td>\n",
       "      <td>1.153134e+05</td>\n",
       "      <td>0.0</td>\n",
       "      <td>0.044872</td>\n",
       "      <td>0.735089</td>\n",
       "      <td>1.150626e+05</td>\n",
       "      <td>1155.523218</td>\n",
       "    </tr>\n",
       "    <tr>\n",
       "      <td>min</td>\n",
       "      <td>-2.500000e+06</td>\n",
       "      <td>256.0</td>\n",
       "      <td>0.000000</td>\n",
       "      <td>0.000000</td>\n",
       "      <td>2.000000e+00</td>\n",
       "      <td>0.000000</td>\n",
       "    </tr>\n",
       "    <tr>\n",
       "      <td>25%</td>\n",
       "      <td>-5.000000e+01</td>\n",
       "      <td>256.0</td>\n",
       "      <td>0.000000</td>\n",
       "      <td>2.000000</td>\n",
       "      <td>3.920000e+02</td>\n",
       "      <td>2128.000000</td>\n",
       "    </tr>\n",
       "    <tr>\n",
       "      <td>50%</td>\n",
       "      <td>1.000000e+03</td>\n",
       "      <td>256.0</td>\n",
       "      <td>0.000000</td>\n",
       "      <td>2.000000</td>\n",
       "      <td>1.000000e+03</td>\n",
       "      <td>3144.000000</td>\n",
       "    </tr>\n",
       "    <tr>\n",
       "      <td>75%</td>\n",
       "      <td>3.000000e+03</td>\n",
       "      <td>256.0</td>\n",
       "      <td>0.000000</td>\n",
       "      <td>2.000000</td>\n",
       "      <td>5.000000e+03</td>\n",
       "      <td>3185.000000</td>\n",
       "    </tr>\n",
       "    <tr>\n",
       "      <td>max</td>\n",
       "      <td>9.880000e+06</td>\n",
       "      <td>256.0</td>\n",
       "      <td>1.000000</td>\n",
       "      <td>4.000000</td>\n",
       "      <td>9.880000e+06</td>\n",
       "      <td>4835.000000</td>\n",
       "    </tr>\n",
       "  </tbody>\n",
       "</table>\n",
       "</div>"
      ],
      "text/plain": [
       "             Amount  CountryCode   FraudResult  PricingStrategy         Value  \\\n",
       "count  1.406810e+05     140681.0  95662.000000    140681.000000  1.406810e+05   \n",
       "mean   6.050578e+03        256.0      0.002018         2.257469  1.002851e+04   \n",
       "std    1.153134e+05          0.0      0.044872         0.735089  1.150626e+05   \n",
       "min   -2.500000e+06        256.0      0.000000         0.000000  2.000000e+00   \n",
       "25%   -5.000000e+01        256.0      0.000000         2.000000  3.920000e+02   \n",
       "50%    1.000000e+03        256.0      0.000000         2.000000  1.000000e+03   \n",
       "75%    3.000000e+03        256.0      0.000000         2.000000  5.000000e+03   \n",
       "max    9.880000e+06        256.0      1.000000         4.000000  9.880000e+06   \n",
       "\n",
       "                subs  \n",
       "count  140681.000000  \n",
       "mean     2747.101250  \n",
       "std      1155.523218  \n",
       "min         0.000000  \n",
       "25%      2128.000000  \n",
       "50%      3144.000000  \n",
       "75%      3185.000000  \n",
       "max      4835.000000  "
      ]
     },
     "execution_count": 115,
     "metadata": {},
     "output_type": "execute_result"
    }
   ],
   "source": [
    "cmdata.describe()"
   ]
  },
  {
   "cell_type": "code",
   "execution_count": 116,
   "metadata": {
    "ExecuteTime": {
     "end_time": "2019-09-22T13:16:11.842613Z",
     "start_time": "2019-09-22T13:16:11.826613Z"
    }
   },
   "outputs": [
    {
     "data": {
      "text/plain": [
       "(140681, 17)"
      ]
     },
     "execution_count": 116,
     "metadata": {},
     "output_type": "execute_result"
    }
   ],
   "source": [
    "cmdata.shape"
   ]
  },
  {
   "cell_type": "code",
   "execution_count": 117,
   "metadata": {
    "ExecuteTime": {
     "end_time": "2019-09-22T13:17:22.847781Z",
     "start_time": "2019-09-22T13:17:21.510867Z"
    }
   },
   "outputs": [],
   "source": [
    "for col in ['SubscriptionId', 'BatchId', \"CustomerId\", 'TransactionId']:\n",
    "    cmdata[col.lower()] = cmdata[col].astype('str').apply(lambda x: x.split('_')[1])\n",
    "    cmdata[col.lower()]= cmdata[col.lower()].astype(int)"
   ]
  },
  {
   "cell_type": "markdown",
   "metadata": {},
   "source": [
    "### Drop ID column"
   ]
  },
  {
   "cell_type": "code",
   "execution_count": 118,
   "metadata": {
    "ExecuteTime": {
     "end_time": "2019-09-22T13:18:17.698283Z",
     "start_time": "2019-09-22T13:18:17.635286Z"
    }
   },
   "outputs": [],
   "source": [
    "cmdata.drop(['SubscriptionId', 'BatchId', \"CustomerId\", 'TransactionId'], axis=1, inplace=True)"
   ]
  },
  {
   "cell_type": "code",
   "execution_count": 119,
   "metadata": {
    "ExecuteTime": {
     "end_time": "2019-09-22T13:18:36.214181Z",
     "start_time": "2019-09-22T13:18:36.084176Z"
    }
   },
   "outputs": [
    {
     "data": {
      "text/html": [
       "<div>\n",
       "<style scoped>\n",
       "    .dataframe tbody tr th:only-of-type {\n",
       "        vertical-align: middle;\n",
       "    }\n",
       "\n",
       "    .dataframe tbody tr th {\n",
       "        vertical-align: top;\n",
       "    }\n",
       "\n",
       "    .dataframe thead th {\n",
       "        text-align: right;\n",
       "    }\n",
       "</style>\n",
       "<table border=\"1\" class=\"dataframe\">\n",
       "  <thead>\n",
       "    <tr style=\"text-align: right;\">\n",
       "      <th></th>\n",
       "      <th>AccountId</th>\n",
       "      <th>Amount</th>\n",
       "      <th>ChannelId</th>\n",
       "      <th>CountryCode</th>\n",
       "      <th>CurrencyCode</th>\n",
       "      <th>FraudResult</th>\n",
       "      <th>PricingStrategy</th>\n",
       "      <th>ProductCategory</th>\n",
       "      <th>ProductId</th>\n",
       "      <th>ProviderId</th>\n",
       "      <th>TransactionStartTime</th>\n",
       "      <th>Value</th>\n",
       "      <th>subs</th>\n",
       "      <th>subscriptionid</th>\n",
       "      <th>batchid</th>\n",
       "      <th>customerid</th>\n",
       "      <th>transactionid</th>\n",
       "    </tr>\n",
       "  </thead>\n",
       "  <tbody>\n",
       "    <tr>\n",
       "      <td>0</td>\n",
       "      <td>AccountId_3957</td>\n",
       "      <td>1000.0</td>\n",
       "      <td>ChannelId_3</td>\n",
       "      <td>256</td>\n",
       "      <td>UGX</td>\n",
       "      <td>0.0</td>\n",
       "      <td>2</td>\n",
       "      <td>airtime</td>\n",
       "      <td>ProductId_10</td>\n",
       "      <td>ProviderId_6</td>\n",
       "      <td>2018-11-15T02:18:49Z</td>\n",
       "      <td>1000</td>\n",
       "      <td>4711</td>\n",
       "      <td>887</td>\n",
       "      <td>36123</td>\n",
       "      <td>4406</td>\n",
       "      <td>76871</td>\n",
       "    </tr>\n",
       "    <tr>\n",
       "      <td>1</td>\n",
       "      <td>AccountId_4841</td>\n",
       "      <td>-20.0</td>\n",
       "      <td>ChannelId_2</td>\n",
       "      <td>256</td>\n",
       "      <td>UGX</td>\n",
       "      <td>0.0</td>\n",
       "      <td>2</td>\n",
       "      <td>financial_services</td>\n",
       "      <td>ProductId_6</td>\n",
       "      <td>ProviderId_4</td>\n",
       "      <td>2018-11-15T02:19:08Z</td>\n",
       "      <td>20</td>\n",
       "      <td>3144</td>\n",
       "      <td>3829</td>\n",
       "      <td>15642</td>\n",
       "      <td>4406</td>\n",
       "      <td>73770</td>\n",
       "    </tr>\n",
       "    <tr>\n",
       "      <td>2</td>\n",
       "      <td>AccountId_4229</td>\n",
       "      <td>500.0</td>\n",
       "      <td>ChannelId_3</td>\n",
       "      <td>256</td>\n",
       "      <td>UGX</td>\n",
       "      <td>0.0</td>\n",
       "      <td>2</td>\n",
       "      <td>airtime</td>\n",
       "      <td>ProductId_1</td>\n",
       "      <td>ProviderId_6</td>\n",
       "      <td>2018-11-15T02:44:21Z</td>\n",
       "      <td>500</td>\n",
       "      <td>1357</td>\n",
       "      <td>222</td>\n",
       "      <td>53941</td>\n",
       "      <td>4683</td>\n",
       "      <td>26203</td>\n",
       "    </tr>\n",
       "    <tr>\n",
       "      <td>3</td>\n",
       "      <td>AccountId_648</td>\n",
       "      <td>20000.0</td>\n",
       "      <td>ChannelId_3</td>\n",
       "      <td>256</td>\n",
       "      <td>UGX</td>\n",
       "      <td>0.0</td>\n",
       "      <td>2</td>\n",
       "      <td>utility_bill</td>\n",
       "      <td>ProductId_21</td>\n",
       "      <td>ProviderId_1</td>\n",
       "      <td>2018-11-15T03:32:55Z</td>\n",
       "      <td>21800</td>\n",
       "      <td>1318</td>\n",
       "      <td>2185</td>\n",
       "      <td>102363</td>\n",
       "      <td>988</td>\n",
       "      <td>380</td>\n",
       "    </tr>\n",
       "    <tr>\n",
       "      <td>4</td>\n",
       "      <td>AccountId_4841</td>\n",
       "      <td>-644.0</td>\n",
       "      <td>ChannelId_2</td>\n",
       "      <td>256</td>\n",
       "      <td>UGX</td>\n",
       "      <td>0.0</td>\n",
       "      <td>2</td>\n",
       "      <td>financial_services</td>\n",
       "      <td>ProductId_6</td>\n",
       "      <td>ProviderId_4</td>\n",
       "      <td>2018-11-15T03:34:21Z</td>\n",
       "      <td>644</td>\n",
       "      <td>3144</td>\n",
       "      <td>3829</td>\n",
       "      <td>38780</td>\n",
       "      <td>988</td>\n",
       "      <td>28195</td>\n",
       "    </tr>\n",
       "  </tbody>\n",
       "</table>\n",
       "</div>"
      ],
      "text/plain": [
       "        AccountId   Amount    ChannelId  CountryCode CurrencyCode  \\\n",
       "0  AccountId_3957   1000.0  ChannelId_3          256          UGX   \n",
       "1  AccountId_4841    -20.0  ChannelId_2          256          UGX   \n",
       "2  AccountId_4229    500.0  ChannelId_3          256          UGX   \n",
       "3   AccountId_648  20000.0  ChannelId_3          256          UGX   \n",
       "4  AccountId_4841   -644.0  ChannelId_2          256          UGX   \n",
       "\n",
       "   FraudResult  PricingStrategy     ProductCategory     ProductId  \\\n",
       "0          0.0                2             airtime  ProductId_10   \n",
       "1          0.0                2  financial_services   ProductId_6   \n",
       "2          0.0                2             airtime   ProductId_1   \n",
       "3          0.0                2        utility_bill  ProductId_21   \n",
       "4          0.0                2  financial_services   ProductId_6   \n",
       "\n",
       "     ProviderId  TransactionStartTime  Value  subs  subscriptionid  batchid  \\\n",
       "0  ProviderId_6  2018-11-15T02:18:49Z   1000  4711             887    36123   \n",
       "1  ProviderId_4  2018-11-15T02:19:08Z     20  3144            3829    15642   \n",
       "2  ProviderId_6  2018-11-15T02:44:21Z    500  1357             222    53941   \n",
       "3  ProviderId_1  2018-11-15T03:32:55Z  21800  1318            2185   102363   \n",
       "4  ProviderId_4  2018-11-15T03:34:21Z    644  3144            3829    38780   \n",
       "\n",
       "   customerid  transactionid  \n",
       "0        4406          76871  \n",
       "1        4406          73770  \n",
       "2        4683          26203  \n",
       "3         988            380  \n",
       "4         988          28195  "
      ]
     },
     "execution_count": 119,
     "metadata": {},
     "output_type": "execute_result"
    }
   ],
   "source": [
    "cmdata.head()"
   ]
  },
  {
   "cell_type": "code",
   "execution_count": 120,
   "metadata": {
    "ExecuteTime": {
     "end_time": "2019-09-22T13:18:54.863044Z",
     "start_time": "2019-09-22T13:18:54.524065Z"
    }
   },
   "outputs": [],
   "source": [
    "cmdata['Time']  = cmdata.TransactionStartTime.astype('str').apply(lambda x: x.split('T')[0])"
   ]
  },
  {
   "cell_type": "code",
   "execution_count": 121,
   "metadata": {
    "ExecuteTime": {
     "end_time": "2019-09-22T13:19:12.709736Z",
     "start_time": "2019-09-22T13:19:12.610741Z"
    }
   },
   "outputs": [
    {
     "data": {
      "text/html": [
       "<div>\n",
       "<style scoped>\n",
       "    .dataframe tbody tr th:only-of-type {\n",
       "        vertical-align: middle;\n",
       "    }\n",
       "\n",
       "    .dataframe tbody tr th {\n",
       "        vertical-align: top;\n",
       "    }\n",
       "\n",
       "    .dataframe thead th {\n",
       "        text-align: right;\n",
       "    }\n",
       "</style>\n",
       "<table border=\"1\" class=\"dataframe\">\n",
       "  <thead>\n",
       "    <tr style=\"text-align: right;\">\n",
       "      <th></th>\n",
       "      <th>AccountId</th>\n",
       "      <th>Amount</th>\n",
       "      <th>ChannelId</th>\n",
       "      <th>CountryCode</th>\n",
       "      <th>CurrencyCode</th>\n",
       "      <th>FraudResult</th>\n",
       "      <th>PricingStrategy</th>\n",
       "      <th>ProductCategory</th>\n",
       "      <th>ProductId</th>\n",
       "      <th>ProviderId</th>\n",
       "      <th>TransactionStartTime</th>\n",
       "      <th>Value</th>\n",
       "      <th>subs</th>\n",
       "      <th>subscriptionid</th>\n",
       "      <th>batchid</th>\n",
       "      <th>customerid</th>\n",
       "      <th>transactionid</th>\n",
       "      <th>Time</th>\n",
       "    </tr>\n",
       "  </thead>\n",
       "  <tbody>\n",
       "    <tr>\n",
       "      <td>0</td>\n",
       "      <td>AccountId_3957</td>\n",
       "      <td>1000.0</td>\n",
       "      <td>ChannelId_3</td>\n",
       "      <td>256</td>\n",
       "      <td>UGX</td>\n",
       "      <td>0.0</td>\n",
       "      <td>2</td>\n",
       "      <td>airtime</td>\n",
       "      <td>ProductId_10</td>\n",
       "      <td>ProviderId_6</td>\n",
       "      <td>2018-11-15T02:18:49Z</td>\n",
       "      <td>1000</td>\n",
       "      <td>4711</td>\n",
       "      <td>887</td>\n",
       "      <td>36123</td>\n",
       "      <td>4406</td>\n",
       "      <td>76871</td>\n",
       "      <td>2018-11-15</td>\n",
       "    </tr>\n",
       "    <tr>\n",
       "      <td>1</td>\n",
       "      <td>AccountId_4841</td>\n",
       "      <td>-20.0</td>\n",
       "      <td>ChannelId_2</td>\n",
       "      <td>256</td>\n",
       "      <td>UGX</td>\n",
       "      <td>0.0</td>\n",
       "      <td>2</td>\n",
       "      <td>financial_services</td>\n",
       "      <td>ProductId_6</td>\n",
       "      <td>ProviderId_4</td>\n",
       "      <td>2018-11-15T02:19:08Z</td>\n",
       "      <td>20</td>\n",
       "      <td>3144</td>\n",
       "      <td>3829</td>\n",
       "      <td>15642</td>\n",
       "      <td>4406</td>\n",
       "      <td>73770</td>\n",
       "      <td>2018-11-15</td>\n",
       "    </tr>\n",
       "    <tr>\n",
       "      <td>2</td>\n",
       "      <td>AccountId_4229</td>\n",
       "      <td>500.0</td>\n",
       "      <td>ChannelId_3</td>\n",
       "      <td>256</td>\n",
       "      <td>UGX</td>\n",
       "      <td>0.0</td>\n",
       "      <td>2</td>\n",
       "      <td>airtime</td>\n",
       "      <td>ProductId_1</td>\n",
       "      <td>ProviderId_6</td>\n",
       "      <td>2018-11-15T02:44:21Z</td>\n",
       "      <td>500</td>\n",
       "      <td>1357</td>\n",
       "      <td>222</td>\n",
       "      <td>53941</td>\n",
       "      <td>4683</td>\n",
       "      <td>26203</td>\n",
       "      <td>2018-11-15</td>\n",
       "    </tr>\n",
       "    <tr>\n",
       "      <td>3</td>\n",
       "      <td>AccountId_648</td>\n",
       "      <td>20000.0</td>\n",
       "      <td>ChannelId_3</td>\n",
       "      <td>256</td>\n",
       "      <td>UGX</td>\n",
       "      <td>0.0</td>\n",
       "      <td>2</td>\n",
       "      <td>utility_bill</td>\n",
       "      <td>ProductId_21</td>\n",
       "      <td>ProviderId_1</td>\n",
       "      <td>2018-11-15T03:32:55Z</td>\n",
       "      <td>21800</td>\n",
       "      <td>1318</td>\n",
       "      <td>2185</td>\n",
       "      <td>102363</td>\n",
       "      <td>988</td>\n",
       "      <td>380</td>\n",
       "      <td>2018-11-15</td>\n",
       "    </tr>\n",
       "    <tr>\n",
       "      <td>4</td>\n",
       "      <td>AccountId_4841</td>\n",
       "      <td>-644.0</td>\n",
       "      <td>ChannelId_2</td>\n",
       "      <td>256</td>\n",
       "      <td>UGX</td>\n",
       "      <td>0.0</td>\n",
       "      <td>2</td>\n",
       "      <td>financial_services</td>\n",
       "      <td>ProductId_6</td>\n",
       "      <td>ProviderId_4</td>\n",
       "      <td>2018-11-15T03:34:21Z</td>\n",
       "      <td>644</td>\n",
       "      <td>3144</td>\n",
       "      <td>3829</td>\n",
       "      <td>38780</td>\n",
       "      <td>988</td>\n",
       "      <td>28195</td>\n",
       "      <td>2018-11-15</td>\n",
       "    </tr>\n",
       "  </tbody>\n",
       "</table>\n",
       "</div>"
      ],
      "text/plain": [
       "        AccountId   Amount    ChannelId  CountryCode CurrencyCode  \\\n",
       "0  AccountId_3957   1000.0  ChannelId_3          256          UGX   \n",
       "1  AccountId_4841    -20.0  ChannelId_2          256          UGX   \n",
       "2  AccountId_4229    500.0  ChannelId_3          256          UGX   \n",
       "3   AccountId_648  20000.0  ChannelId_3          256          UGX   \n",
       "4  AccountId_4841   -644.0  ChannelId_2          256          UGX   \n",
       "\n",
       "   FraudResult  PricingStrategy     ProductCategory     ProductId  \\\n",
       "0          0.0                2             airtime  ProductId_10   \n",
       "1          0.0                2  financial_services   ProductId_6   \n",
       "2          0.0                2             airtime   ProductId_1   \n",
       "3          0.0                2        utility_bill  ProductId_21   \n",
       "4          0.0                2  financial_services   ProductId_6   \n",
       "\n",
       "     ProviderId  TransactionStartTime  Value  subs  subscriptionid  batchid  \\\n",
       "0  ProviderId_6  2018-11-15T02:18:49Z   1000  4711             887    36123   \n",
       "1  ProviderId_4  2018-11-15T02:19:08Z     20  3144            3829    15642   \n",
       "2  ProviderId_6  2018-11-15T02:44:21Z    500  1357             222    53941   \n",
       "3  ProviderId_1  2018-11-15T03:32:55Z  21800  1318            2185   102363   \n",
       "4  ProviderId_4  2018-11-15T03:34:21Z    644  3144            3829    38780   \n",
       "\n",
       "   customerid  transactionid        Time  \n",
       "0        4406          76871  2018-11-15  \n",
       "1        4406          73770  2018-11-15  \n",
       "2        4683          26203  2018-11-15  \n",
       "3         988            380  2018-11-15  \n",
       "4         988          28195  2018-11-15  "
      ]
     },
     "execution_count": 121,
     "metadata": {},
     "output_type": "execute_result"
    }
   ],
   "source": [
    "cmdata.head()"
   ]
  },
  {
   "cell_type": "code",
   "execution_count": 122,
   "metadata": {
    "ExecuteTime": {
     "end_time": "2019-09-22T13:19:29.628680Z",
     "start_time": "2019-09-22T13:19:29.584685Z"
    }
   },
   "outputs": [
    {
     "data": {
      "text/plain": [
       "AccountId                object\n",
       "Amount                  float64\n",
       "ChannelId                object\n",
       "CountryCode               int64\n",
       "CurrencyCode             object\n",
       "FraudResult             float64\n",
       "PricingStrategy           int64\n",
       "ProductCategory          object\n",
       "ProductId                object\n",
       "ProviderId               object\n",
       "TransactionStartTime     object\n",
       "Value                     int64\n",
       "subs                      int32\n",
       "subscriptionid            int32\n",
       "batchid                   int32\n",
       "customerid                int32\n",
       "transactionid             int32\n",
       "Time                     object\n",
       "dtype: object"
      ]
     },
     "execution_count": 122,
     "metadata": {},
     "output_type": "execute_result"
    }
   ],
   "source": [
    "cmdata.dtypes"
   ]
  },
  {
   "cell_type": "code",
   "execution_count": 123,
   "metadata": {
    "ExecuteTime": {
     "end_time": "2019-09-22T13:19:46.444632Z",
     "start_time": "2019-09-22T13:19:46.236645Z"
    }
   },
   "outputs": [],
   "source": [
    "cmdata.Time = pd.to_datetime(cmdata.Time)"
   ]
  },
  {
   "cell_type": "code",
   "execution_count": 124,
   "metadata": {
    "ExecuteTime": {
     "end_time": "2019-09-22T13:20:03.465570Z",
     "start_time": "2019-09-22T13:20:03.431574Z"
    }
   },
   "outputs": [
    {
     "data": {
      "text/plain": [
       "AccountId                       object\n",
       "Amount                         float64\n",
       "ChannelId                       object\n",
       "CountryCode                      int64\n",
       "CurrencyCode                    object\n",
       "FraudResult                    float64\n",
       "PricingStrategy                  int64\n",
       "ProductCategory                 object\n",
       "ProductId                       object\n",
       "ProviderId                      object\n",
       "TransactionStartTime            object\n",
       "Value                            int64\n",
       "subs                             int32\n",
       "subscriptionid                   int32\n",
       "batchid                          int32\n",
       "customerid                       int32\n",
       "transactionid                    int32\n",
       "Time                    datetime64[ns]\n",
       "dtype: object"
      ]
     },
     "execution_count": 124,
     "metadata": {},
     "output_type": "execute_result"
    }
   ],
   "source": [
    "cmdata.dtypes"
   ]
  },
  {
   "cell_type": "markdown",
   "metadata": {},
   "source": [
    "### Pre-process the time"
   ]
  },
  {
   "cell_type": "code",
   "execution_count": 125,
   "metadata": {
    "ExecuteTime": {
     "end_time": "2019-09-22T13:20:21.145022Z",
     "start_time": "2019-09-22T13:20:20.900009Z"
    }
   },
   "outputs": [],
   "source": [
    "cmdata['Week'] = cmdata['Time'].dt.weekday_name\n",
    "cmdata['DOW'] = cmdata.Time.dt.dayofweek\n"
   ]
  },
  {
   "cell_type": "code",
   "execution_count": 126,
   "metadata": {
    "ExecuteTime": {
     "end_time": "2019-09-22T13:20:38.525453Z",
     "start_time": "2019-09-22T13:20:38.422459Z"
    }
   },
   "outputs": [
    {
     "data": {
      "text/html": [
       "<div>\n",
       "<style scoped>\n",
       "    .dataframe tbody tr th:only-of-type {\n",
       "        vertical-align: middle;\n",
       "    }\n",
       "\n",
       "    .dataframe tbody tr th {\n",
       "        vertical-align: top;\n",
       "    }\n",
       "\n",
       "    .dataframe thead th {\n",
       "        text-align: right;\n",
       "    }\n",
       "</style>\n",
       "<table border=\"1\" class=\"dataframe\">\n",
       "  <thead>\n",
       "    <tr style=\"text-align: right;\">\n",
       "      <th></th>\n",
       "      <th>AccountId</th>\n",
       "      <th>Amount</th>\n",
       "      <th>ChannelId</th>\n",
       "      <th>CountryCode</th>\n",
       "      <th>CurrencyCode</th>\n",
       "      <th>FraudResult</th>\n",
       "      <th>PricingStrategy</th>\n",
       "      <th>ProductCategory</th>\n",
       "      <th>ProductId</th>\n",
       "      <th>ProviderId</th>\n",
       "      <th>TransactionStartTime</th>\n",
       "      <th>Value</th>\n",
       "      <th>subs</th>\n",
       "      <th>subscriptionid</th>\n",
       "      <th>batchid</th>\n",
       "      <th>customerid</th>\n",
       "      <th>transactionid</th>\n",
       "      <th>Time</th>\n",
       "      <th>Week</th>\n",
       "      <th>DOW</th>\n",
       "    </tr>\n",
       "  </thead>\n",
       "  <tbody>\n",
       "    <tr>\n",
       "      <td>0</td>\n",
       "      <td>AccountId_3957</td>\n",
       "      <td>1000.0</td>\n",
       "      <td>ChannelId_3</td>\n",
       "      <td>256</td>\n",
       "      <td>UGX</td>\n",
       "      <td>0.0</td>\n",
       "      <td>2</td>\n",
       "      <td>airtime</td>\n",
       "      <td>ProductId_10</td>\n",
       "      <td>ProviderId_6</td>\n",
       "      <td>2018-11-15T02:18:49Z</td>\n",
       "      <td>1000</td>\n",
       "      <td>4711</td>\n",
       "      <td>887</td>\n",
       "      <td>36123</td>\n",
       "      <td>4406</td>\n",
       "      <td>76871</td>\n",
       "      <td>2018-11-15</td>\n",
       "      <td>Thursday</td>\n",
       "      <td>3</td>\n",
       "    </tr>\n",
       "    <tr>\n",
       "      <td>1</td>\n",
       "      <td>AccountId_4841</td>\n",
       "      <td>-20.0</td>\n",
       "      <td>ChannelId_2</td>\n",
       "      <td>256</td>\n",
       "      <td>UGX</td>\n",
       "      <td>0.0</td>\n",
       "      <td>2</td>\n",
       "      <td>financial_services</td>\n",
       "      <td>ProductId_6</td>\n",
       "      <td>ProviderId_4</td>\n",
       "      <td>2018-11-15T02:19:08Z</td>\n",
       "      <td>20</td>\n",
       "      <td>3144</td>\n",
       "      <td>3829</td>\n",
       "      <td>15642</td>\n",
       "      <td>4406</td>\n",
       "      <td>73770</td>\n",
       "      <td>2018-11-15</td>\n",
       "      <td>Thursday</td>\n",
       "      <td>3</td>\n",
       "    </tr>\n",
       "    <tr>\n",
       "      <td>2</td>\n",
       "      <td>AccountId_4229</td>\n",
       "      <td>500.0</td>\n",
       "      <td>ChannelId_3</td>\n",
       "      <td>256</td>\n",
       "      <td>UGX</td>\n",
       "      <td>0.0</td>\n",
       "      <td>2</td>\n",
       "      <td>airtime</td>\n",
       "      <td>ProductId_1</td>\n",
       "      <td>ProviderId_6</td>\n",
       "      <td>2018-11-15T02:44:21Z</td>\n",
       "      <td>500</td>\n",
       "      <td>1357</td>\n",
       "      <td>222</td>\n",
       "      <td>53941</td>\n",
       "      <td>4683</td>\n",
       "      <td>26203</td>\n",
       "      <td>2018-11-15</td>\n",
       "      <td>Thursday</td>\n",
       "      <td>3</td>\n",
       "    </tr>\n",
       "    <tr>\n",
       "      <td>3</td>\n",
       "      <td>AccountId_648</td>\n",
       "      <td>20000.0</td>\n",
       "      <td>ChannelId_3</td>\n",
       "      <td>256</td>\n",
       "      <td>UGX</td>\n",
       "      <td>0.0</td>\n",
       "      <td>2</td>\n",
       "      <td>utility_bill</td>\n",
       "      <td>ProductId_21</td>\n",
       "      <td>ProviderId_1</td>\n",
       "      <td>2018-11-15T03:32:55Z</td>\n",
       "      <td>21800</td>\n",
       "      <td>1318</td>\n",
       "      <td>2185</td>\n",
       "      <td>102363</td>\n",
       "      <td>988</td>\n",
       "      <td>380</td>\n",
       "      <td>2018-11-15</td>\n",
       "      <td>Thursday</td>\n",
       "      <td>3</td>\n",
       "    </tr>\n",
       "    <tr>\n",
       "      <td>4</td>\n",
       "      <td>AccountId_4841</td>\n",
       "      <td>-644.0</td>\n",
       "      <td>ChannelId_2</td>\n",
       "      <td>256</td>\n",
       "      <td>UGX</td>\n",
       "      <td>0.0</td>\n",
       "      <td>2</td>\n",
       "      <td>financial_services</td>\n",
       "      <td>ProductId_6</td>\n",
       "      <td>ProviderId_4</td>\n",
       "      <td>2018-11-15T03:34:21Z</td>\n",
       "      <td>644</td>\n",
       "      <td>3144</td>\n",
       "      <td>3829</td>\n",
       "      <td>38780</td>\n",
       "      <td>988</td>\n",
       "      <td>28195</td>\n",
       "      <td>2018-11-15</td>\n",
       "      <td>Thursday</td>\n",
       "      <td>3</td>\n",
       "    </tr>\n",
       "  </tbody>\n",
       "</table>\n",
       "</div>"
      ],
      "text/plain": [
       "        AccountId   Amount    ChannelId  CountryCode CurrencyCode  \\\n",
       "0  AccountId_3957   1000.0  ChannelId_3          256          UGX   \n",
       "1  AccountId_4841    -20.0  ChannelId_2          256          UGX   \n",
       "2  AccountId_4229    500.0  ChannelId_3          256          UGX   \n",
       "3   AccountId_648  20000.0  ChannelId_3          256          UGX   \n",
       "4  AccountId_4841   -644.0  ChannelId_2          256          UGX   \n",
       "\n",
       "   FraudResult  PricingStrategy     ProductCategory     ProductId  \\\n",
       "0          0.0                2             airtime  ProductId_10   \n",
       "1          0.0                2  financial_services   ProductId_6   \n",
       "2          0.0                2             airtime   ProductId_1   \n",
       "3          0.0                2        utility_bill  ProductId_21   \n",
       "4          0.0                2  financial_services   ProductId_6   \n",
       "\n",
       "     ProviderId  TransactionStartTime  Value  subs  subscriptionid  batchid  \\\n",
       "0  ProviderId_6  2018-11-15T02:18:49Z   1000  4711             887    36123   \n",
       "1  ProviderId_4  2018-11-15T02:19:08Z     20  3144            3829    15642   \n",
       "2  ProviderId_6  2018-11-15T02:44:21Z    500  1357             222    53941   \n",
       "3  ProviderId_1  2018-11-15T03:32:55Z  21800  1318            2185   102363   \n",
       "4  ProviderId_4  2018-11-15T03:34:21Z    644  3144            3829    38780   \n",
       "\n",
       "   customerid  transactionid       Time      Week  DOW  \n",
       "0        4406          76871 2018-11-15  Thursday    3  \n",
       "1        4406          73770 2018-11-15  Thursday    3  \n",
       "2        4683          26203 2018-11-15  Thursday    3  \n",
       "3         988            380 2018-11-15  Thursday    3  \n",
       "4         988          28195 2018-11-15  Thursday    3  "
      ]
     },
     "execution_count": 126,
     "metadata": {},
     "output_type": "execute_result"
    }
   ],
   "source": [
    "cmdata.head()"
   ]
  },
  {
   "cell_type": "code",
   "execution_count": 127,
   "metadata": {
    "ExecuteTime": {
     "end_time": "2019-09-22T13:20:56.011405Z",
     "start_time": "2019-09-22T13:20:55.993405Z"
    }
   },
   "outputs": [],
   "source": [
    "cmdata['P'] = cmdata.PricingStrategy"
   ]
  },
  {
   "cell_type": "code",
   "execution_count": 128,
   "metadata": {
    "ExecuteTime": {
     "end_time": "2019-09-22T13:21:14.045434Z",
     "start_time": "2019-09-22T13:21:14.029434Z"
    }
   },
   "outputs": [],
   "source": [
    "col = ['P']"
   ]
  },
  {
   "cell_type": "code",
   "execution_count": 129,
   "metadata": {
    "ExecuteTime": {
     "end_time": "2019-09-22T13:21:31.935244Z",
     "start_time": "2019-09-22T13:21:31.311617Z"
    }
   },
   "outputs": [],
   "source": [
    "cmdata.P = cmdata[col].astype('str')"
   ]
  },
  {
   "cell_type": "code",
   "execution_count": 130,
   "metadata": {
    "ExecuteTime": {
     "end_time": "2019-09-22T13:21:49.178713Z",
     "start_time": "2019-09-22T13:21:49.026721Z"
    }
   },
   "outputs": [
    {
     "data": {
      "text/html": [
       "<div>\n",
       "<style scoped>\n",
       "    .dataframe tbody tr th:only-of-type {\n",
       "        vertical-align: middle;\n",
       "    }\n",
       "\n",
       "    .dataframe tbody tr th {\n",
       "        vertical-align: top;\n",
       "    }\n",
       "\n",
       "    .dataframe thead th {\n",
       "        text-align: right;\n",
       "    }\n",
       "</style>\n",
       "<table border=\"1\" class=\"dataframe\">\n",
       "  <thead>\n",
       "    <tr style=\"text-align: right;\">\n",
       "      <th></th>\n",
       "      <th>AccountId</th>\n",
       "      <th>Amount</th>\n",
       "      <th>ChannelId</th>\n",
       "      <th>CountryCode</th>\n",
       "      <th>CurrencyCode</th>\n",
       "      <th>FraudResult</th>\n",
       "      <th>PricingStrategy</th>\n",
       "      <th>ProductCategory</th>\n",
       "      <th>ProductId</th>\n",
       "      <th>ProviderId</th>\n",
       "      <th>...</th>\n",
       "      <th>Value</th>\n",
       "      <th>subs</th>\n",
       "      <th>subscriptionid</th>\n",
       "      <th>batchid</th>\n",
       "      <th>customerid</th>\n",
       "      <th>transactionid</th>\n",
       "      <th>Time</th>\n",
       "      <th>Week</th>\n",
       "      <th>DOW</th>\n",
       "      <th>P</th>\n",
       "    </tr>\n",
       "  </thead>\n",
       "  <tbody>\n",
       "    <tr>\n",
       "      <td>0</td>\n",
       "      <td>AccountId_3957</td>\n",
       "      <td>1000.0</td>\n",
       "      <td>ChannelId_3</td>\n",
       "      <td>256</td>\n",
       "      <td>UGX</td>\n",
       "      <td>0.0</td>\n",
       "      <td>2</td>\n",
       "      <td>airtime</td>\n",
       "      <td>ProductId_10</td>\n",
       "      <td>ProviderId_6</td>\n",
       "      <td>...</td>\n",
       "      <td>1000</td>\n",
       "      <td>4711</td>\n",
       "      <td>887</td>\n",
       "      <td>36123</td>\n",
       "      <td>4406</td>\n",
       "      <td>76871</td>\n",
       "      <td>2018-11-15</td>\n",
       "      <td>Thursday</td>\n",
       "      <td>3</td>\n",
       "      <td>2</td>\n",
       "    </tr>\n",
       "    <tr>\n",
       "      <td>1</td>\n",
       "      <td>AccountId_4841</td>\n",
       "      <td>-20.0</td>\n",
       "      <td>ChannelId_2</td>\n",
       "      <td>256</td>\n",
       "      <td>UGX</td>\n",
       "      <td>0.0</td>\n",
       "      <td>2</td>\n",
       "      <td>financial_services</td>\n",
       "      <td>ProductId_6</td>\n",
       "      <td>ProviderId_4</td>\n",
       "      <td>...</td>\n",
       "      <td>20</td>\n",
       "      <td>3144</td>\n",
       "      <td>3829</td>\n",
       "      <td>15642</td>\n",
       "      <td>4406</td>\n",
       "      <td>73770</td>\n",
       "      <td>2018-11-15</td>\n",
       "      <td>Thursday</td>\n",
       "      <td>3</td>\n",
       "      <td>2</td>\n",
       "    </tr>\n",
       "    <tr>\n",
       "      <td>2</td>\n",
       "      <td>AccountId_4229</td>\n",
       "      <td>500.0</td>\n",
       "      <td>ChannelId_3</td>\n",
       "      <td>256</td>\n",
       "      <td>UGX</td>\n",
       "      <td>0.0</td>\n",
       "      <td>2</td>\n",
       "      <td>airtime</td>\n",
       "      <td>ProductId_1</td>\n",
       "      <td>ProviderId_6</td>\n",
       "      <td>...</td>\n",
       "      <td>500</td>\n",
       "      <td>1357</td>\n",
       "      <td>222</td>\n",
       "      <td>53941</td>\n",
       "      <td>4683</td>\n",
       "      <td>26203</td>\n",
       "      <td>2018-11-15</td>\n",
       "      <td>Thursday</td>\n",
       "      <td>3</td>\n",
       "      <td>2</td>\n",
       "    </tr>\n",
       "    <tr>\n",
       "      <td>3</td>\n",
       "      <td>AccountId_648</td>\n",
       "      <td>20000.0</td>\n",
       "      <td>ChannelId_3</td>\n",
       "      <td>256</td>\n",
       "      <td>UGX</td>\n",
       "      <td>0.0</td>\n",
       "      <td>2</td>\n",
       "      <td>utility_bill</td>\n",
       "      <td>ProductId_21</td>\n",
       "      <td>ProviderId_1</td>\n",
       "      <td>...</td>\n",
       "      <td>21800</td>\n",
       "      <td>1318</td>\n",
       "      <td>2185</td>\n",
       "      <td>102363</td>\n",
       "      <td>988</td>\n",
       "      <td>380</td>\n",
       "      <td>2018-11-15</td>\n",
       "      <td>Thursday</td>\n",
       "      <td>3</td>\n",
       "      <td>2</td>\n",
       "    </tr>\n",
       "    <tr>\n",
       "      <td>4</td>\n",
       "      <td>AccountId_4841</td>\n",
       "      <td>-644.0</td>\n",
       "      <td>ChannelId_2</td>\n",
       "      <td>256</td>\n",
       "      <td>UGX</td>\n",
       "      <td>0.0</td>\n",
       "      <td>2</td>\n",
       "      <td>financial_services</td>\n",
       "      <td>ProductId_6</td>\n",
       "      <td>ProviderId_4</td>\n",
       "      <td>...</td>\n",
       "      <td>644</td>\n",
       "      <td>3144</td>\n",
       "      <td>3829</td>\n",
       "      <td>38780</td>\n",
       "      <td>988</td>\n",
       "      <td>28195</td>\n",
       "      <td>2018-11-15</td>\n",
       "      <td>Thursday</td>\n",
       "      <td>3</td>\n",
       "      <td>2</td>\n",
       "    </tr>\n",
       "  </tbody>\n",
       "</table>\n",
       "<p>5 rows × 21 columns</p>\n",
       "</div>"
      ],
      "text/plain": [
       "        AccountId   Amount    ChannelId  CountryCode CurrencyCode  \\\n",
       "0  AccountId_3957   1000.0  ChannelId_3          256          UGX   \n",
       "1  AccountId_4841    -20.0  ChannelId_2          256          UGX   \n",
       "2  AccountId_4229    500.0  ChannelId_3          256          UGX   \n",
       "3   AccountId_648  20000.0  ChannelId_3          256          UGX   \n",
       "4  AccountId_4841   -644.0  ChannelId_2          256          UGX   \n",
       "\n",
       "   FraudResult  PricingStrategy     ProductCategory     ProductId  \\\n",
       "0          0.0                2             airtime  ProductId_10   \n",
       "1          0.0                2  financial_services   ProductId_6   \n",
       "2          0.0                2             airtime   ProductId_1   \n",
       "3          0.0                2        utility_bill  ProductId_21   \n",
       "4          0.0                2  financial_services   ProductId_6   \n",
       "\n",
       "     ProviderId  ...  Value  subs  subscriptionid  batchid  customerid  \\\n",
       "0  ProviderId_6  ...   1000  4711             887    36123        4406   \n",
       "1  ProviderId_4  ...     20  3144            3829    15642        4406   \n",
       "2  ProviderId_6  ...    500  1357             222    53941        4683   \n",
       "3  ProviderId_1  ...  21800  1318            2185   102363         988   \n",
       "4  ProviderId_4  ...    644  3144            3829    38780         988   \n",
       "\n",
       "   transactionid       Time      Week DOW  P  \n",
       "0          76871 2018-11-15  Thursday   3  2  \n",
       "1          73770 2018-11-15  Thursday   3  2  \n",
       "2          26203 2018-11-15  Thursday   3  2  \n",
       "3            380 2018-11-15  Thursday   3  2  \n",
       "4          28195 2018-11-15  Thursday   3  2  \n",
       "\n",
       "[5 rows x 21 columns]"
      ]
     },
     "execution_count": 130,
     "metadata": {},
     "output_type": "execute_result"
    }
   ],
   "source": [
    "cmdata.head()"
   ]
  },
  {
   "cell_type": "code",
   "execution_count": 131,
   "metadata": {
    "ExecuteTime": {
     "end_time": "2019-09-22T13:22:07.059485Z",
     "start_time": "2019-09-22T13:22:07.031483Z"
    }
   },
   "outputs": [
    {
     "data": {
      "text/plain": [
       "AccountId                       object\n",
       "Amount                         float64\n",
       "ChannelId                       object\n",
       "CountryCode                      int64\n",
       "CurrencyCode                    object\n",
       "FraudResult                    float64\n",
       "PricingStrategy                  int64\n",
       "ProductCategory                 object\n",
       "ProductId                       object\n",
       "ProviderId                      object\n",
       "TransactionStartTime            object\n",
       "Value                            int64\n",
       "subs                             int32\n",
       "subscriptionid                   int32\n",
       "batchid                          int32\n",
       "customerid                       int32\n",
       "transactionid                    int32\n",
       "Time                    datetime64[ns]\n",
       "Week                            object\n",
       "DOW                              int64\n",
       "P                               object\n",
       "dtype: object"
      ]
     },
     "execution_count": 131,
     "metadata": {},
     "output_type": "execute_result"
    }
   ],
   "source": [
    "cmdata.dtypes"
   ]
  },
  {
   "cell_type": "code",
   "execution_count": 132,
   "metadata": {
    "ExecuteTime": {
     "end_time": "2019-09-22T13:22:24.316638Z",
     "start_time": "2019-09-22T13:22:24.151963Z"
    }
   },
   "outputs": [],
   "source": [
    "cmdata.drop(['Time', 'TransactionStartTime'], axis=1, inplace=True)"
   ]
  },
  {
   "cell_type": "code",
   "execution_count": 133,
   "metadata": {
    "ExecuteTime": {
     "end_time": "2019-09-22T13:22:41.546084Z",
     "start_time": "2019-09-22T13:22:41.140877Z"
    }
   },
   "outputs": [],
   "source": [
    "cmdata['account'] = cmdata.AccountId.astype('str').apply(lambda x: x.split('_')[1])\n",
    "cmdata.account= cmdata.account.astype(int)"
   ]
  },
  {
   "cell_type": "code",
   "execution_count": 134,
   "metadata": {
    "ExecuteTime": {
     "end_time": "2019-09-22T13:22:58.711678Z",
     "start_time": "2019-09-22T13:22:58.546324Z"
    }
   },
   "outputs": [
    {
     "data": {
      "text/html": [
       "<div>\n",
       "<style scoped>\n",
       "    .dataframe tbody tr th:only-of-type {\n",
       "        vertical-align: middle;\n",
       "    }\n",
       "\n",
       "    .dataframe tbody tr th {\n",
       "        vertical-align: top;\n",
       "    }\n",
       "\n",
       "    .dataframe thead th {\n",
       "        text-align: right;\n",
       "    }\n",
       "</style>\n",
       "<table border=\"1\" class=\"dataframe\">\n",
       "  <thead>\n",
       "    <tr style=\"text-align: right;\">\n",
       "      <th></th>\n",
       "      <th>Amount</th>\n",
       "      <th>ChannelId</th>\n",
       "      <th>CountryCode</th>\n",
       "      <th>CurrencyCode</th>\n",
       "      <th>FraudResult</th>\n",
       "      <th>PricingStrategy</th>\n",
       "      <th>ProductCategory</th>\n",
       "      <th>ProductId</th>\n",
       "      <th>ProviderId</th>\n",
       "      <th>Value</th>\n",
       "      <th>subs</th>\n",
       "      <th>subscriptionid</th>\n",
       "      <th>batchid</th>\n",
       "      <th>customerid</th>\n",
       "      <th>transactionid</th>\n",
       "      <th>Week</th>\n",
       "      <th>DOW</th>\n",
       "      <th>P</th>\n",
       "      <th>account</th>\n",
       "    </tr>\n",
       "  </thead>\n",
       "  <tbody>\n",
       "    <tr>\n",
       "      <td>0</td>\n",
       "      <td>1000.0</td>\n",
       "      <td>ChannelId_3</td>\n",
       "      <td>256</td>\n",
       "      <td>UGX</td>\n",
       "      <td>0.0</td>\n",
       "      <td>2</td>\n",
       "      <td>airtime</td>\n",
       "      <td>ProductId_10</td>\n",
       "      <td>ProviderId_6</td>\n",
       "      <td>1000</td>\n",
       "      <td>4711</td>\n",
       "      <td>887</td>\n",
       "      <td>36123</td>\n",
       "      <td>4406</td>\n",
       "      <td>76871</td>\n",
       "      <td>Thursday</td>\n",
       "      <td>3</td>\n",
       "      <td>2</td>\n",
       "      <td>3957</td>\n",
       "    </tr>\n",
       "    <tr>\n",
       "      <td>1</td>\n",
       "      <td>-20.0</td>\n",
       "      <td>ChannelId_2</td>\n",
       "      <td>256</td>\n",
       "      <td>UGX</td>\n",
       "      <td>0.0</td>\n",
       "      <td>2</td>\n",
       "      <td>financial_services</td>\n",
       "      <td>ProductId_6</td>\n",
       "      <td>ProviderId_4</td>\n",
       "      <td>20</td>\n",
       "      <td>3144</td>\n",
       "      <td>3829</td>\n",
       "      <td>15642</td>\n",
       "      <td>4406</td>\n",
       "      <td>73770</td>\n",
       "      <td>Thursday</td>\n",
       "      <td>3</td>\n",
       "      <td>2</td>\n",
       "      <td>4841</td>\n",
       "    </tr>\n",
       "    <tr>\n",
       "      <td>2</td>\n",
       "      <td>500.0</td>\n",
       "      <td>ChannelId_3</td>\n",
       "      <td>256</td>\n",
       "      <td>UGX</td>\n",
       "      <td>0.0</td>\n",
       "      <td>2</td>\n",
       "      <td>airtime</td>\n",
       "      <td>ProductId_1</td>\n",
       "      <td>ProviderId_6</td>\n",
       "      <td>500</td>\n",
       "      <td>1357</td>\n",
       "      <td>222</td>\n",
       "      <td>53941</td>\n",
       "      <td>4683</td>\n",
       "      <td>26203</td>\n",
       "      <td>Thursday</td>\n",
       "      <td>3</td>\n",
       "      <td>2</td>\n",
       "      <td>4229</td>\n",
       "    </tr>\n",
       "    <tr>\n",
       "      <td>3</td>\n",
       "      <td>20000.0</td>\n",
       "      <td>ChannelId_3</td>\n",
       "      <td>256</td>\n",
       "      <td>UGX</td>\n",
       "      <td>0.0</td>\n",
       "      <td>2</td>\n",
       "      <td>utility_bill</td>\n",
       "      <td>ProductId_21</td>\n",
       "      <td>ProviderId_1</td>\n",
       "      <td>21800</td>\n",
       "      <td>1318</td>\n",
       "      <td>2185</td>\n",
       "      <td>102363</td>\n",
       "      <td>988</td>\n",
       "      <td>380</td>\n",
       "      <td>Thursday</td>\n",
       "      <td>3</td>\n",
       "      <td>2</td>\n",
       "      <td>648</td>\n",
       "    </tr>\n",
       "    <tr>\n",
       "      <td>4</td>\n",
       "      <td>-644.0</td>\n",
       "      <td>ChannelId_2</td>\n",
       "      <td>256</td>\n",
       "      <td>UGX</td>\n",
       "      <td>0.0</td>\n",
       "      <td>2</td>\n",
       "      <td>financial_services</td>\n",
       "      <td>ProductId_6</td>\n",
       "      <td>ProviderId_4</td>\n",
       "      <td>644</td>\n",
       "      <td>3144</td>\n",
       "      <td>3829</td>\n",
       "      <td>38780</td>\n",
       "      <td>988</td>\n",
       "      <td>28195</td>\n",
       "      <td>Thursday</td>\n",
       "      <td>3</td>\n",
       "      <td>2</td>\n",
       "      <td>4841</td>\n",
       "    </tr>\n",
       "  </tbody>\n",
       "</table>\n",
       "</div>"
      ],
      "text/plain": [
       "    Amount    ChannelId  CountryCode CurrencyCode  FraudResult  \\\n",
       "0   1000.0  ChannelId_3          256          UGX          0.0   \n",
       "1    -20.0  ChannelId_2          256          UGX          0.0   \n",
       "2    500.0  ChannelId_3          256          UGX          0.0   \n",
       "3  20000.0  ChannelId_3          256          UGX          0.0   \n",
       "4   -644.0  ChannelId_2          256          UGX          0.0   \n",
       "\n",
       "   PricingStrategy     ProductCategory     ProductId    ProviderId  Value  \\\n",
       "0                2             airtime  ProductId_10  ProviderId_6   1000   \n",
       "1                2  financial_services   ProductId_6  ProviderId_4     20   \n",
       "2                2             airtime   ProductId_1  ProviderId_6    500   \n",
       "3                2        utility_bill  ProductId_21  ProviderId_1  21800   \n",
       "4                2  financial_services   ProductId_6  ProviderId_4    644   \n",
       "\n",
       "   subs  subscriptionid  batchid  customerid  transactionid      Week  DOW  P  \\\n",
       "0  4711             887    36123        4406          76871  Thursday    3  2   \n",
       "1  3144            3829    15642        4406          73770  Thursday    3  2   \n",
       "2  1357             222    53941        4683          26203  Thursday    3  2   \n",
       "3  1318            2185   102363         988            380  Thursday    3  2   \n",
       "4  3144            3829    38780         988          28195  Thursday    3  2   \n",
       "\n",
       "   account  \n",
       "0     3957  \n",
       "1     4841  \n",
       "2     4229  \n",
       "3      648  \n",
       "4     4841  "
      ]
     },
     "execution_count": 134,
     "metadata": {},
     "output_type": "execute_result"
    }
   ],
   "source": [
    "cmdata.drop('AccountId', axis = 1, inplace = True)\n",
    "cmdata.head()"
   ]
  },
  {
   "cell_type": "code",
   "execution_count": 135,
   "metadata": {
    "ExecuteTime": {
     "end_time": "2019-09-22T13:23:18.647664Z",
     "start_time": "2019-09-22T13:23:18.207961Z"
    }
   },
   "outputs": [],
   "source": [
    "cmdata = pd.get_dummies(cmdata)\n",
    "#tar = ce.target_encoder.TargetEncoder()"
   ]
  },
  {
   "cell_type": "code",
   "execution_count": 136,
   "metadata": {
    "ExecuteTime": {
     "end_time": "2019-09-22T13:23:36.628939Z",
     "start_time": "2019-09-22T13:23:36.089896Z"
    }
   },
   "outputs": [
    {
     "data": {
      "text/plain": [
       "['CountryCode', 'CurrencyCode_UGX']"
      ]
     },
     "execution_count": 136,
     "metadata": {},
     "output_type": "execute_result"
    }
   ],
   "source": [
    "[feat for feat in cmdata.columns if cmdata[feat].std() == 0]"
   ]
  },
  {
   "cell_type": "code",
   "execution_count": 137,
   "metadata": {
    "ExecuteTime": {
     "end_time": "2019-09-22T13:23:54.230887Z",
     "start_time": "2019-09-22T13:23:54.046603Z"
    }
   },
   "outputs": [],
   "source": [
    "cmdata.drop(['CountryCode', 'CurrencyCode_UGX'], axis=1, inplace=True)\n",
    "#cmdata.drop('CountryCode', axis=1, inplace=True)"
   ]
  },
  {
   "cell_type": "code",
   "execution_count": 42,
   "metadata": {
    "ExecuteTime": {
     "end_time": "2019-09-22T12:02:09.268535Z",
     "start_time": "2019-09-22T12:02:09.001554Z"
    }
   },
   "outputs": [],
   "source": [
    "#dtrain = cmdata[:ndf_train]\n",
    "#dtest = cmdata[ndf_train:]"
   ]
  },
  {
   "cell_type": "code",
   "execution_count": 43,
   "metadata": {
    "ExecuteTime": {
     "end_time": "2019-09-22T12:02:09.516523Z",
     "start_time": "2019-09-22T12:02:09.276535Z"
    }
   },
   "outputs": [],
   "source": [
    "#dtrain=tar.fit_transform(dtrain.drop('FraudResult',axis=1),dtrain.FraudResult)\n",
    "#dtest=tar.transform(dtest.drop('FraudResult',axis=1))"
   ]
  },
  {
   "cell_type": "markdown",
   "metadata": {
    "ExecuteTime": {
     "end_time": "2019-09-22T12:02:24.325652Z",
     "start_time": "2019-09-22T12:02:09.526519Z"
    }
   },
   "source": [
    "import featuretools as ft"
   ]
  },
  {
   "cell_type": "markdown",
   "metadata": {
    "ExecuteTime": {
     "end_time": "2019-09-22T12:02:26.872490Z",
     "start_time": "2019-09-22T12:02:24.334650Z"
    }
   },
   "source": [
    "#creating and entity set 'es'\n",
    "es = ft.EntitySet(id = 'Xente')\n",
    "\n",
    "#adding a dataframe ~\n",
    "es.entity_from_dataframe(entity_id = 'Data', dataframe = cmdata.drop(['BatchId','FraudResult','SubscriptionId'],axis=1)\n",
    "                         , index = 'TransactionId')"
   ]
  },
  {
   "cell_type": "markdown",
   "metadata": {
    "ExecuteTime": {
     "end_time": "2019-09-22T12:02:27.756437Z",
     "start_time": "2019-09-22T12:02:26.881489Z"
    }
   },
   "source": [
    "es.normalize_entity(base_entity_id='Data', new_entity_id='Account', index = 'AccountId', \n",
    "additional_variables = ['CustomerId','ProductCategory','ChannelId','Amount','Value'])"
   ]
  },
  {
   "cell_type": "markdown",
   "metadata": {
    "ExecuteTime": {
     "end_time": "2019-09-22T12:08:50.959092Z",
     "start_time": "2019-09-22T12:02:27.765437Z"
    }
   },
   "source": [
    "feature_matrix, feature_names = ft.dfs(entityset=es, target_entity = 'Data', max_depth = 4, verbose = 1, n_jobs = 1)"
   ]
  },
  {
   "cell_type": "code",
   "execution_count": 48,
   "metadata": {
    "ExecuteTime": {
     "end_time": "2019-09-22T12:08:52.588992Z",
     "start_time": "2019-09-22T12:08:50.969092Z"
    }
   },
   "outputs": [],
   "source": [
    "feature_matrix = feature_matrix.reindex(index=cmdata['TransactionId'])\n",
    "feature_matrix = feature_matrix.reset_index()"
   ]
  },
  {
   "cell_type": "markdown",
   "metadata": {
    "ExecuteTime": {
     "end_time": "2019-09-22T12:08:53.514931Z",
     "start_time": "2019-09-22T12:08:52.604989Z"
    }
   },
   "source": [
    "fe=[col for col in feature_matrix.columns if feature_matrix[col].nunique()>1]"
   ]
  },
  {
   "cell_type": "markdown",
   "metadata": {
    "ExecuteTime": {
     "end_time": "2019-09-22T12:08:53.833915Z",
     "start_time": "2019-09-22T12:08:53.522934Z"
    }
   },
   "source": [
    "dataset=feature_matrix[fe]"
   ]
  },
  {
   "cell_type": "markdown",
   "metadata": {},
   "source": [
    "## Get new dataset"
   ]
  },
  {
   "cell_type": "markdown",
   "metadata": {
    "ExecuteTime": {
     "end_time": "2019-09-22T12:14:08.053149Z",
     "start_time": "2019-09-22T12:14:07.272198Z"
    }
   },
   "source": [
    "dataset.drop([\"Account.CustomerId\",'AccountId', 'TransactionId'], axis=1,inplace=True)\n",
    "dataset=pd.get_dummies(dataset)"
   ]
  },
  {
   "cell_type": "code",
   "execution_count": 138,
   "metadata": {
    "ExecuteTime": {
     "end_time": "2019-09-22T13:24:12.046678Z",
     "start_time": "2019-09-22T13:24:12.023561Z"
    }
   },
   "outputs": [],
   "source": [
    "dtrain = cmdata[:ndf_train]\n",
    "dtest = cmdata[ndf_train:]\n",
    "\n",
    "#dtrain = dataset[:ndf_train]\n",
    "#dtest = dataset[ndf_train:]"
   ]
  },
  {
   "cell_type": "code",
   "execution_count": 139,
   "metadata": {
    "ExecuteTime": {
     "end_time": "2019-09-22T13:24:28.138249Z",
     "start_time": "2019-09-22T13:24:28.117528Z"
    }
   },
   "outputs": [
    {
     "data": {
      "text/plain": [
       "array([nan])"
      ]
     },
     "execution_count": 139,
     "metadata": {},
     "output_type": "execute_result"
    }
   ],
   "source": [
    "dtest.FraudResult.unique()"
   ]
  },
  {
   "cell_type": "code",
   "execution_count": 140,
   "metadata": {
    "ExecuteTime": {
     "end_time": "2019-09-22T13:24:44.741461Z",
     "start_time": "2019-09-22T13:24:44.681464Z"
    }
   },
   "outputs": [],
   "source": [
    "dtest.drop('FraudResult', axis = 1, inplace =True)"
   ]
  },
  {
   "cell_type": "markdown",
   "metadata": {},
   "source": [
    "### Split Data\n"
   ]
  },
  {
   "cell_type": "code",
   "execution_count": 59,
   "metadata": {
    "ExecuteTime": {
     "end_time": "2019-09-22T12:15:11.512232Z",
     "start_time": "2019-09-22T12:15:11.496237Z"
    }
   },
   "outputs": [],
   "source": [
    "#dtrain.to_csv(\"datatrain.csv\", index = False)\n"
   ]
  },
  {
   "cell_type": "code",
   "execution_count": 60,
   "metadata": {
    "ExecuteTime": {
     "end_time": "2019-09-22T12:15:27.225255Z",
     "start_time": "2019-09-22T12:15:27.217254Z"
    }
   },
   "outputs": [],
   "source": [
    "#dtest.to_csv('datatest.csv', index = False)"
   ]
  },
  {
   "cell_type": "code",
   "execution_count": 141,
   "metadata": {
    "ExecuteTime": {
     "end_time": "2019-09-22T13:25:02.220564Z",
     "start_time": "2019-09-22T13:25:01.997922Z"
    }
   },
   "outputs": [],
   "source": [
    "X = dtrain.drop('FraudResult', axis = 1)\n",
    "y = dtrain[\"FraudResult\"]\n",
    "from sklearn.model_selection import train_test_split\n",
    "X_train, X_test, y_train, y_test = train_test_split(X, y, test_size = 0.3, random_state = 42)"
   ]
  },
  {
   "cell_type": "code",
   "execution_count": 142,
   "metadata": {
    "ExecuteTime": {
     "end_time": "2019-09-22T13:26:49.632833Z",
     "start_time": "2019-09-22T13:26:49.620834Z"
    }
   },
   "outputs": [],
   "source": [
    "from sklearn.linear_model import LogisticRegression\n",
    "from sklearn.tree import DecisionTreeClassifier\n",
    "from sklearn.ensemble import ExtraTreesClassifier,GradientBoostingClassifier,RandomForestClassifier\n",
    "from sklearn.metrics import log_loss,f1_score\n",
    "from catboost import CatBoostClassifier\n",
    "from xgboost import XGBClassifier"
   ]
  },
  {
   "cell_type": "code",
   "execution_count": 110,
   "metadata": {
    "ExecuteTime": {
     "end_time": "2019-09-22T10:02:43.687934Z",
     "start_time": "2019-09-22T10:02:43.679934Z"
    }
   },
   "outputs": [],
   "source": [
    "#model=CatBoostClassifier(iterations=2000,learning_rate=0.01,depth=9,verbose=100,\n",
    "#                     use_best_model=True,random_seed=12,eval_metric='F1', early_stopping_rounds=100)\n",
    "#\n",
    "#model.fit(X_train,y_train,eval_set=(X_test,y_test))"
   ]
  },
  {
   "cell_type": "code",
   "execution_count": 111,
   "metadata": {
    "ExecuteTime": {
     "end_time": "2019-09-22T10:02:55.334253Z",
     "start_time": "2019-09-22T10:02:55.322251Z"
    }
   },
   "outputs": [],
   "source": [
    "#model=XGBClassifier(max_depth=7,learning_rate=0.1, n_estimators=1000, verbosity=1, random_state=0)"
   ]
  },
  {
   "cell_type": "code",
   "execution_count": 112,
   "metadata": {
    "ExecuteTime": {
     "end_time": "2019-09-22T10:03:07.776643Z",
     "start_time": "2019-09-22T10:03:07.514660Z"
    }
   },
   "outputs": [],
   "source": [
    "#model.fit(X_train, y_train,eval_set=[(X_test, y_test)], eval_metric='aucpr',\n",
    "#       early_stopping_rounds=50, verbose=True)"
   ]
  },
  {
   "cell_type": "code",
   "execution_count": 113,
   "metadata": {
    "ExecuteTime": {
     "end_time": "2019-09-22T10:03:21.189808Z",
     "start_time": "2019-09-22T10:03:21.176810Z"
    }
   },
   "outputs": [],
   "source": [
    "#from sklearn import model_selection\n",
    "#from sklearn.linear_model import LogisticRegression\n",
    "#from sklearn.neighbors import KNeighborsClassifier\n",
    "#from sklearn.naive_bayes import GaussianNB \n",
    "#from mlxtend.classifier import StackingCVClassifier"
   ]
  },
  {
   "cell_type": "code",
   "execution_count": 114,
   "metadata": {
    "ExecuteTime": {
     "end_time": "2019-09-22T10:03:33.108582Z",
     "start_time": "2019-09-22T10:03:33.096583Z"
    }
   },
   "outputs": [],
   "source": [
    "#from sklearn.preprocessing import StandardScaler"
   ]
  },
  {
   "cell_type": "code",
   "execution_count": null,
   "metadata": {
    "ExecuteTime": {
     "end_time": "2019-09-22T10:03:45.819311Z",
     "start_time": "2019-09-22T10:02:41.620Z"
    }
   },
   "outputs": [],
   "source": [
    "#sc=StandardScaler()"
   ]
  },
  {
   "cell_type": "code",
   "execution_count": null,
   "metadata": {
    "ExecuteTime": {
     "end_time": "2019-09-22T10:03:45.837309Z",
     "start_time": "2019-09-22T10:02:42.045Z"
    }
   },
   "outputs": [],
   "source": [
    "#X=sc.fit_transform(X)"
   ]
  },
  {
   "cell_type": "code",
   "execution_count": null,
   "metadata": {
    "ExecuteTime": {
     "end_time": "2019-09-22T10:03:45.852307Z",
     "start_time": "2019-09-22T10:02:42.516Z"
    }
   },
   "outputs": [],
   "source": [
    "#clf1 = KNeighborsClassifier(n_neighbors=7)\n",
    "#clf2 = RandomForestClassifier(n_estimators=500,max_depth=9,random_state=40000)\n",
    "#clf3 = GaussianNB()\n",
    "#clf4 = CatBoostClassifier(iterations=89,learning_rate=0.01,depth=9,verbose=100,random_seed=12,eval_metric='F1')\n",
    "#clf5 = XGBClassifier(max_depth=7,learning_rate=0.1, n_estimators=59, random_state=0)\n",
    "#clf6 =  ExtraTreesClassifier(n_estimators=500,max_depth=9,random_state=40000)\n",
    "\n",
    "#lr = LogisticRegression()\n",
    "\n",
    "#model = StackingCVClassifier(classifiers=[clf1, clf2, clf3,clf4,clf5,clf6],\n",
    "#use_probas=True,cv=3,\n",
    "#                            meta_classifier=lr,verbose=1)"
   ]
  },
  {
   "cell_type": "code",
   "execution_count": null,
   "metadata": {
    "ExecuteTime": {
     "end_time": "2019-09-22T10:03:45.884307Z",
     "start_time": "2019-09-22T10:02:42.951Z"
    }
   },
   "outputs": [],
   "source": [
    "#print('3-fold cross validation:\\n')\n",
    "\n",
    "#for clf, label in zip([clf1, clf2, clf3, clf4, clf5, clf6, model], \n",
    "#                      ['KNN', \n",
    "#                       'Random Forest', \n",
    "#                       'Naive Bayes',\n",
    "#                       'Catboost',\n",
    "#                       'XGBoost',\n",
    "#                       'ExtraTrees',\n",
    "#                       'StackingClassifier']):\n",
    "\n",
    "#    scores = model_selection.cross_val_score(clf, X, y, \n",
    "#                                              cv=3, scoring='f1')\n",
    "#    print(\"F1: %0.4f (+/- %0.4f) [%s]\" \n",
    "#          % (scores.mean(), scores.std(), label))\n"
   ]
  },
  {
   "cell_type": "code",
   "execution_count": null,
   "metadata": {
    "ExecuteTime": {
     "end_time": "2019-09-22T10:03:45.901304Z",
     "start_time": "2019-09-22T10:02:43.369Z"
    }
   },
   "outputs": [],
   "source": [
    "#from sklearn.model_selection import RandomizedSearchCV"
   ]
  },
  {
   "cell_type": "code",
   "execution_count": null,
   "metadata": {
    "ExecuteTime": {
     "end_time": "2019-09-22T10:03:45.955299Z",
     "start_time": "2019-09-22T10:02:43.922Z"
    }
   },
   "outputs": [],
   "source": [
    "#model.fit(X_train,y_train)"
   ]
  },
  {
   "cell_type": "code",
   "execution_count": null,
   "metadata": {
    "ExecuteTime": {
     "end_time": "2019-09-22T10:03:45.960300Z",
     "start_time": "2019-09-22T10:02:44.372Z"
    }
   },
   "outputs": [],
   "source": [
    "#param={'n_estimators':[i for i in range(400,1000,20)],\n",
    "#      'criterion':['gini','entropy'],\n",
    "#      'max_depth':[i for i in range(7,16)],\n",
    "#      'min_samples_split':[i/10 for i in range(1,11)],\n",
    "#      'class_weight':[None,'balanced_subsample','balanced']}"
   ]
  },
  {
   "cell_type": "code",
   "execution_count": null,
   "metadata": {
    "ExecuteTime": {
     "end_time": "2019-09-22T10:03:45.967299Z",
     "start_time": "2019-09-22T10:02:44.684Z"
    }
   },
   "outputs": [],
   "source": [
    "#rs=RandomizedSearchCV(RandomForestClassifier(random_state=324526), param, n_iter=, \n",
    "#                                           n_jobs=1, cv=3, verbose=1,\n",
    "#                                           random_state=4444432, return_train_score=True)"
   ]
  },
  {
   "cell_type": "code",
   "execution_count": 143,
   "metadata": {
    "ExecuteTime": {
     "end_time": "2019-09-22T13:28:19.869569Z",
     "start_time": "2019-09-22T13:27:16.225449Z"
    }
   },
   "outputs": [
    {
     "data": {
      "text/plain": [
       "RandomForestClassifier(bootstrap=True, class_weight=None, criterion='gini',\n",
       "                       max_depth=9, max_features='auto', max_leaf_nodes=None,\n",
       "                       min_impurity_decrease=0.0, min_impurity_split=None,\n",
       "                       min_samples_leaf=1, min_samples_split=2,\n",
       "                       min_weight_fraction_leaf=0.0, n_estimators=500,\n",
       "                       n_jobs=None, oob_score=False, random_state=400,\n",
       "                       verbose=0, warm_start=False)"
      ]
     },
     "execution_count": 143,
     "metadata": {},
     "output_type": "execute_result"
    }
   ],
   "source": [
    "model = RandomForestClassifier(n_estimators=500,max_depth=9,random_state=400)\n",
    "model.fit(X_train,y_train) "
   ]
  },
  {
   "cell_type": "code",
   "execution_count": 144,
   "metadata": {
    "ExecuteTime": {
     "end_time": "2019-09-22T13:34:13.558956Z",
     "start_time": "2019-09-22T13:34:10.514377Z"
    }
   },
   "outputs": [],
   "source": [
    "pred = model.predict(X_test)"
   ]
  },
  {
   "cell_type": "code",
   "execution_count": 145,
   "metadata": {
    "ExecuteTime": {
     "end_time": "2019-09-22T13:34:29.867016Z",
     "start_time": "2019-09-22T13:34:29.807016Z"
    }
   },
   "outputs": [
    {
     "data": {
      "text/plain": [
       "0.9009009009009009"
      ]
     },
     "execution_count": 145,
     "metadata": {},
     "output_type": "execute_result"
    }
   ],
   "source": [
    "f1_score(y_test, pred)"
   ]
  },
  {
   "cell_type": "code",
   "execution_count": 146,
   "metadata": {
    "ExecuteTime": {
     "end_time": "2019-09-22T13:35:01.400961Z",
     "start_time": "2019-09-22T13:34:54.216848Z"
    }
   },
   "outputs": [
    {
     "data": {
      "text/plain": [
       "0.9776119402985075"
      ]
     },
     "execution_count": 146,
     "metadata": {},
     "output_type": "execute_result"
    }
   ],
   "source": [
    "f1_score(y_train,model.predict(X_train))"
   ]
  },
  {
   "cell_type": "code",
   "execution_count": 87,
   "metadata": {
    "ExecuteTime": {
     "end_time": "2019-09-22T12:49:02.142376Z",
     "start_time": "2019-09-22T12:49:02.133377Z"
    }
   },
   "outputs": [],
   "source": [
    "#model.fit(X,y)"
   ]
  },
  {
   "cell_type": "code",
   "execution_count": 147,
   "metadata": {
    "ExecuteTime": {
     "end_time": "2019-09-22T13:35:21.622273Z",
     "start_time": "2019-09-22T13:35:18.818014Z"
    }
   },
   "outputs": [
    {
     "data": {
      "text/plain": [
       "Text(0.5, 0, 'Importance')"
      ]
     },
     "execution_count": 147,
     "metadata": {},
     "output_type": "execute_result"
    },
    {
     "data": {
      "image/png": "[encoded data removed]",
      "text/plain": [
       "<Figure size 576x1080 with 1 Axes>"
      ]
     },
     "metadata": {
      "needs_background": "light"
     },
     "output_type": "display_data"
    }
   ],
   "source": [
    "fea_imp = pd.DataFrame({'imp': model.feature_importances_, 'col': X_train.columns})\n",
    "fea_imp = fea_imp.sort_values(['imp', 'col'], ascending=[True, False]).iloc[-50:]\n",
    "fea_imp.plot(kind='barh', x='col', y='imp', figsize=(8, 15), legend=None)\n",
    "plt.title('CatBoost - Feature Importance')\n",
    "plt.ylabel('Features')\n",
    "plt.xlabel('Importance')\n",
    "#plt.savefig('Profile+Base Features Importance.jpeg')\n",
    "#plt.savefig('Base Features Importance.jpeg')"
   ]
  },
  {
   "cell_type": "code",
   "execution_count": 148,
   "metadata": {
    "ExecuteTime": {
     "end_time": "2019-09-22T13:39:46.369473Z",
     "start_time": "2019-09-22T13:39:42.239124Z"
    }
   },
   "outputs": [
    {
     "data": {
      "text/plain": [
       "0.0    44952\n",
       "1.0       67\n",
       "Name: FraudResult, dtype: int64"
      ]
     },
     "execution_count": 148,
     "metadata": {},
     "output_type": "execute_result"
    }
   ],
   "source": [
    "pred = pd.DataFrame(model.predict(dtest), columns = ['FraudResult'])\n",
    "pred.FraudResult.value_counts()"
   ]
  },
  {
   "cell_type": "code",
   "execution_count": 149,
   "metadata": {
    "ExecuteTime": {
     "end_time": "2019-09-22T13:40:03.596125Z",
     "start_time": "2019-09-22T13:40:03.332385Z"
    }
   },
   "outputs": [],
   "source": [
    "sample = pd.read_csv(\"sample_submission.csv\")\n",
    "pred = pd.concat([sample['TransactionId'], pred], axis =1)"
   ]
  },
  {
   "cell_type": "code",
   "execution_count": 94,
   "metadata": {
    "ExecuteTime": {
     "end_time": "2019-09-22T12:51:10.194601Z",
     "start_time": "2019-09-22T12:51:10.185601Z"
    }
   },
   "outputs": [],
   "source": [
    "#pred.to_csv(\"bl1.csv\", index = False)"
   ]
  },
  {
   "cell_type": "code",
   "execution_count": 95,
   "metadata": {
    "ExecuteTime": {
     "end_time": "2019-09-22T12:51:29.765417Z",
     "start_time": "2019-09-22T12:51:29.751419Z"
    }
   },
   "outputs": [],
   "source": [
    "#pred.to_csv(\"bl2.csv\", index = False)"
   ]
  },
  {
   "cell_type": "code",
   "execution_count": 150,
   "metadata": {
    "ExecuteTime": {
     "end_time": "2019-09-22T13:41:07.076448Z",
     "start_time": "2019-09-22T13:41:06.614480Z"
    }
   },
   "outputs": [],
   "source": [
    "pred.to_csv(\"sub.csv\", index = False)"
   ]
  },
  {
   "cell_type": "code",
   "execution_count": null,
   "metadata": {},
   "outputs": [],
   "source": []
  },
  {
   "cell_type": "code",
   "execution_count": null,
   "metadata": {},
   "outputs": [],
   "source": []
  }
 ],
 "metadata": {
  "kernelspec": {
   "display_name": "Python 3",
   "language": "python",
   "name": "python3"
  },
  "language_info": {
   "codemirror_mode": {
    "name": "ipython",
    "version": 3
   },
   "file_extension": ".py",
   "mimetype": "text/x-python",
   "name": "python",
   "nbconvert_exporter": "python",
   "pygments_lexer": "ipython3",
   "version": "3.6.9"
  },
  "toc": {
   "base_numbering": 1,
   "nav_menu": {},
   "number_sections": true,
   "sideBar": true,
   "skip_h1_title": false,
   "title_cell": "Table of Contents",
   "title_sidebar": "Contents",
   "toc_cell": false,
   "toc_position": {},
   "toc_section_display": true,
   "toc_window_display": false
  },
  "varInspector": {
   "cols": {
    "lenName": 16,
    "lenType": 16,
    "lenVar": 40
   },
   "kernels_config": {
    "python": {
     "delete_cmd_postfix": "",
     "delete_cmd_prefix": "del ",
     "library": "var_list.py",
     "varRefreshCmd": "print(var_dic_list())"
    },
    "r": {
     "delete_cmd_postfix": ") ",
     "delete_cmd_prefix": "rm(",
     "library": "var_list.r",
     "varRefreshCmd": "cat(var_dic_list()) "
    }
   },
   "types_to_exclude": [
    "module",
    "function",
    "builtin_function_or_method",
    "instance",
    "_Feature"
   ],
   "window_display": false
  }
 },
 "nbformat": 4,
 "nbformat_minor": 4
}
