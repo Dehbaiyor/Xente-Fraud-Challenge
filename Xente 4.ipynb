{
 "cells": [
  {
   "cell_type": "code",
   "execution_count": 1,
   "metadata": {
    "ExecuteTime": {
     "end_time": "2019-08-31T21:00:45.764878Z",
     "start_time": "2019-08-31T20:59:04.019356Z"
    }
   },
   "outputs": [
    {
     "name": "stderr",
     "output_type": "stream",
     "text": [
      "C:\\Users\\ADEBAYO\\Anaconda3\\lib\\site-packages\\h5py\\__init__.py:36: FutureWarning: Conversion of the second argument of issubdtype from `float` to `np.floating` is deprecated. In future, it will be treated as `np.float64 == np.dtype(float).type`.\n",
      "  from ._conv import register_converters as _register_converters\n",
      "Using TensorFlow backend.\n"
     ]
    }
   ],
   "source": [
    "import pandas as pd\n",
    "import numpy as np\n",
    "import pickle\n",
    "import matplotlib.pyplot as plt\n",
    "from scipy import stats\n",
    "import tensorflow as tf\n",
    "import seaborn as sns\n",
    "from pylab import rcParams\n",
    "from sklearn.model_selection import train_test_split\n",
    "from keras.models import Model, load_model\n",
    "from keras.layers import Input, Dense\n",
    "from keras.callbacks import ModelCheckpoint, TensorBoard\n",
    "from keras import regularizers\n",
    "\n",
    "%matplotlib inline\n",
    "\n",
    "#sns.set(style='whitegrid', palette='muted', font_scale=1.5)\n",
    "\n",
    "rcParams['figure.figsize'] = 14, 8\n",
    "\n",
    "import warnings\n",
    "from catboost import CatBoostClassifier\n",
    "\n",
    "warnings.filterwarnings('ignore')"
   ]
  },
  {
   "cell_type": "code",
   "execution_count": 6,
   "metadata": {
    "ExecuteTime": {
     "end_time": "2019-08-31T21:03:03.263689Z",
     "start_time": "2019-08-31T21:03:01.078054Z"
    }
   },
   "outputs": [],
   "source": [
    "data=pd.read_csv('Customer Profile.csv',parse_dates=['TransactionStartTime'])"
   ]
  },
  {
   "cell_type": "code",
   "execution_count": 7,
   "metadata": {
    "ExecuteTime": {
     "end_time": "2019-08-31T21:03:04.708486Z",
     "start_time": "2019-08-31T21:03:04.212791Z"
    }
   },
   "outputs": [],
   "source": [
    "data['month']=data['TransactionStartTime'].dt.month\n",
    "data['quarter']=data['TransactionStartTime'].dt.quarter\n",
    "#data['day']=data['TransactionStartTime'].dt.day\n",
    "data['week_of_month']=data['TransactionStartTime'].dt.day//7\n",
    "#data['day_of_year']=data['TransactionStartTime'].dt.dayofyear\n",
    "data['weekday']=data['TransactionStartTime'].dt.weekday_name\n",
    "data['hour']=data['TransactionStartTime'].dt.hour\n",
    "#data['week']=data['TransactionStartTime'].dt.week\n",
    "#data['minute']=data['TransactionStartTime'].dt.minute\n",
    "#data['seconds']=data['TransactionStartTime'].dt.second\n",
    "data.drop('Unnamed: 0',inplace=True,axis=1)"
   ]
  },
  {
   "cell_type": "code",
   "execution_count": 8,
   "metadata": {
    "ExecuteTime": {
     "end_time": "2019-08-31T21:03:06.902062Z",
     "start_time": "2019-08-31T21:03:06.242532Z"
    }
   },
   "outputs": [],
   "source": [
    "test=data[data.FraudResult.isnull()]\n",
    "train=data.dropna()"
   ]
  },
  {
   "cell_type": "code",
   "execution_count": 9,
   "metadata": {
    "ExecuteTime": {
     "end_time": "2019-08-31T21:03:14.735916Z",
     "start_time": "2019-08-31T21:03:14.371926Z"
    }
   },
   "outputs": [],
   "source": [
    "train,train1=train_test_split(train,test_size=0.5, random_state=142,stratify=train.FraudResult)"
   ]
  },
  {
   "cell_type": "code",
   "execution_count": 10,
   "metadata": {
    "ExecuteTime": {
     "end_time": "2019-08-31T21:03:17.478057Z",
     "start_time": "2019-08-31T21:03:17.414062Z"
    }
   },
   "outputs": [],
   "source": [
    "a=train.drop(['FraudResult','CurrencyCode', 'CountryCode','TransactionId','BatchId','month',\n",
    "              'AccountId','SubscriptionId','CustomerId','TransactionStartTime'],axis=1)\n",
    "b=train['FraudResult']"
   ]
  },
  {
   "cell_type": "code",
   "execution_count": 11,
   "metadata": {
    "ExecuteTime": {
     "end_time": "2019-08-31T21:03:49.552998Z",
     "start_time": "2019-08-31T21:03:49.542998Z"
    }
   },
   "outputs": [],
   "source": [
    "#X_train, X_test, y_train, y_test = train_test_split(a, b, test_size=0.3, random_state=9092)"
   ]
  },
  {
   "cell_type": "code",
   "execution_count": 12,
   "metadata": {
    "ExecuteTime": {
     "end_time": "2019-08-31T21:03:55.570097Z",
     "start_time": "2019-08-31T21:03:52.380034Z"
    }
   },
   "outputs": [],
   "source": [
    "from sklearn.ensemble import IsolationForest\n",
    "from category_encoders import TargetEncoder\n",
    "from sklearn.preprocessing import RobustScaler\n",
    "from sklearn.metrics import f1_score"
   ]
  },
  {
   "cell_type": "code",
   "execution_count": 13,
   "metadata": {
    "ExecuteTime": {
     "end_time": "2019-08-31T21:03:58.343235Z",
     "start_time": "2019-08-31T21:03:58.327972Z"
    }
   },
   "outputs": [],
   "source": [
    "ce=TargetEncoder()\n",
    "sc=RobustScaler()"
   ]
  },
  {
   "cell_type": "code",
   "execution_count": 14,
   "metadata": {
    "ExecuteTime": {
     "end_time": "2019-08-31T21:04:01.241929Z",
     "start_time": "2019-08-31T21:04:01.049075Z"
    }
   },
   "outputs": [],
   "source": [
    "data1=train1.append(test)"
   ]
  },
  {
   "cell_type": "code",
   "execution_count": 15,
   "metadata": {
    "ExecuteTime": {
     "end_time": "2019-08-31T21:04:07.722842Z",
     "start_time": "2019-08-31T21:04:04.946294Z"
    }
   },
   "outputs": [],
   "source": [
    "X=sc.fit_transform(ce.fit_transform(a,b))\n",
    "X_full = sc.transform(ce.transform(data1.drop(['FraudResult','CurrencyCode', 'CountryCode','TransactionId','BatchId','month',\n",
    "              'AccountId','SubscriptionId','CustomerId','TransactionStartTime'],axis=1)))"
   ]
  },
  {
   "cell_type": "code",
   "execution_count": 16,
   "metadata": {
    "ExecuteTime": {
     "end_time": "2019-08-31T21:04:35.113425Z",
     "start_time": "2019-08-31T21:04:11.325094Z"
    }
   },
   "outputs": [
    {
     "data": {
      "text/plain": [
       "IsolationForest(behaviour='old', bootstrap=True, contamination=0.002,\n",
       "        max_features=1.0, max_samples='auto', n_estimators=250,\n",
       "        n_jobs=None, random_state=12, verbose=0)"
      ]
     },
     "execution_count": 16,
     "metadata": {},
     "output_type": "execute_result"
    }
   ],
   "source": [
    "isf=IsolationForest(n_estimators=250,contamination=0.002,bootstrap=True,random_state=12)\n",
    "isf.fit(X,b)"
   ]
  },
  {
   "cell_type": "code",
   "execution_count": 17,
   "metadata": {
    "ExecuteTime": {
     "end_time": "2019-08-31T21:05:11.210613Z",
     "start_time": "2019-08-31T21:04:38.648975Z"
    }
   },
   "outputs": [],
   "source": [
    "data1['isf']=isf.score_samples(X_full)"
   ]
  },
  {
   "cell_type": "code",
   "execution_count": 18,
   "metadata": {
    "ExecuteTime": {
     "end_time": "2019-08-31T21:05:15.021528Z",
     "start_time": "2019-08-31T21:05:14.984535Z"
    }
   },
   "outputs": [],
   "source": [
    "data1['is credit']=np.log(data1['Amount']).isnull()"
   ]
  },
  {
   "cell_type": "code",
   "execution_count": 19,
   "metadata": {
    "ExecuteTime": {
     "end_time": "2019-08-31T21:05:18.982430Z",
     "start_time": "2019-08-31T21:05:18.913437Z"
    }
   },
   "outputs": [],
   "source": [
    "data1['Amount_log']=np.log(data1['Amount'])\n",
    "data1['Value_log']=np.log(data1['Value'])"
   ]
  },
  {
   "cell_type": "code",
   "execution_count": 20,
   "metadata": {
    "ExecuteTime": {
     "end_time": "2019-08-31T21:05:24.003680Z",
     "start_time": "2019-08-31T21:05:23.276064Z"
    }
   },
   "outputs": [],
   "source": [
    "data1.ProductCategory=data1.ProductCategory.map({'financial_services':'financial_services',\n",
    "                                               'airtime':'airtime'}).fillna('others')\n",
    "data1.ChannelId=data1.ChannelId.map({'ChannelId_2':'ChannelId_2',\n",
    "                                   'ChannelId_3':'ChannelId_3'}).fillna('others')\n",
    "data1.ProductId=data1.ProductId.map({'ProductId_5':'ProductId_22',\n",
    "                                     'ProductId_9':'ProductId_22',\n",
    "                                    'ProductId_22':'ProductId_22',\n",
    "                                    'ProductId_6':'ProductId_6',\n",
    "                                    'ProductId_3':'ProductId_3',\n",
    "                                    'ProductId_10':'ProductId_10',\n",
    "                                    'ProductId_15':'ProductId_15',}).fillna('others')\n",
    "data1.ProviderId=data1.ProviderId.map({'ProviderId_2':'others','ProviderId_3':'others'}).fillna(data.ProviderId)"
   ]
  },
  {
   "cell_type": "code",
   "execution_count": 21,
   "metadata": {
    "ExecuteTime": {
     "end_time": "2019-08-31T21:05:28.029982Z",
     "start_time": "2019-08-31T21:05:27.998733Z"
    }
   },
   "outputs": [],
   "source": [
    "from sklearn.neighbors import KNeighborsClassifier"
   ]
  },
  {
   "cell_type": "code",
   "execution_count": 22,
   "metadata": {
    "ExecuteTime": {
     "end_time": "2019-08-31T21:05:31.328644Z",
     "start_time": "2019-08-31T21:05:31.274556Z"
    }
   },
   "outputs": [],
   "source": [
    "knn1=KNeighborsClassifier(n_neighbors=5,weights='uniform',leaf_size=30)\n",
    "knn2=KNeighborsClassifier(n_neighbors=7,weights='uniform',leaf_size=30)\n",
    "knn3=KNeighborsClassifier(n_neighbors=9,weights='uniform',leaf_size=30)\n",
    "knn4=KNeighborsClassifier(n_neighbors=11,weights='uniform',leaf_size=30)\n",
    "knn5=KNeighborsClassifier(n_neighbors=5,weights='distance',leaf_size=30)\n",
    "knn6=KNeighborsClassifier(n_neighbors=7,weights='distance',leaf_size=30)\n",
    "knn7=KNeighborsClassifier(n_neighbors=9,weights='distance',leaf_size=30)\n",
    "knn8=KNeighborsClassifier(n_neighbors=11,weights='distance',leaf_size=30)"
   ]
  },
  {
   "cell_type": "code",
   "execution_count": 23,
   "metadata": {
    "ExecuteTime": {
     "end_time": "2019-08-31T21:06:18.470229Z",
     "start_time": "2019-08-31T21:05:34.627097Z"
    }
   },
   "outputs": [
    {
     "data": {
      "text/plain": [
       "KNeighborsClassifier(algorithm='auto', leaf_size=30, metric='minkowski',\n",
       "           metric_params=None, n_jobs=None, n_neighbors=11, p=2,\n",
       "           weights='distance')"
      ]
     },
     "execution_count": 23,
     "metadata": {},
     "output_type": "execute_result"
    }
   ],
   "source": [
    "knn1.fit(X,b)\n",
    "knn2.fit(X,b)\n",
    "knn3.fit(X,b)\n",
    "knn4.fit(X,b)\n",
    "knn5.fit(X,b)\n",
    "knn6.fit(X,b)\n",
    "knn7.fit(X,b)\n",
    "knn8.fit(X,b)"
   ]
  },
  {
   "cell_type": "code",
   "execution_count": 24,
   "metadata": {
    "ExecuteTime": {
     "end_time": "2019-08-31T21:12:17.740361Z",
     "start_time": "2019-08-31T21:06:22.482542Z"
    }
   },
   "outputs": [],
   "source": [
    "data1['knn1']=knn1.predict(X_full)\n",
    "data1['knn2']=knn2.predict(X_full)\n",
    "data1['knn3']=knn3.predict(X_full)\n",
    "data1['knn4']=knn4.predict(X_full)\n",
    "data1['knn5']=knn5.predict(X_full)\n",
    "data1['knn6']=knn6.predict(X_full)\n",
    "data1['knn7']=knn7.predict(X_full)\n",
    "data1['knn8']=knn8.predict(X_full)"
   ]
  },
  {
   "cell_type": "code",
   "execution_count": 25,
   "metadata": {
    "ExecuteTime": {
     "end_time": "2019-08-31T21:12:40.326029Z",
     "start_time": "2019-08-31T21:12:21.348534Z"
    }
   },
   "outputs": [],
   "source": [
    "import featuretools as ft"
   ]
  },
  {
   "cell_type": "code",
   "execution_count": 26,
   "metadata": {
    "ExecuteTime": {
     "end_time": "2019-08-31T21:12:46.869895Z",
     "start_time": "2019-08-31T21:12:44.226108Z"
    }
   },
   "outputs": [
    {
     "data": {
      "text/plain": [
       "Entityset: Xente\n",
       "  Entities:\n",
       "    Data [Rows: 92850, Columns: 38]\n",
       "  Relationships:\n",
       "    No relationships"
      ]
     },
     "execution_count": 26,
     "metadata": {},
     "output_type": "execute_result"
    }
   ],
   "source": [
    "# creating and entity set 'es'\n",
    "es = ft.EntitySet(id = 'Xente')\n",
    "\n",
    "# adding a dataframe \n",
    "es.entity_from_dataframe(entity_id = 'Data', dataframe = data1, index = 'TransactionId',\n",
    "                         time_index = 'TransactionStartTime')"
   ]
  },
  {
   "cell_type": "code",
   "execution_count": 27,
   "metadata": {
    "ExecuteTime": {
     "end_time": "2019-08-31T21:12:53.361160Z",
     "start_time": "2019-08-31T21:12:51.913266Z"
    }
   },
   "outputs": [
    {
     "data": {
      "text/plain": [
       "Entityset: Xente\n",
       "  Entities:\n",
       "    Data [Rows: 92850, Columns: 31]\n",
       "    Account [Rows: 7019, Columns: 9]\n",
       "  Relationships:\n",
       "    Data.CustomerId -> Account.CustomerId"
      ]
     },
     "execution_count": 27,
     "metadata": {},
     "output_type": "execute_result"
    }
   ],
   "source": [
    "es.normalize_entity(base_entity_id='Data', new_entity_id='Account', index = 'CustomerId', \n",
    "additional_variables = ['AccountId','ProductCategory','ChannelId','Amount','Amount_log','Value','Value_log'])"
   ]
  },
  {
   "cell_type": "code",
   "execution_count": 29,
   "metadata": {
    "ExecuteTime": {
     "end_time": "2019-08-31T21:22:45.583136Z",
     "start_time": "2019-08-31T21:13:03.557007Z"
    }
   },
   "outputs": [
    {
     "name": "stdout",
     "output_type": "stream",
     "text": [
      "Built 192 features\n",
      "EntitySet scattered to workers in 42.797 seconds\n",
      "Elapsed: 08:35 | Remaining: 00:00 | Progress: 100%|██████████████████████████████████████████| Calculated: 10/10 chunks\n"
     ]
    }
   ],
   "source": [
    "feature_matrix, feature_names = ft.dfs(entityset=es, target_entity = 'Data', max_depth = 4, verbose = 1, n_jobs = -1)"
   ]
  },
  {
   "cell_type": "code",
   "execution_count": 30,
   "metadata": {
    "ExecuteTime": {
     "end_time": "2019-08-31T21:22:54.300579Z",
     "start_time": "2019-08-31T21:22:51.190829Z"
    }
   },
   "outputs": [],
   "source": [
    "feature_matrix = feature_matrix.reindex(index=data['TransactionId'])\n",
    "feature_matrix = feature_matrix.reset_index()"
   ]
  },
  {
   "cell_type": "code",
   "execution_count": 31,
   "metadata": {
    "ExecuteTime": {
     "end_time": "2019-08-31T21:23:05.347921Z",
     "start_time": "2019-08-31T21:23:02.154341Z"
    }
   },
   "outputs": [],
   "source": [
    "fe=[col for col in feature_matrix.columns if feature_matrix[col].nunique()>1]"
   ]
  },
  {
   "cell_type": "code",
   "execution_count": 32,
   "metadata": {
    "ExecuteTime": {
     "end_time": "2019-08-31T21:23:11.944743Z",
     "start_time": "2019-08-31T21:23:11.373240Z"
    }
   },
   "outputs": [],
   "source": [
    "data_mod=feature_matrix[fe]"
   ]
  },
  {
   "cell_type": "markdown",
   "metadata": {
    "ExecuteTime": {
     "end_time": "2019-08-27T11:22:39.291425Z",
     "start_time": "2019-08-27T11:21:18.890283Z"
    }
   },
   "source": [
    "ad_data=data1.groupby('AccountId').agg(['mean','min','max','skew','median','std'])[['Amount',\n",
    "                                                            'TimeBetweenTransaction', 'AmountBetweenTransaction',\n",
    "       'PreviousTransactionBetweenHour', 'NumberOfTransactionWithinHour',\n",
    "       'AveAmtWithinPeriod', 'isf', 'is credit', 'Amount_log', 'Value_log', 'knn1', 'knn2',\n",
    "       'knn3', 'knn4', 'knn5', 'knn6', 'knn7', 'knn8']]"
   ]
  },
  {
   "cell_type": "markdown",
   "metadata": {
    "ExecuteTime": {
     "end_time": "2019-08-27T11:22:46.195887Z",
     "start_time": "2019-08-27T11:22:46.136884Z"
    }
   },
   "source": [
    "ad_data.reset_index(level=0, inplace=True)"
   ]
  },
  {
   "cell_type": "markdown",
   "metadata": {
    "ExecuteTime": {
     "end_time": "2019-08-27T11:22:54.849134Z",
     "start_time": "2019-08-27T11:22:52.890478Z"
    }
   },
   "source": [
    "data_mod=data1.merge(ad_data,on='AccountId')"
   ]
  },
  {
   "cell_type": "markdown",
   "metadata": {},
   "source": [
    "# EDA"
   ]
  },
  {
   "cell_type": "code",
   "execution_count": 42,
   "metadata": {
    "ExecuteTime": {
     "end_time": "2019-08-27T11:23:04.313831Z",
     "start_time": "2019-08-27T11:23:02.920917Z"
    }
   },
   "outputs": [
    {
     "data": {
      "text/plain": [
       "FraudResult                                 45019\n",
       "Amount_log                                  37274\n",
       "(Amount_log, skew)                          12565\n",
       "(Amount_log, std)                           11503\n",
       "(Amount_log, median)                        10466\n",
       "(Amount_log, max)                           10466\n",
       "(Amount_log, min)                           10466\n",
       "(Amount_log, mean)                          10466\n",
       "(knn1, skew)                                 2099\n",
       "(Amount, skew)                               2099\n",
       "(knn3, skew)                                 2099\n",
       "(Value_log, skew)                            2099\n",
       "(knn4, skew)                                 2099\n",
       "(knn5, skew)                                 2099\n",
       "(is credit, skew)                            2099\n",
       "(isf, skew)                                  2099\n",
       "(knn2, skew)                                 2099\n",
       "(NumberOfTransactionWithinHour, skew)        2099\n",
       "(PreviousTransactionBetweenHour, skew)       2099\n",
       "(knn6, skew)                                 2099\n",
       "(knn8, skew)                                 2099\n",
       "(AveAmtWithinPeriod, skew)                   2099\n",
       "(TimeBetweenTransaction, skew)               2099\n",
       "(AmountBetweenTransaction, skew)             2099\n",
       "(knn7, skew)                                 2099\n",
       "(knn1, std)                                  1037\n",
       "(AmountBetweenTransaction, std)              1037\n",
       "(Value_log, std)                             1037\n",
       "(Amount, std)                                1037\n",
       "(PreviousTransactionBetweenHour, std)        1037\n",
       "                                            ...  \n",
       "(knn8, max)                                     0\n",
       "(knn2, min)                                     0\n",
       "(knn2, mean)                                    0\n",
       "(knn1, median)                                  0\n",
       "(isf, min)                                      0\n",
       "(PreviousTransactionBetweenHour, max)           0\n",
       "(PreviousTransactionBetweenHour, median)        0\n",
       "(NumberOfTransactionWithinHour, mean)           0\n",
       "(NumberOfTransactionWithinHour, min)            0\n",
       "(NumberOfTransactionWithinHour, max)            0\n",
       "(NumberOfTransactionWithinHour, median)         0\n",
       "(AveAmtWithinPeriod, mean)                      0\n",
       "(AveAmtWithinPeriod, min)                       0\n",
       "(AveAmtWithinPeriod, max)                       0\n",
       "(knn8, median)                                  0\n",
       "(isf, mean)                                     0\n",
       "(isf, max)                                      0\n",
       "(knn1, max)                                     0\n",
       "(isf, median)                                   0\n",
       "(is credit, mean)                               0\n",
       "(is credit, min)                                0\n",
       "(is credit, max)                                0\n",
       "(is credit, median)                             0\n",
       "(Value_log, mean)                               0\n",
       "(Value_log, min)                                0\n",
       "(Value_log, max)                                0\n",
       "(Value_log, median)                             0\n",
       "(knn1, mean)                                    0\n",
       "(knn1, min)                                     0\n",
       "AccountId                                       0\n",
       "Length: 146, dtype: int64"
      ]
     },
     "execution_count": 42,
     "metadata": {},
     "output_type": "execute_result"
    }
   ],
   "source": [
    "data_mod.isnull().sum().sort_values(ascending=False)"
   ]
  },
  {
   "cell_type": "code",
   "execution_count": 43,
   "metadata": {
    "ExecuteTime": {
     "end_time": "2019-08-27T11:23:16.338122Z",
     "start_time": "2019-08-27T11:23:11.827372Z"
    }
   },
   "outputs": [
    {
     "data": {
      "text/plain": [
       "(knn1, min)                                  1\n",
       "(knn7, min)                                  1\n",
       "(knn4, min)                                  1\n",
       "CountryCode                                  1\n",
       "CurrencyCode                                 1\n",
       "(knn8, min)                                  1\n",
       "(is credit, min)                             1\n",
       "(knn6, min)                                  1\n",
       "is credit                                    1\n",
       "(knn3, min)                                  1\n",
       "(knn5, min)                                  1\n",
       "(knn2, min)                                  1\n",
       "(knn5, max)                                  2\n",
       "knn4                                         2\n",
       "knn7                                         2\n",
       "knn3                                         2\n",
       "knn2                                         2\n",
       "knn1                                         2\n",
       "knn6                                         2\n",
       "knn8                                         2\n",
       "(is credit, mean)                            2\n",
       "(is credit, max)                             2\n",
       "(knn2, max)                                  2\n",
       "(PreviousTransactionBetweenHour, min)        2\n",
       "(PreviousTransactionBetweenHour, max)        2\n",
       "(knn4, max)                                  2\n",
       "(knn3, max)                                  2\n",
       "(knn6, max)                                  2\n",
       "(is credit, skew)                            2\n",
       "knn5                                         2\n",
       "                                         ...  \n",
       "(Amount_log, mean)                        1690\n",
       "(Amount, std)                             1701\n",
       "(Value_log, mean)                         1707\n",
       "(AmountBetweenTransaction, std)           1732\n",
       "(Amount_log, skew)                        1736\n",
       "(Value_log, skew)                         1742\n",
       "(Amount_log, std)                         1760\n",
       "(Value_log, std)                          1765\n",
       "(AveAmtWithinPeriod, mean)                1773\n",
       "(AveAmtWithinPeriod, skew)                1840\n",
       "(isf, max)                                1857\n",
       "(isf, min)                                1866\n",
       "(AveAmtWithinPeriod, std)                 1879\n",
       "(isf, median)                             1937\n",
       "(TimeBetweenTransaction, max)             1948\n",
       "(TimeBetweenTransaction, mean)            1949\n",
       "SubscriptionId                            1956\n",
       "(isf, std)                                1957\n",
       "AccountId                                 1957\n",
       "(isf, skew)                               1957\n",
       "(isf, mean)                               1957\n",
       "(TimeBetweenTransaction, skew)            1957\n",
       "(TimeBetweenTransaction, std)             1957\n",
       "CustomerId                                1961\n",
       "AveAmtWithinPeriod                        2262\n",
       "TimeBetweenTransaction                   14799\n",
       "isf                                      26476\n",
       "BatchId                                  27114\n",
       "TransactionStartTime                     27221\n",
       "TransactionId                            27357\n",
       "Length: 146, dtype: int64"
      ]
     },
     "execution_count": 43,
     "metadata": {},
     "output_type": "execute_result"
    }
   ],
   "source": [
    "data_mod.dropna().nunique().sort_values()"
   ]
  },
  {
   "cell_type": "code",
   "execution_count": 44,
   "metadata": {
    "ExecuteTime": {
     "end_time": "2019-08-27T11:23:23.772660Z",
     "start_time": "2019-08-27T11:23:23.741664Z"
    }
   },
   "outputs": [
    {
     "data": {
      "text/plain": [
       "Index([       'AccountId',           'Amount',          'BatchId',\n",
       "              'ChannelId',      'CountryCode',     'CurrencyCode',\n",
       "             'CustomerId',      'FraudResult',  'PricingStrategy',\n",
       "        'ProductCategory',\n",
       "       ...\n",
       "          ('knn7', 'max'),   ('knn7', 'skew'), ('knn7', 'median'),\n",
       "          ('knn7', 'std'),   ('knn8', 'mean'),    ('knn8', 'min'),\n",
       "          ('knn8', 'max'),   ('knn8', 'skew'), ('knn8', 'median'),\n",
       "          ('knn8', 'std')],\n",
       "      dtype='object', length=146)"
      ]
     },
     "execution_count": 44,
     "metadata": {},
     "output_type": "execute_result"
    }
   ],
   "source": [
    "data_mod.columns"
   ]
  },
  {
   "cell_type": "code",
   "execution_count": 45,
   "metadata": {
    "ExecuteTime": {
     "end_time": "2019-08-27T11:23:31.492184Z",
     "start_time": "2019-08-27T11:23:31.236198Z"
    }
   },
   "outputs": [],
   "source": [
    "data_mod.drop([('knn2','min'),('knn1','min'),('knn3','min'),('knn4','min'),('knn5','min'),('knn6','min'),\n",
    "              ('knn7','min'),('knn8','min'),'is credit',('is credit','min'),'CurrencyCode','CountryCode',\n",
    "              ('NumberOfTransactionWithinHour', 'min'),('PreviousTransactionBetweenHour', 'min'),\n",
    "              ('TimeBetweenTransaction', 'min')],axis=1,inplace=True)"
   ]
  },
  {
   "cell_type": "code",
   "execution_count": 46,
   "metadata": {
    "ExecuteTime": {
     "end_time": "2019-08-27T11:23:42.648492Z",
     "start_time": "2019-08-27T11:23:38.770735Z"
    }
   },
   "outputs": [
    {
     "data": {
      "text/plain": [
       "knn3                                            2\n",
       "knn1                                            2\n",
       "(knn2, max)                                     2\n",
       "knn5                                            2\n",
       "knn6                                            2\n",
       "knn7                                            2\n",
       "knn8                                            2\n",
       "quarter                                         2\n",
       "(knn1, max)                                     2\n",
       "(knn7, max)                                     2\n",
       "(is credit, std)                                2\n",
       "PreviousTransactionBetweenHour                  2\n",
       "knn2                                            2\n",
       "(knn3, max)                                     2\n",
       "(is credit, skew)                               2\n",
       "(knn6, max)                                     2\n",
       "(is credit, max)                                2\n",
       "(is credit, mean)                               2\n",
       "(knn5, max)                                     2\n",
       "(PreviousTransactionBetweenHour, max)           2\n",
       "FraudResult                                     2\n",
       "(knn8, max)                                     2\n",
       "ChannelId                                       2\n",
       "(knn4, max)                                     2\n",
       "(is credit, median)                             2\n",
       "knn4                                            2\n",
       "(knn6, median)                                  3\n",
       "(knn5, median)                                  3\n",
       "(knn1, median)                                  3\n",
       "(PreviousTransactionBetweenHour, median)        3\n",
       "                                            ...  \n",
       "(Amount_log, mean)                           1690\n",
       "(Amount, std)                                1701\n",
       "(Value_log, mean)                            1707\n",
       "(AmountBetweenTransaction, std)              1732\n",
       "(Amount_log, skew)                           1736\n",
       "(Value_log, skew)                            1742\n",
       "(Amount_log, std)                            1760\n",
       "(Value_log, std)                             1765\n",
       "(AveAmtWithinPeriod, mean)                   1773\n",
       "(AveAmtWithinPeriod, skew)                   1840\n",
       "(isf, max)                                   1857\n",
       "(isf, min)                                   1866\n",
       "(AveAmtWithinPeriod, std)                    1879\n",
       "(isf, median)                                1937\n",
       "(TimeBetweenTransaction, max)                1948\n",
       "(TimeBetweenTransaction, mean)               1949\n",
       "SubscriptionId                               1956\n",
       "(TimeBetweenTransaction, std)                1957\n",
       "(TimeBetweenTransaction, skew)               1957\n",
       "(isf, skew)                                  1957\n",
       "(isf, std)                                   1957\n",
       "(isf, mean)                                  1957\n",
       "AccountId                                    1957\n",
       "CustomerId                                   1961\n",
       "AveAmtWithinPeriod                           2262\n",
       "TimeBetweenTransaction                      14799\n",
       "isf                                         26476\n",
       "BatchId                                     27114\n",
       "TransactionStartTime                        27221\n",
       "TransactionId                               27357\n",
       "Length: 131, dtype: int64"
      ]
     },
     "execution_count": 46,
     "metadata": {},
     "output_type": "execute_result"
    }
   ],
   "source": [
    "data_mod.dropna().nunique().sort_values()"
   ]
  },
  {
   "cell_type": "markdown",
   "metadata": {
    "ExecuteTime": {
     "end_time": "2019-08-27T09:52:24.080671Z",
     "start_time": "2019-08-27T09:52:22.566763Z"
    }
   },
   "source": [
    "# Quick Benchmark"
   ]
  },
  {
   "cell_type": "code",
   "execution_count": 33,
   "metadata": {
    "ExecuteTime": {
     "end_time": "2019-08-31T21:23:28.074402Z",
     "start_time": "2019-08-31T21:23:19.150946Z"
    }
   },
   "outputs": [],
   "source": [
    "from xgboost import XGBClassifier"
   ]
  },
  {
   "cell_type": "code",
   "execution_count": 34,
   "metadata": {
    "ExecuteTime": {
     "end_time": "2019-08-31T21:24:04.778878Z",
     "start_time": "2019-08-31T21:24:04.767882Z"
    }
   },
   "outputs": [],
   "source": [
    "xg=XGBClassifier(max_depth=7,learning_rate=0.1, n_estimators=1000, verbosity=1, random_state=0)"
   ]
  },
  {
   "cell_type": "code",
   "execution_count": 35,
   "metadata": {
    "ExecuteTime": {
     "end_time": "2019-08-31T21:24:17.989970Z",
     "start_time": "2019-08-31T21:24:16.129763Z"
    }
   },
   "outputs": [],
   "source": [
    "test=data_mod[data_mod.FraudResult.isnull()]\n",
    "train=data_mod[data_mod.FraudResult.notnull()]"
   ]
  },
  {
   "cell_type": "code",
   "execution_count": 65,
   "metadata": {
    "ExecuteTime": {
     "end_time": "2019-08-27T12:48:22.005054Z",
     "start_time": "2019-08-27T12:48:21.474091Z"
    }
   },
   "outputs": [],
   "source": [
    "a=train.drop(['FraudResult','TransactionId','BatchId','month','AccountId',\n",
    "              'SubscriptionId','CustomerId','TransactionStartTime'],axis=1)\n",
    "b=train['FraudResult']\n",
    "\n",
    "X_train, X_test, y_train, y_test = train_test_split(a, b, test_size=0.2, random_state=982)"
   ]
  },
  {
   "cell_type": "code",
   "execution_count": 66,
   "metadata": {
    "ExecuteTime": {
     "end_time": "2019-08-27T12:48:37.813958Z",
     "start_time": "2019-08-27T12:48:35.984409Z"
    }
   },
   "outputs": [],
   "source": [
    "ce=TargetEncoder()\n",
    "X_train=ce.fit_transform(X_train,y_train)\n",
    "X_test=ce.transform(X_test)"
   ]
  },
  {
   "cell_type": "code",
   "execution_count": 67,
   "metadata": {
    "ExecuteTime": {
     "end_time": "2019-08-27T12:48:48.662838Z",
     "start_time": "2019-08-27T12:48:47.477882Z"
    }
   },
   "outputs": [],
   "source": [
    "sc=RobustScaler()\n",
    "X_train=sc.fit_transform(X_train)\n",
    "X_test=sc.transform(X_test)"
   ]
  },
  {
   "cell_type": "code",
   "execution_count": 68,
   "metadata": {
    "ExecuteTime": {
     "end_time": "2019-08-27T12:49:11.626596Z",
     "start_time": "2019-08-27T12:48:56.318365Z"
    }
   },
   "outputs": [
    {
     "name": "stdout",
     "output_type": "stream",
     "text": [
      "[0]\tvalidation_0-aucpr:0.771806\n",
      "Will train until validation_0-aucpr hasn't improved in 50 rounds.\n",
      "[1]\tvalidation_0-aucpr:0.771806\n",
      "[2]\tvalidation_0-aucpr:0.771806\n",
      "[3]\tvalidation_0-aucpr:0.771806\n",
      "[4]\tvalidation_0-aucpr:0.771806\n",
      "[5]\tvalidation_0-aucpr:0.771806\n",
      "[6]\tvalidation_0-aucpr:0.772671\n",
      "[7]\tvalidation_0-aucpr:0.772671\n",
      "[8]\tvalidation_0-aucpr:0.772671\n",
      "[9]\tvalidation_0-aucpr:0.772424\n",
      "[10]\tvalidation_0-aucpr:0.77309\n",
      "[11]\tvalidation_0-aucpr:0.773732\n",
      "[12]\tvalidation_0-aucpr:0.773732\n",
      "[13]\tvalidation_0-aucpr:0.773732\n",
      "[14]\tvalidation_0-aucpr:0.822765\n",
      "[15]\tvalidation_0-aucpr:0.821707\n",
      "[16]\tvalidation_0-aucpr:0.856073\n",
      "[17]\tvalidation_0-aucpr:0.856626\n",
      "[18]\tvalidation_0-aucpr:0.859792\n",
      "[19]\tvalidation_0-aucpr:0.860061\n",
      "[20]\tvalidation_0-aucpr:0.861104\n",
      "[21]\tvalidation_0-aucpr:0.87032\n",
      "[22]\tvalidation_0-aucpr:0.887278\n",
      "[23]\tvalidation_0-aucpr:0.888307\n",
      "[24]\tvalidation_0-aucpr:0.894895\n",
      "[25]\tvalidation_0-aucpr:0.895574\n",
      "[26]\tvalidation_0-aucpr:0.89484\n",
      "[27]\tvalidation_0-aucpr:0.894947\n",
      "[28]\tvalidation_0-aucpr:0.896597\n",
      "[29]\tvalidation_0-aucpr:0.895276\n",
      "[30]\tvalidation_0-aucpr:0.894424\n",
      "[31]\tvalidation_0-aucpr:0.895004\n",
      "[32]\tvalidation_0-aucpr:0.894976\n",
      "[33]\tvalidation_0-aucpr:0.894075\n",
      "[34]\tvalidation_0-aucpr:0.892865\n",
      "[35]\tvalidation_0-aucpr:0.895265\n",
      "[36]\tvalidation_0-aucpr:0.89465\n",
      "[37]\tvalidation_0-aucpr:0.891236\n",
      "[38]\tvalidation_0-aucpr:0.890025\n",
      "[39]\tvalidation_0-aucpr:0.890877\n",
      "[40]\tvalidation_0-aucpr:0.889317\n",
      "[41]\tvalidation_0-aucpr:0.890473\n",
      "[42]\tvalidation_0-aucpr:0.889037\n",
      "[43]\tvalidation_0-aucpr:0.889521\n",
      "[44]\tvalidation_0-aucpr:0.887626\n",
      "[45]\tvalidation_0-aucpr:0.888159\n",
      "[46]\tvalidation_0-aucpr:0.884942\n",
      "[47]\tvalidation_0-aucpr:0.885435\n",
      "[48]\tvalidation_0-aucpr:0.887469\n",
      "[49]\tvalidation_0-aucpr:0.885307\n",
      "[50]\tvalidation_0-aucpr:0.885284\n",
      "[51]\tvalidation_0-aucpr:0.884313\n",
      "[52]\tvalidation_0-aucpr:0.884218\n",
      "[53]\tvalidation_0-aucpr:0.883527\n",
      "[54]\tvalidation_0-aucpr:0.883513\n",
      "[55]\tvalidation_0-aucpr:0.880188\n",
      "[56]\tvalidation_0-aucpr:0.879488\n",
      "[57]\tvalidation_0-aucpr:0.879638\n",
      "[58]\tvalidation_0-aucpr:0.875845\n",
      "[59]\tvalidation_0-aucpr:0.876635\n",
      "[60]\tvalidation_0-aucpr:0.874988\n",
      "[61]\tvalidation_0-aucpr:0.875017\n",
      "[62]\tvalidation_0-aucpr:0.875443\n",
      "[63]\tvalidation_0-aucpr:0.874094\n",
      "[64]\tvalidation_0-aucpr:0.872126\n",
      "[65]\tvalidation_0-aucpr:0.871021\n",
      "[66]\tvalidation_0-aucpr:0.87002\n",
      "[67]\tvalidation_0-aucpr:0.87087\n",
      "[68]\tvalidation_0-aucpr:0.873295\n",
      "[69]\tvalidation_0-aucpr:0.87443\n",
      "[70]\tvalidation_0-aucpr:0.874518\n",
      "[71]\tvalidation_0-aucpr:0.873669\n",
      "[72]\tvalidation_0-aucpr:0.873427\n",
      "[73]\tvalidation_0-aucpr:0.873113\n",
      "[74]\tvalidation_0-aucpr:0.872154\n",
      "[75]\tvalidation_0-aucpr:0.871431\n",
      "[76]\tvalidation_0-aucpr:0.870538\n",
      "[77]\tvalidation_0-aucpr:0.870297\n",
      "[78]\tvalidation_0-aucpr:0.869367\n",
      "Stopping. Best iteration:\n",
      "[28]\tvalidation_0-aucpr:0.896597\n",
      "\n"
     ]
    },
    {
     "data": {
      "text/plain": [
       "XGBClassifier(base_score=0.5, booster='gbtree', colsample_bylevel=1,\n",
       "       colsample_bynode=1, colsample_bytree=1, gamma=0, learning_rate=0.1,\n",
       "       max_delta_step=0, max_depth=7, min_child_weight=1, missing=None,\n",
       "       n_estimators=1000, n_jobs=1, nthread=None,\n",
       "       objective='binary:logistic', random_state=0, reg_alpha=0,\n",
       "       reg_lambda=1, scale_pos_weight=1, seed=None, silent=None,\n",
       "       subsample=1, verbosity=1)"
      ]
     },
     "execution_count": 68,
     "metadata": {},
     "output_type": "execute_result"
    }
   ],
   "source": [
    "xg.fit(X_train, y_train,eval_set=[(X_test, y_test)], eval_metric='aucpr',\n",
    "       early_stopping_rounds=50, verbose=True)"
   ]
  },
  {
   "cell_type": "code",
   "execution_count": 69,
   "metadata": {
    "ExecuteTime": {
     "end_time": "2019-08-27T12:49:44.833062Z",
     "start_time": "2019-08-27T12:49:44.566033Z"
    }
   },
   "outputs": [
    {
     "data": {
      "text/plain": [
       "0.7789473684210527"
      ]
     },
     "execution_count": 69,
     "metadata": {},
     "output_type": "execute_result"
    }
   ],
   "source": [
    "from sklearn.metrics import f1_score\n",
    "f1_score(y_test,xg.predict(X_test))"
   ]
  },
  {
   "cell_type": "code",
   "execution_count": 70,
   "metadata": {
    "ExecuteTime": {
     "end_time": "2019-08-27T12:49:55.672427Z",
     "start_time": "2019-08-27T12:49:52.660065Z"
    }
   },
   "outputs": [
    {
     "data": {
      "text/plain": [
       "Text(0.5,0,'Importance')"
      ]
     },
     "execution_count": 70,
     "metadata": {},
     "output_type": "execute_result"
    },
    {
     "data": {
      "image/png": "[encoded data removed]",
      "text/plain": [
       "<Figure size 720x1080 with 1 Axes>"
      ]
     },
     "metadata": {
      "needs_background": "light"
     },
     "output_type": "display_data"
    }
   ],
   "source": [
    "fea_imp = pd.DataFrame({'imp': xg.feature_importances_, 'col': a.columns})\n",
    "fea_imp = fea_imp.sort_values(['imp', 'col'], ascending=[True, False]).iloc[-50:]\n",
    "fea_imp.plot(kind='barh', x='col', y='imp', figsize=(10, 15), legend=None)\n",
    "plt.title('Xgboost - Feature Importance')\n",
    "plt.ylabel('Features')\n",
    "plt.xlabel('Importance')"
   ]
  },
  {
   "cell_type": "code",
   "execution_count": 71,
   "metadata": {
    "ExecuteTime": {
     "end_time": "2019-08-27T12:50:18.084672Z",
     "start_time": "2019-08-27T12:50:18.043165Z"
    }
   },
   "outputs": [],
   "source": [
    "xx=test.drop(['FraudResult','TransactionId','BatchId','month','AccountId',\n",
    "              'SubscriptionId','CustomerId','TransactionStartTime'],axis=1)"
   ]
  },
  {
   "cell_type": "code",
   "execution_count": 72,
   "metadata": {
    "ExecuteTime": {
     "end_time": "2019-08-27T12:50:28.466850Z",
     "start_time": "2019-08-27T12:50:27.072936Z"
    }
   },
   "outputs": [],
   "source": [
    "xx=sc.transform(ce.transform(xx))"
   ]
  },
  {
   "cell_type": "code",
   "execution_count": 73,
   "metadata": {
    "ExecuteTime": {
     "end_time": "2019-08-27T12:50:38.998054Z",
     "start_time": "2019-08-27T12:50:38.793063Z"
    }
   },
   "outputs": [
    {
     "data": {
      "text/plain": [
       "66.0"
      ]
     },
     "execution_count": 73,
     "metadata": {},
     "output_type": "execute_result"
    }
   ],
   "source": [
    "xg.predict(xx).sum()"
   ]
  },
  {
   "cell_type": "code",
   "execution_count": 74,
   "metadata": {
    "ExecuteTime": {
     "end_time": "2019-08-27T12:50:51.728816Z",
     "start_time": "2019-08-27T12:50:50.416966Z"
    }
   },
   "outputs": [],
   "source": [
    "#pd.DataFrame(xg.predict(xx)).to_csv('New Benchmark 3.csv',index=True)"
   ]
  },
  {
   "cell_type": "code",
   "execution_count": null,
   "metadata": {},
   "outputs": [],
   "source": []
  }
 ],
 "metadata": {
  "kernelspec": {
   "display_name": "Python 3",
   "language": "python",
   "name": "python3"
  },
  "language_info": {
   "codemirror_mode": {
    "name": "ipython",
    "version": 3
   },
   "file_extension": ".py",
   "mimetype": "text/x-python",
   "name": "python",
   "nbconvert_exporter": "python",
   "pygments_lexer": "ipython3",
   "version": "3.6.9"
  },
  "toc": {
   "base_numbering": 1,
   "nav_menu": {},
   "number_sections": true,
   "sideBar": true,
   "skip_h1_title": false,
   "title_cell": "Table of Contents",
   "title_sidebar": "Contents",
   "toc_cell": false,
   "toc_position": {},
   "toc_section_display": true,
   "toc_window_display": false
  },
  "varInspector": {
   "cols": {
    "lenName": 16,
    "lenType": 16,
    "lenVar": 40
   },
   "kernels_config": {
    "python": {
     "delete_cmd_postfix": "",
     "delete_cmd_prefix": "del ",
     "library": "var_list.py",
     "varRefreshCmd": "print(var_dic_list())"
    },
    "r": {
     "delete_cmd_postfix": ") ",
     "delete_cmd_prefix": "rm(",
     "library": "var_list.r",
     "varRefreshCmd": "cat(var_dic_list()) "
    }
   },
   "types_to_exclude": [
    "module",
    "function",
    "builtin_function_or_method",
    "instance",
    "_Feature"
   ],
   "window_display": false
  }
 },
 "nbformat": 4,
 "nbformat_minor": 2
}
