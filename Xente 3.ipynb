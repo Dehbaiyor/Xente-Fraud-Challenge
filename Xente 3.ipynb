{
 "cells": [
  {
   "cell_type": "markdown",
   "metadata": {},
   "source": [
    "# Data loading"
   ]
  },
  {
   "cell_type": "code",
   "execution_count": 1,
   "metadata": {
    "ExecuteTime": {
     "end_time": "2019-08-23T08:35:59.845353Z",
     "start_time": "2019-08-23T08:35:05.780286Z"
    }
   },
   "outputs": [],
   "source": [
    "import pandas as pd\n",
    "import numpy as np\n",
    "import pickle\n",
    "import matplotlib.pyplot as plt\n",
    "from scipy import stats\n",
    "#import tensorflow as tf\n",
    "import seaborn as sns\n",
    "#from pylab import rcParams\n",
    "from sklearn.model_selection import train_test_split\n",
    "#from keras.models import Model, load_model\n",
    "#from keras.layers import Input, Dense\n",
    "#from keras.callbacks import ModelCheckpoint, TensorBoard\n",
    "#from keras import regularizers\n",
    "\n",
    "%matplotlib inline\n",
    "\n",
    "#sns.set(style='whitegrid', palette='muted', font_scale=1.5)\n",
    "\n",
    "#rcParams['figure.figsize'] = 14, 8\n",
    "\n",
    "import warnings\n",
    "from catboost import CatBoostClassifier\n",
    "\n",
    "warnings.filterwarnings('ignore')"
   ]
  },
  {
   "cell_type": "code",
   "execution_count": 2,
   "metadata": {
    "ExecuteTime": {
     "end_time": "2019-08-23T08:36:29.684370Z",
     "start_time": "2019-08-23T08:36:26.643875Z"
    }
   },
   "outputs": [],
   "source": [
    "data=pd.read_csv('Customer Profile.csv',parse_dates=['TransactionStartTime'])"
   ]
  },
  {
   "cell_type": "code",
   "execution_count": 3,
   "metadata": {
    "ExecuteTime": {
     "end_time": "2019-08-23T08:36:33.565576Z",
     "start_time": "2019-08-23T08:36:32.648183Z"
    }
   },
   "outputs": [],
   "source": [
    "data['month']=data['TransactionStartTime'].dt.month\n",
    "data['quarter']=data['TransactionStartTime'].dt.quarter\n",
    "#data['day']=data['TransactionStartTime'].dt.day\n",
    "data['week_of_month']=data['TransactionStartTime'].dt.day//7\n",
    "#data['day_of_year']=data['TransactionStartTime'].dt.dayofyear\n",
    "data['weekday']=data['TransactionStartTime'].dt.weekday_name\n",
    "data['hour']=data['TransactionStartTime'].dt.hour\n",
    "#data['week']=data['TransactionStartTime'].dt.week\n",
    "#data['minute']=data['TransactionStartTime'].dt.minute\n",
    "#data['seconds']=data['TransactionStartTime'].dt.second\n",
    "data.drop('Unnamed: 0',inplace=True,axis=1)"
   ]
  },
  {
   "cell_type": "code",
   "execution_count": 4,
   "metadata": {
    "ExecuteTime": {
     "end_time": "2019-08-23T08:36:36.665843Z",
     "start_time": "2019-08-23T08:36:36.363455Z"
    }
   },
   "outputs": [],
   "source": [
    "data.drop('Unnamed: 0',inplace=True,axis=1)"
   ]
  },
  {
   "cell_type": "code",
   "execution_count": 5,
   "metadata": {
    "ExecuteTime": {
     "end_time": "2019-08-23T08:36:40.081356Z",
     "start_time": "2019-08-23T08:36:39.361323Z"
    }
   },
   "outputs": [],
   "source": [
    "test=data[data.FraudResult.isnull()]\n",
    "train=data.dropna()"
   ]
  },
  {
   "cell_type": "code",
   "execution_count": 6,
   "metadata": {
    "ExecuteTime": {
     "end_time": "2019-08-23T08:36:46.022151Z",
     "start_time": "2019-08-23T08:36:45.962158Z"
    }
   },
   "outputs": [],
   "source": [
    "a=train.drop(['FraudResult','CurrencyCode', 'CountryCode','TransactionId','BatchId',\n",
    "              'AccountId','SubscriptionId','CustomerId','TransactionStartTime'],axis=1)\n",
    "b=train['FraudResult']"
   ]
  },
  {
   "cell_type": "code",
   "execution_count": 7,
   "metadata": {
    "ExecuteTime": {
     "end_time": "2019-08-23T08:36:53.629747Z",
     "start_time": "2019-08-23T08:36:53.244861Z"
    }
   },
   "outputs": [],
   "source": [
    "X_train, X_test, y_train, y_test = train_test_split(a.drop('month',axis=1), b, test_size=0.3, random_state=4092)"
   ]
  },
  {
   "cell_type": "code",
   "execution_count": 8,
   "metadata": {
    "ExecuteTime": {
     "end_time": "2019-08-23T08:37:09.320495Z",
     "start_time": "2019-08-23T08:37:07.001654Z"
    }
   },
   "outputs": [],
   "source": [
    "from sklearn.ensemble import IsolationForest\n",
    "from category_encoders import TargetEncoder\n",
    "from sklearn.preprocessing import StandardScaler\n",
    "from sklearn.metrics import f1_score"
   ]
  },
  {
   "cell_type": "code",
   "execution_count": 10,
   "metadata": {
    "ExecuteTime": {
     "end_time": "2019-08-23T08:38:22.817728Z",
     "start_time": "2019-08-23T08:38:20.776308Z"
    }
   },
   "outputs": [],
   "source": [
    "ce=TargetEncoder()\n",
    "X_train=ce.fit_transform(X_train,y_train)\n",
    "X_test=ce.transform(X_test)"
   ]
  },
  {
   "cell_type": "code",
   "execution_count": 11,
   "metadata": {
    "ExecuteTime": {
     "end_time": "2019-08-23T08:38:31.517650Z",
     "start_time": "2019-08-23T08:38:31.183647Z"
    }
   },
   "outputs": [],
   "source": [
    "sc=StandardScaler()\n",
    "X_train=sc.fit_transform(X_train)\n",
    "X_test=sc.transform(X_test)"
   ]
  },
  {
   "cell_type": "code",
   "execution_count": 73,
   "metadata": {
    "ExecuteTime": {
     "end_time": "2019-08-23T09:11:57.211970Z",
     "start_time": "2019-08-23T09:11:56.114301Z"
    }
   },
   "outputs": [],
   "source": [
    "X=sc.transform(ce.transform(a.drop('month',axis=1)))"
   ]
  },
  {
   "cell_type": "code",
   "execution_count": 66,
   "metadata": {
    "ExecuteTime": {
     "end_time": "2019-08-23T09:07:59.949282Z",
     "start_time": "2019-08-23T09:07:59.935288Z"
    }
   },
   "outputs": [],
   "source": [
    "isf=IsolationForest(n_estimators=250,contamination=0.002,bootstrap=True,random_state=12)"
   ]
  },
  {
   "cell_type": "code",
   "execution_count": 67,
   "metadata": {
    "ExecuteTime": {
     "end_time": "2019-08-23T09:08:40.979502Z",
     "start_time": "2019-08-23T09:08:07.699109Z"
    }
   },
   "outputs": [
    {
     "data": {
      "text/plain": [
       "IsolationForest(behaviour='old', bootstrap=True, contamination=0.002,\n",
       "        max_features=1.0, max_samples='auto', n_estimators=250,\n",
       "        n_jobs=None, random_state=12, verbose=0)"
      ]
     },
     "execution_count": 67,
     "metadata": {},
     "output_type": "execute_result"
    }
   ],
   "source": [
    "isf.fit(X_train)"
   ]
  },
  {
   "cell_type": "code",
   "execution_count": 68,
   "metadata": {
    "ExecuteTime": {
     "end_time": "2019-08-23T09:09:07.728026Z",
     "start_time": "2019-08-23T09:08:47.406519Z"
    }
   },
   "outputs": [],
   "source": [
    "y_pred=isf.predict(X_train)\n",
    "y_pred[y_pred == 1] = 0\n",
    "y_pred[y_pred == -1] = 1"
   ]
  },
  {
   "cell_type": "code",
   "execution_count": 69,
   "metadata": {
    "ExecuteTime": {
     "end_time": "2019-08-23T09:09:14.061633Z",
     "start_time": "2019-08-23T09:09:13.989639Z"
    }
   },
   "outputs": [
    {
     "data": {
      "text/plain": [
       "0.5230769230769231"
      ]
     },
     "execution_count": 69,
     "metadata": {},
     "output_type": "execute_result"
    }
   ],
   "source": [
    "f1_score(y_train,y_pred)"
   ]
  },
  {
   "cell_type": "code",
   "execution_count": 70,
   "metadata": {
    "ExecuteTime": {
     "end_time": "2019-08-23T09:09:29.570855Z",
     "start_time": "2019-08-23T09:09:20.356437Z"
    }
   },
   "outputs": [
    {
     "data": {
      "text/plain": [
       "0.5625"
      ]
     },
     "execution_count": 70,
     "metadata": {},
     "output_type": "execute_result"
    }
   ],
   "source": [
    "y_pred=isf.predict(X_test)\n",
    "y_pred[y_pred == 1] = 0\n",
    "y_pred[y_pred == -1] = 1\n",
    "f1_score(y_test,y_pred)"
   ]
  },
  {
   "cell_type": "code",
   "execution_count": 74,
   "metadata": {
    "ExecuteTime": {
     "end_time": "2019-08-23T09:13:03.169248Z",
     "start_time": "2019-08-23T09:12:06.638880Z"
    }
   },
   "outputs": [
    {
     "data": {
      "text/plain": [
       "IsolationForest(behaviour='old', bootstrap=True, contamination=0.002,\n",
       "        max_features=1.0, max_samples='auto', n_estimators=250,\n",
       "        n_jobs=None, random_state=12, verbose=0)"
      ]
     },
     "execution_count": 74,
     "metadata": {},
     "output_type": "execute_result"
    }
   ],
   "source": [
    "isf.fit(X,b)"
   ]
  },
  {
   "cell_type": "code",
   "execution_count": 75,
   "metadata": {
    "ExecuteTime": {
     "end_time": "2019-08-23T09:14:45.829905Z",
     "start_time": "2019-08-23T09:14:01.850362Z"
    }
   },
   "outputs": [
    {
     "data": {
      "text/plain": [
       "array([-0.42188633, -0.44446104, -0.42855887, ..., -0.39837714,\n",
       "       -0.42222184, -0.39395692])"
      ]
     },
     "execution_count": 75,
     "metadata": {},
     "output_type": "execute_result"
    }
   ],
   "source": [
    "isf.score_samples(X)"
   ]
  },
  {
   "cell_type": "code",
   "execution_count": 77,
   "metadata": {
    "ExecuteTime": {
     "end_time": "2019-08-23T09:22:02.546438Z",
     "start_time": "2019-08-23T09:21:19.521243Z"
    }
   },
   "outputs": [],
   "source": [
    "train['isf']=isf.score_samples(X)"
   ]
  },
  {
   "cell_type": "code",
   "execution_count": 85,
   "metadata": {
    "ExecuteTime": {
     "end_time": "2019-08-23T09:27:08.477005Z",
     "start_time": "2019-08-23T09:27:08.459004Z"
    }
   },
   "outputs": [],
   "source": [
    "sns.boxplot?"
   ]
  },
  {
   "cell_type": "code",
   "execution_count": 86,
   "metadata": {
    "ExecuteTime": {
     "end_time": "2019-08-23T09:27:21.513937Z",
     "start_time": "2019-08-23T09:27:20.817983Z"
    }
   },
   "outputs": [
    {
     "data": {
      "text/plain": [
       "<matplotlib.axes._subplots.AxesSubplot at 0x28196273048>"
      ]
     },
     "execution_count": 86,
     "metadata": {},
     "output_type": "execute_result"
    },
    {
     "data": {
      "image/png": "[encoded data removed]",
      "text/plain": [
       "<Figure size 432x288 with 1 Axes>"
      ]
     },
     "metadata": {
      "needs_background": "light"
     },
     "output_type": "display_data"
    }
   ],
   "source": [
    "sns.boxplot(y=train['isf'],x=train['FraudResult'])"
   ]
  },
  {
   "cell_type": "code",
   "execution_count": 89,
   "metadata": {
    "ExecuteTime": {
     "end_time": "2019-08-23T09:32:43.782849Z",
     "start_time": "2019-08-23T09:32:43.222880Z"
    }
   },
   "outputs": [],
   "source": [
    "from sklearn.discriminant_analysis import LinearDiscriminantAnalysis\n",
    ">>> lda = LinearDiscriminantAnalysis()"
   ]
  },
  {
   "cell_type": "code",
   "execution_count": 90,
   "metadata": {
    "ExecuteTime": {
     "end_time": "2019-08-23T09:33:05.190621Z",
     "start_time": "2019-08-23T09:33:03.191742Z"
    }
   },
   "outputs": [
    {
     "data": {
      "text/plain": [
       "LinearDiscriminantAnalysis(n_components=None, priors=None, shrinkage=None,\n",
       "              solver='svd', store_covariance=False, tol=0.0001)"
      ]
     },
     "execution_count": 90,
     "metadata": {},
     "output_type": "execute_result"
    }
   ],
   "source": [
    "lda.fit(X_train,y_train)"
   ]
  },
  {
   "cell_type": "code",
   "execution_count": 91,
   "metadata": {
    "ExecuteTime": {
     "end_time": "2019-08-23T09:33:31.933571Z",
     "start_time": "2019-08-23T09:33:31.785586Z"
    }
   },
   "outputs": [
    {
     "data": {
      "text/plain": [
       "0.504424778761062"
      ]
     },
     "execution_count": 91,
     "metadata": {},
     "output_type": "execute_result"
    }
   ],
   "source": [
    "f1_score(y_train,lda.predict(X_train))"
   ]
  },
  {
   "cell_type": "code",
   "execution_count": 92,
   "metadata": {
    "ExecuteTime": {
     "end_time": "2019-08-23T09:33:56.285448Z",
     "start_time": "2019-08-23T09:33:56.233450Z"
    }
   },
   "outputs": [
    {
     "data": {
      "text/plain": [
       "0.5283018867924528"
      ]
     },
     "execution_count": 92,
     "metadata": {},
     "output_type": "execute_result"
    }
   ],
   "source": [
    "f1_score(y_test,lda.predict(X_test))"
   ]
  },
  {
   "cell_type": "code",
   "execution_count": 114,
   "metadata": {
    "ExecuteTime": {
     "end_time": "2019-08-23T10:02:03.349548Z",
     "start_time": "2019-08-23T10:02:02.907573Z"
    }
   },
   "outputs": [],
   "source": [
    "train['lda1']=pd.DataFrame(lda.predict_proba(X))[0]\n",
    "train['lda2']=pd.DataFrame(lda.predict_proba(X))[1]"
   ]
  },
  {
   "cell_type": "code",
   "execution_count": 124,
   "metadata": {
    "ExecuteTime": {
     "end_time": "2019-08-23T10:05:04.752429Z",
     "start_time": "2019-08-23T10:05:04.179463Z"
    }
   },
   "outputs": [
    {
     "data": {
      "text/plain": [
       "<matplotlib.axes._subplots.AxesSubplot at 0x2818f785780>"
      ]
     },
     "execution_count": 124,
     "metadata": {},
     "output_type": "execute_result"
    },
    {
     "data": {
      "image/png": "[encoded data removed]",
      "text/plain": [
       "<Figure size 432x288 with 1 Axes>"
      ]
     },
     "metadata": {
      "needs_background": "light"
     },
     "output_type": "display_data"
    }
   ],
   "source": [
    "train[train.FraudResult==1].lda1.plot.hist()"
   ]
  },
  {
   "cell_type": "code",
   "execution_count": 125,
   "metadata": {
    "ExecuteTime": {
     "end_time": "2019-08-23T10:06:07.313382Z",
     "start_time": "2019-08-23T10:06:07.302386Z"
    }
   },
   "outputs": [],
   "source": [
    "from sklearn.neighbors import LocalOutlierFactor"
   ]
  },
  {
   "cell_type": "code",
   "execution_count": 137,
   "metadata": {
    "ExecuteTime": {
     "end_time": "2019-08-23T10:34:34.690588Z",
     "start_time": "2019-08-23T10:34:34.678592Z"
    }
   },
   "outputs": [],
   "source": [
    "lof=LocalOutlierFactor(n_neighbors=5, leaf_size=30, metric='minkowski', p=2, \n",
    "                       contamination=0.002, novelty=True)"
   ]
  },
  {
   "cell_type": "code",
   "execution_count": 138,
   "metadata": {
    "ExecuteTime": {
     "end_time": "2019-08-23T10:36:50.219942Z",
     "start_time": "2019-08-23T10:34:41.748118Z"
    }
   },
   "outputs": [
    {
     "data": {
      "text/plain": [
       "LocalOutlierFactor(algorithm='auto', contamination=0.002, leaf_size=30,\n",
       "          metric='minkowski', metric_params=None, n_jobs=None,\n",
       "          n_neighbors=5, novelty=True, p=2)"
      ]
     },
     "execution_count": 138,
     "metadata": {},
     "output_type": "execute_result"
    }
   ],
   "source": [
    "lof.fit(X_train)"
   ]
  },
  {
   "cell_type": "code",
   "execution_count": 147,
   "metadata": {
    "ExecuteTime": {
     "end_time": "2019-08-23T10:59:14.095088Z",
     "start_time": "2019-08-23T10:56:58.833457Z"
    }
   },
   "outputs": [],
   "source": [
    "y_pred=lof.predict(X_train)"
   ]
  },
  {
   "cell_type": "code",
   "execution_count": 148,
   "metadata": {
    "ExecuteTime": {
     "end_time": "2019-08-23T10:59:21.561999Z",
     "start_time": "2019-08-23T10:59:21.492002Z"
    }
   },
   "outputs": [
    {
     "data": {
      "text/plain": [
       "0.0"
      ]
     },
     "execution_count": 148,
     "metadata": {},
     "output_type": "execute_result"
    }
   ],
   "source": [
    "y_pred[y_pred == 1] = 0\n",
    "y_pred[y_pred == -1] = 1\n",
    "f1_score(y_train,y_pred)"
   ]
  },
  {
   "cell_type": "code",
   "execution_count": 142,
   "metadata": {
    "ExecuteTime": {
     "end_time": "2019-08-23T10:51:41.321745Z",
     "start_time": "2019-08-23T10:51:41.199751Z"
    }
   },
   "outputs": [
    {
     "data": {
      "text/plain": [
       "0.9952960033450643"
      ]
     },
     "execution_count": 142,
     "metadata": {},
     "output_type": "execute_result"
    }
   ],
   "source": [
    "(y_test==y_pred).mean()"
   ]
  },
  {
   "cell_type": "code",
   "execution_count": 149,
   "metadata": {
    "ExecuteTime": {
     "end_time": "2019-08-23T11:03:19.160445Z",
     "start_time": "2019-08-23T11:03:19.061447Z"
    }
   },
   "outputs": [],
   "source": [
    "from sklearn.svm import OneClassSVM"
   ]
  },
  {
   "cell_type": "code",
   "execution_count": 151,
   "metadata": {
    "ExecuteTime": {
     "end_time": "2019-08-23T11:18:08.503891Z",
     "start_time": "2019-08-23T11:18:08.492890Z"
    }
   },
   "outputs": [],
   "source": [
    "svm=OneClassSVM(gamma='auto')"
   ]
  },
  {
   "cell_type": "code",
   "execution_count": 152,
   "metadata": {
    "ExecuteTime": {
     "end_time": "2019-08-23T11:31:07.108943Z",
     "start_time": "2019-08-23T11:18:22.966359Z"
    }
   },
   "outputs": [
    {
     "data": {
      "text/plain": [
       "OneClassSVM(cache_size=200, coef0=0.0, degree=3, gamma='auto', kernel='rbf',\n",
       "      max_iter=-1, nu=0.5, random_state=None, shrinking=True, tol=0.001,\n",
       "      verbose=False)"
      ]
     },
     "execution_count": 152,
     "metadata": {},
     "output_type": "execute_result"
    }
   ],
   "source": [
    "svm.fit(X_train)"
   ]
  },
  {
   "cell_type": "code",
   "execution_count": 157,
   "metadata": {
    "ExecuteTime": {
     "end_time": "2019-08-23T11:42:27.176386Z",
     "start_time": "2019-08-23T11:40:56.013605Z"
    }
   },
   "outputs": [],
   "source": [
    "y_pred=svm.predict(X_test)"
   ]
  },
  {
   "cell_type": "code",
   "execution_count": 161,
   "metadata": {
    "ExecuteTime": {
     "end_time": "2019-08-23T11:43:31.927151Z",
     "start_time": "2019-08-23T11:43:31.914145Z"
    }
   },
   "outputs": [],
   "source": [
    "y_pred[y_pred == 1] = 0\n",
    "y_pred[y_pred == -1] = 1\n",
    "#f1_score(y_test,y_pred)"
   ]
  },
  {
   "cell_type": "code",
   "execution_count": 162,
   "metadata": {
    "ExecuteTime": {
     "end_time": "2019-08-23T11:43:38.998408Z",
     "start_time": "2019-08-23T11:43:38.972411Z"
    }
   },
   "outputs": [
    {
     "data": {
      "text/plain": [
       "0.49851911216418693"
      ]
     },
     "execution_count": 162,
     "metadata": {},
     "output_type": "execute_result"
    }
   ],
   "source": [
    "y_pred.mean()"
   ]
  },
  {
   "cell_type": "code",
   "execution_count": 168,
   "metadata": {
    "ExecuteTime": {
     "end_time": "2019-08-23T12:04:11.559620Z",
     "start_time": "2019-08-23T12:02:33.266298Z"
    }
   },
   "outputs": [],
   "source": [
    "y_pred=svm.score_samples(X_test)"
   ]
  },
  {
   "cell_type": "code",
   "execution_count": 171,
   "metadata": {
    "ExecuteTime": {
     "end_time": "2019-08-23T12:17:25.980822Z",
     "start_time": "2019-08-23T12:17:25.745840Z"
    }
   },
   "outputs": [
    {
     "data": {
      "text/plain": [
       "array([[ 1.        , -0.19851772],\n",
       "       [-0.19851772,  1.        ]])"
      ]
     },
     "execution_count": 171,
     "metadata": {},
     "output_type": "execute_result"
    }
   ],
   "source": [
    "np.corrcoef(y_pred,y_test)"
   ]
  },
  {
   "cell_type": "code",
   "execution_count": 172,
   "metadata": {
    "ExecuteTime": {
     "end_time": "2019-08-23T15:28:24.064216Z",
     "start_time": "2019-08-23T15:28:24.052222Z"
    }
   },
   "outputs": [],
   "source": [
    "from sklearn.neural_network import MLPClassifier"
   ]
  },
  {
   "cell_type": "code",
   "execution_count": 220,
   "metadata": {
    "ExecuteTime": {
     "end_time": "2019-08-23T16:28:32.956800Z",
     "start_time": "2019-08-23T16:28:32.944803Z"
    }
   },
   "outputs": [],
   "source": [
    "nn=MLPClassifier(hidden_layer_sizes=(100,10),activation='tanh',max_iter=1000,random_state=100,early_stopping=True,\n",
    "             validation_fraction=0.2,n_iter_no_change=50)"
   ]
  },
  {
   "cell_type": "code",
   "execution_count": 221,
   "metadata": {
    "ExecuteTime": {
     "end_time": "2019-08-23T16:28:42.035497Z",
     "start_time": "2019-08-23T16:28:42.016500Z"
    }
   },
   "outputs": [],
   "source": [
    "from sklearn.model_selection import cross_val_score"
   ]
  },
  {
   "cell_type": "code",
   "execution_count": 222,
   "metadata": {
    "ExecuteTime": {
     "end_time": "2019-08-23T16:36:25.977258Z",
     "start_time": "2019-08-23T16:28:49.824867Z"
    }
   },
   "outputs": [
    {
     "name": "stderr",
     "output_type": "stream",
     "text": [
      "[Parallel(n_jobs=1)]: Using backend SequentialBackend with 1 concurrent workers.\n",
      "[Parallel(n_jobs=1)]: Done   3 out of   3 | elapsed:  7.6min finished\n"
     ]
    }
   ],
   "source": [
    "cv=cross_val_score(nn,X,b,scoring='f1',verbose=1)"
   ]
  },
  {
   "cell_type": "code",
   "execution_count": 223,
   "metadata": {
    "ExecuteTime": {
     "end_time": "2019-08-23T16:36:49.893455Z",
     "start_time": "2019-08-23T16:36:49.874456Z"
    }
   },
   "outputs": [
    {
     "data": {
      "text/plain": [
       "array([0.76315789, 0.56842105, 0.022567  ])"
      ]
     },
     "execution_count": 223,
     "metadata": {},
     "output_type": "execute_result"
    }
   ],
   "source": [
    "cv"
   ]
  },
  {
   "cell_type": "code",
   "execution_count": null,
   "metadata": {},
   "outputs": [],
   "source": []
  },
  {
   "cell_type": "code",
   "execution_count": 206,
   "metadata": {
    "ExecuteTime": {
     "end_time": "2019-08-23T16:12:25.980170Z",
     "start_time": "2019-08-23T16:11:06.234119Z"
    }
   },
   "outputs": [
    {
     "data": {
      "text/plain": [
       "MLPClassifier(activation='tanh', alpha=0.0001, batch_size='auto', beta_1=0.9,\n",
       "       beta_2=0.999, early_stopping=True, epsilon=1e-08,\n",
       "       hidden_layer_sizes=(50, 10), learning_rate='constant',\n",
       "       learning_rate_init=0.001, max_iter=1000, momentum=0.9,\n",
       "       n_iter_no_change=50, nesterovs_momentum=True, power_t=0.5,\n",
       "       random_state=100, shuffle=True, solver='adam', tol=0.0001,\n",
       "       validation_fraction=0.2, verbose=False, warm_start=False)"
      ]
     },
     "execution_count": 206,
     "metadata": {},
     "output_type": "execute_result"
    }
   ],
   "source": [
    "nn.fit(X_train,y_train)"
   ]
  },
  {
   "cell_type": "code",
   "execution_count": 207,
   "metadata": {
    "ExecuteTime": {
     "end_time": "2019-08-23T16:12:34.900363Z",
     "start_time": "2019-08-23T16:12:34.399391Z"
    }
   },
   "outputs": [
    {
     "data": {
      "text/plain": [
       "0.9180327868852458"
      ]
     },
     "execution_count": 207,
     "metadata": {},
     "output_type": "execute_result"
    }
   ],
   "source": [
    "f1_score(y_train,nn.predict(X_train))"
   ]
  },
  {
   "cell_type": "code",
   "execution_count": 208,
   "metadata": {
    "ExecuteTime": {
     "end_time": "2019-08-23T16:12:42.661931Z",
     "start_time": "2019-08-23T16:12:42.421948Z"
    }
   },
   "outputs": [
    {
     "data": {
      "text/plain": [
       "0.7741935483870968"
      ]
     },
     "execution_count": 208,
     "metadata": {},
     "output_type": "execute_result"
    }
   ],
   "source": [
    "f1_score(y_test,nn.predict(X_test))"
   ]
  },
  {
   "cell_type": "code",
   "execution_count": 209,
   "metadata": {
    "ExecuteTime": {
     "end_time": "2019-08-23T16:18:13.885339Z",
     "start_time": "2019-08-23T16:12:54.630376Z"
    }
   },
   "outputs": [
    {
     "data": {
      "text/plain": [
       "MLPClassifier(activation='tanh', alpha=0.0001, batch_size='auto', beta_1=0.9,\n",
       "       beta_2=0.999, early_stopping=True, epsilon=1e-08,\n",
       "       hidden_layer_sizes=(50, 10), learning_rate='constant',\n",
       "       learning_rate_init=0.001, max_iter=1000, momentum=0.9,\n",
       "       n_iter_no_change=50, nesterovs_momentum=True, power_t=0.5,\n",
       "       random_state=100, shuffle=True, solver='adam', tol=0.0001,\n",
       "       validation_fraction=0.2, verbose=False, warm_start=False)"
      ]
     },
     "execution_count": 209,
     "metadata": {},
     "output_type": "execute_result"
    }
   ],
   "source": [
    "nn.fit(X,b)"
   ]
  },
  {
   "cell_type": "code",
   "execution_count": 210,
   "metadata": {
    "ExecuteTime": {
     "end_time": "2019-08-23T16:18:25.219675Z",
     "start_time": "2019-08-23T16:18:24.066743Z"
    }
   },
   "outputs": [],
   "source": [
    "xx=test.drop(['FraudResult','CurrencyCode', 'CountryCode','TransactionId','BatchId','month',\n",
    "              'AccountId','SubscriptionId','CustomerId','TransactionStartTime'],axis=1)"
   ]
  },
  {
   "cell_type": "code",
   "execution_count": 211,
   "metadata": {
    "ExecuteTime": {
     "end_time": "2019-08-23T16:18:34.358762Z",
     "start_time": "2019-08-23T16:18:33.511817Z"
    }
   },
   "outputs": [],
   "source": [
    "xx=sc.transform(ce.transform(xx))"
   ]
  },
  {
   "cell_type": "code",
   "execution_count": 212,
   "metadata": {
    "ExecuteTime": {
     "end_time": "2019-08-23T16:18:47.313132Z",
     "start_time": "2019-08-23T16:18:46.968589Z"
    }
   },
   "outputs": [
    {
     "data": {
      "text/plain": [
       "102.0"
      ]
     },
     "execution_count": 212,
     "metadata": {},
     "output_type": "execute_result"
    }
   ],
   "source": [
    "nn.predict(xx).sum()"
   ]
  },
  {
   "cell_type": "code",
   "execution_count": 213,
   "metadata": {
    "ExecuteTime": {
     "end_time": "2019-08-23T16:19:27.944463Z",
     "start_time": "2019-08-23T16:18:55.336897Z"
    }
   },
   "outputs": [],
   "source": [
    "pd.DataFrame(nn.predict(xx)).to_csv('NN Benchmark',index=True)"
   ]
  },
  {
   "cell_type": "code",
   "execution_count": 170,
   "metadata": {
    "ExecuteTime": {
     "end_time": "2019-08-23T12:17:08.440785Z",
     "start_time": "2019-08-23T12:17:08.424783Z"
    }
   },
   "outputs": [],
   "source": []
  },
  {
   "cell_type": "markdown",
   "metadata": {},
   "source": [
    "# Benchmark"
   ]
  },
  {
   "cell_type": "code",
   "execution_count": 18,
   "metadata": {
    "ExecuteTime": {
     "end_time": "2019-08-22T13:44:44.490506Z",
     "start_time": "2019-08-22T13:44:44.467509Z"
    }
   },
   "outputs": [
    {
     "data": {
      "text/plain": [
       "Index(['Amount', 'ChannelId', 'PricingStrategy', 'ProductCategory',\n",
       "       'ProductId', 'ProviderId', 'Value', 'TimeBetweenTransaction',\n",
       "       'AmountBetweenTransaction', 'PreviousTransactionBetweenHour',\n",
       "       'NumberOfTransactionWithinHour', 'AveAmtWithinPeriod', 'quarter',\n",
       "       'week_of_month', 'weekday', 'hour'],\n",
       "      dtype='object')"
      ]
     },
     "execution_count": 18,
     "metadata": {},
     "output_type": "execute_result"
    }
   ],
   "source": [
    "X_train.columns"
   ]
  },
  {
   "cell_type": "code",
   "execution_count": 35,
   "metadata": {
    "ExecuteTime": {
     "end_time": "2019-08-22T14:21:38.472967Z",
     "start_time": "2019-08-22T14:19:42.390907Z"
    }
   },
   "outputs": [
    {
     "name": "stdout",
     "output_type": "stream",
     "text": [
      "0:\tlearn: 0.0000000\ttest: 0.0000000\tbest: 0.0000000 (0)\ttotal: 1.26s\tremaining: 42m 2s\n",
      "100:\tlearn: 1.0000000\ttest: 0.9174312\tbest: 0.9174312 (38)\ttotal: 1m 24s\tremaining: 26m 34s\n",
      "Stopped by overfitting detector  (100 iterations wait)\n",
      "\n",
      "bestTest = 0.9174311927\n",
      "bestIteration = 38\n",
      "\n",
      "Shrink model to first 39 iterations.\n"
     ]
    },
    {
     "data": {
      "text/plain": [
       "<catboost.core.CatBoostClassifier at 0x1a65a955f60>"
      ]
     },
     "execution_count": 35,
     "metadata": {},
     "output_type": "execute_result"
    }
   ],
   "source": [
    "clf_best_cb=CatBoostClassifier(iterations=2000,learning_rate=0.4,depth=6,verbose=100,\n",
    "                               cat_features=[1,2,3,4,5,9,12,13,14,15],\n",
    "                     use_best_model=True,random_seed=1020,eval_metric='F1', early_stopping_rounds=100)\n",
    "\n",
    "clf_best_cb.fit(X_train,y_train,eval_set=(X_test,y_test))"
   ]
  },
  {
   "cell_type": "code",
   "execution_count": 36,
   "metadata": {
    "ExecuteTime": {
     "end_time": "2019-08-22T14:23:11.736842Z",
     "start_time": "2019-08-22T14:21:58.708352Z"
    }
   },
   "outputs": [
    {
     "name": "stdout",
     "output_type": "stream",
     "text": [
      "0:\tlearn: 0.0000000\ttotal: 1.5s\tremaining: 1m 42s\n",
      "68:\tlearn: 0.9921671\ttotal: 1m 9s\tremaining: 0us\n"
     ]
    },
    {
     "data": {
      "text/plain": [
       "<catboost.core.CatBoostClassifier at 0x1a65765ff28>"
      ]
     },
     "execution_count": 36,
     "metadata": {},
     "output_type": "execute_result"
    }
   ],
   "source": [
    "clf_best_cb=CatBoostClassifier(iterations=69,learning_rate=0.4,depth=6,verbose=100,\n",
    "                               cat_features=[1,2,3,4,5,9,12,13,14,15],\n",
    "                     random_seed=1020,eval_metric='F1')\n",
    "\n",
    "clf_best_cb.fit(a,b)"
   ]
  },
  {
   "cell_type": "code",
   "execution_count": 37,
   "metadata": {
    "ExecuteTime": {
     "end_time": "2019-08-22T14:24:14.854659Z",
     "start_time": "2019-08-22T14:24:09.348419Z"
    }
   },
   "outputs": [
    {
     "data": {
      "text/plain": [
       "Text(0.5,0,'Importance')"
      ]
     },
     "execution_count": 37,
     "metadata": {},
     "output_type": "execute_result"
    },
    {
     "data": {
      "image/png": "[encoded data removed]",
      "text/plain": [
       "<Figure size 504x504 with 1 Axes>"
      ]
     },
     "metadata": {
      "needs_background": "light"
     },
     "output_type": "display_data"
    }
   ],
   "source": [
    "fea_imp = pd.DataFrame({'imp':clf_best_cb.feature_importances_, 'col': a.columns})\n",
    "fea_imp = fea_imp.sort_values(['imp', 'col'], ascending=[True, False])\n",
    "fea_imp.plot(kind='barh', x='col', y='imp', figsize=(7, 7), legend=None)\n",
    "plt.title('CatBoost - Feature Importance')\n",
    "plt.ylabel('Features')\n",
    "plt.xlabel('Importance')"
   ]
  },
  {
   "cell_type": "code",
   "execution_count": 39,
   "metadata": {
    "ExecuteTime": {
     "end_time": "2019-08-22T14:25:22.839937Z",
     "start_time": "2019-08-22T14:25:08.781320Z"
    }
   },
   "outputs": [],
   "source": [
    "pd.DataFrame(clf_best_cb.predict(test[a.columns])).to_csv('Benchmark month stratified.csv',index=True)"
   ]
  },
  {
   "cell_type": "code",
   "execution_count": 9,
   "metadata": {
    "ExecuteTime": {
     "end_time": "2019-08-22T10:53:43.327959Z",
     "start_time": "2019-08-22T10:53:43.315964Z"
    }
   },
   "outputs": [],
   "source": [
    "from sklearn.model_selection import cross_val_score"
   ]
  },
  {
   "cell_type": "code",
   "execution_count": 10,
   "metadata": {
    "ExecuteTime": {
     "end_time": "2019-08-22T10:53:43.477473Z",
     "start_time": "2019-08-22T10:53:43.348958Z"
    }
   },
   "outputs": [],
   "source": [
    "cb=CatBoostClassifier(iterations=25,learning_rate=0.1,depth=5,verbose=100,cat_features=[1,2,3,4,5,9],\n",
    "                      random_seed=1020,eval_metric='F1')"
   ]
  },
  {
   "cell_type": "code",
   "execution_count": 11,
   "metadata": {
    "ExecuteTime": {
     "end_time": "2019-08-22T10:55:07.295190Z",
     "start_time": "2019-08-22T10:53:43.491474Z"
    }
   },
   "outputs": [
    {
     "name": "stderr",
     "output_type": "stream",
     "text": [
      "[Parallel(n_jobs=1)]: Using backend SequentialBackend with 1 concurrent workers.\n"
     ]
    },
    {
     "name": "stdout",
     "output_type": "stream",
     "text": [
      "0:\tlearn: 0.0000000\ttotal: 548ms\tremaining: 13.2s\n",
      "24:\tlearn: 0.8960573\ttotal: 14.3s\tremaining: 0us\n",
      "0:\tlearn: 0.0000000\ttotal: 434ms\tremaining: 10.4s\n",
      "24:\tlearn: 0.8677966\ttotal: 13.4s\tremaining: 0us\n",
      "0:\tlearn: 0.0000000\ttotal: 556ms\tremaining: 13.3s\n",
      "24:\tlearn: 0.9347079\ttotal: 14.6s\tremaining: 0us\n",
      "0:\tlearn: 0.0000000\ttotal: 569ms\tremaining: 13.6s\n",
      "24:\tlearn: 0.9355932\ttotal: 13s\tremaining: 0us\n",
      "0:\tlearn: 0.0000000\ttotal: 617ms\tremaining: 14.8s\n",
      "24:\tlearn: 0.8982456\ttotal: 13.6s\tremaining: 0us\n"
     ]
    },
    {
     "name": "stderr",
     "output_type": "stream",
     "text": [
      "[Parallel(n_jobs=1)]: Done   5 out of   5 | elapsed:  1.4min finished\n"
     ]
    }
   ],
   "source": [
    "cv=cross_val_score(cb, a, b, scoring='f1', cv=5, verbose=1) "
   ]
  },
  {
   "cell_type": "code",
   "execution_count": 12,
   "metadata": {
    "ExecuteTime": {
     "end_time": "2019-08-22T10:55:07.346185Z",
     "start_time": "2019-08-22T10:55:07.312185Z"
    }
   },
   "outputs": [
    {
     "data": {
      "text/plain": [
       "array([0.92105263, 0.92857143, 0.6984127 , 0.59375   , 0.91358025])"
      ]
     },
     "execution_count": 12,
     "metadata": {},
     "output_type": "execute_result"
    }
   ],
   "source": [
    "cv"
   ]
  },
  {
   "cell_type": "code",
   "execution_count": 13,
   "metadata": {
    "ExecuteTime": {
     "end_time": "2019-08-22T10:55:07.501172Z",
     "start_time": "2019-08-22T10:55:07.358180Z"
    }
   },
   "outputs": [
    {
     "data": {
      "text/plain": [
       "0.8110734010953309"
      ]
     },
     "execution_count": 13,
     "metadata": {},
     "output_type": "execute_result"
    }
   ],
   "source": [
    " cv.mean()"
   ]
  },
  {
   "cell_type": "code",
   "execution_count": 14,
   "metadata": {
    "ExecuteTime": {
     "end_time": "2019-08-22T10:55:07.677162Z",
     "start_time": "2019-08-22T10:55:07.518172Z"
    }
   },
   "outputs": [
    {
     "data": {
      "text/plain": [
       "0.13880256887445222"
      ]
     },
     "execution_count": 14,
     "metadata": {},
     "output_type": "execute_result"
    }
   ],
   "source": [
    "cv.std()"
   ]
  },
  {
   "cell_type": "code",
   "execution_count": 15,
   "metadata": {
    "ExecuteTime": {
     "end_time": "2019-08-22T10:55:25.833634Z",
     "start_time": "2019-08-22T10:55:07.692160Z"
    }
   },
   "outputs": [
    {
     "name": "stdout",
     "output_type": "stream",
     "text": [
      "0:\tlearn: 0.4985673\ttotal: 811ms\tremaining: 19.5s\n",
      "24:\tlearn: 0.8977273\ttotal: 15.3s\tremaining: 0us\n"
     ]
    },
    {
     "data": {
      "text/plain": [
       "<catboost.core.CatBoostClassifier at 0x1ca3a60abe0>"
      ]
     },
     "execution_count": 15,
     "metadata": {},
     "output_type": "execute_result"
    }
   ],
   "source": [
    "cb.fit(a,b)"
   ]
  },
  {
   "cell_type": "markdown",
   "metadata": {
    "ExecuteTime": {
     "end_time": "2019-08-21T10:49:09.876474Z",
     "start_time": "2019-08-21T10:49:02.888746Z"
    }
   },
   "source": [
    "pd.DataFrame(cb.predict(test[a.columns])).to_csv('Benchmark no ids + profile2.csv',index=True)"
   ]
  },
  {
   "cell_type": "markdown",
   "metadata": {},
   "source": [
    "# EDA"
   ]
  },
  {
   "cell_type": "code",
   "execution_count": 18,
   "metadata": {
    "ExecuteTime": {
     "end_time": "2019-08-22T10:55:27.994503Z",
     "start_time": "2019-08-22T10:55:27.760517Z"
    }
   },
   "outputs": [
    {
     "data": {
      "text/html": [
       "<div>\n",
       "<style scoped>\n",
       "    .dataframe tbody tr th:only-of-type {\n",
       "        vertical-align: middle;\n",
       "    }\n",
       "\n",
       "    .dataframe tbody tr th {\n",
       "        vertical-align: top;\n",
       "    }\n",
       "\n",
       "    .dataframe thead th {\n",
       "        text-align: right;\n",
       "    }\n",
       "</style>\n",
       "<table border=\"1\" class=\"dataframe\">\n",
       "  <thead>\n",
       "    <tr style=\"text-align: right;\">\n",
       "      <th></th>\n",
       "      <th>114383</th>\n",
       "      <th>120660</th>\n",
       "      <th>27227</th>\n",
       "      <th>112824</th>\n",
       "      <th>115983</th>\n",
       "    </tr>\n",
       "  </thead>\n",
       "  <tbody>\n",
       "    <tr>\n",
       "      <th>AccountId</th>\n",
       "      <td>AccountId_4383</td>\n",
       "      <td>AccountId_312</td>\n",
       "      <td>AccountId_126</td>\n",
       "      <td>AccountId_3507</td>\n",
       "      <td>AccountId_4841</td>\n",
       "    </tr>\n",
       "    <tr>\n",
       "      <th>Amount</th>\n",
       "      <td>1000</td>\n",
       "      <td>5000</td>\n",
       "      <td>1000</td>\n",
       "      <td>700</td>\n",
       "      <td>-75</td>\n",
       "    </tr>\n",
       "    <tr>\n",
       "      <th>BatchId</th>\n",
       "      <td>BatchId_38734</td>\n",
       "      <td>BatchId_396</td>\n",
       "      <td>BatchId_109473</td>\n",
       "      <td>BatchId_114914</td>\n",
       "      <td>BatchId_73842</td>\n",
       "    </tr>\n",
       "    <tr>\n",
       "      <th>ChannelId</th>\n",
       "      <td>ChannelId_3</td>\n",
       "      <td>ChannelId_3</td>\n",
       "      <td>ChannelId_3</td>\n",
       "      <td>ChannelId_3</td>\n",
       "      <td>ChannelId_3</td>\n",
       "    </tr>\n",
       "    <tr>\n",
       "      <th>CountryCode</th>\n",
       "      <td>256</td>\n",
       "      <td>256</td>\n",
       "      <td>256</td>\n",
       "      <td>256</td>\n",
       "      <td>256</td>\n",
       "    </tr>\n",
       "    <tr>\n",
       "      <th>CurrencyCode</th>\n",
       "      <td>UGX</td>\n",
       "      <td>UGX</td>\n",
       "      <td>UGX</td>\n",
       "      <td>UGX</td>\n",
       "      <td>UGX</td>\n",
       "    </tr>\n",
       "    <tr>\n",
       "      <th>CustomerId</th>\n",
       "      <td>CustomerId_4840</td>\n",
       "      <td>CustomerId_641</td>\n",
       "      <td>CustomerId_448</td>\n",
       "      <td>CustomerId_3944</td>\n",
       "      <td>CustomerId_4840</td>\n",
       "    </tr>\n",
       "    <tr>\n",
       "      <th>FraudResult</th>\n",
       "      <td>NaN</td>\n",
       "      <td>NaN</td>\n",
       "      <td>0</td>\n",
       "      <td>NaN</td>\n",
       "      <td>NaN</td>\n",
       "    </tr>\n",
       "    <tr>\n",
       "      <th>PricingStrategy</th>\n",
       "      <td>2</td>\n",
       "      <td>2</td>\n",
       "      <td>2</td>\n",
       "      <td>2</td>\n",
       "      <td>2</td>\n",
       "    </tr>\n",
       "    <tr>\n",
       "      <th>ProductCategory</th>\n",
       "      <td>airtime</td>\n",
       "      <td>financial_services</td>\n",
       "      <td>airtime</td>\n",
       "      <td>airtime</td>\n",
       "      <td>financial_services</td>\n",
       "    </tr>\n",
       "    <tr>\n",
       "      <th>ProductId</th>\n",
       "      <td>ProductId_3</td>\n",
       "      <td>ProductId_15</td>\n",
       "      <td>ProductId_3</td>\n",
       "      <td>ProductId_3</td>\n",
       "      <td>ProductId_6</td>\n",
       "    </tr>\n",
       "    <tr>\n",
       "      <th>ProviderId</th>\n",
       "      <td>ProviderId_6</td>\n",
       "      <td>ProviderId_5</td>\n",
       "      <td>ProviderId_6</td>\n",
       "      <td>ProviderId_6</td>\n",
       "      <td>ProviderId_4</td>\n",
       "    </tr>\n",
       "    <tr>\n",
       "      <th>SubscriptionId</th>\n",
       "      <td>SubscriptionId_2283</td>\n",
       "      <td>SubscriptionId_3802</td>\n",
       "      <td>SubscriptionId_3154</td>\n",
       "      <td>SubscriptionId_2644</td>\n",
       "      <td>SubscriptionId_3829</td>\n",
       "    </tr>\n",
       "    <tr>\n",
       "      <th>TransactionId</th>\n",
       "      <td>TransactionId_80973</td>\n",
       "      <td>TransactionId_17417</td>\n",
       "      <td>TransactionId_119415</td>\n",
       "      <td>TransactionId_75221</td>\n",
       "      <td>TransactionId_82602</td>\n",
       "    </tr>\n",
       "    <tr>\n",
       "      <th>TransactionStartTime</th>\n",
       "      <td>2019-02-24 14:16:23</td>\n",
       "      <td>2019-03-01 11:11:21</td>\n",
       "      <td>2018-12-14 17:04:28</td>\n",
       "      <td>2019-02-23 04:47:03</td>\n",
       "      <td>2019-02-25 19:50:58</td>\n",
       "    </tr>\n",
       "    <tr>\n",
       "      <th>Value</th>\n",
       "      <td>1000</td>\n",
       "      <td>5000</td>\n",
       "      <td>1000</td>\n",
       "      <td>700</td>\n",
       "      <td>75</td>\n",
       "    </tr>\n",
       "    <tr>\n",
       "      <th>TimeBetweenTransaction</th>\n",
       "      <td>7839</td>\n",
       "      <td>169</td>\n",
       "      <td>556</td>\n",
       "      <td>876</td>\n",
       "      <td>99</td>\n",
       "    </tr>\n",
       "    <tr>\n",
       "      <th>AmountBetweenTransaction</th>\n",
       "      <td>0</td>\n",
       "      <td>0</td>\n",
       "      <td>0</td>\n",
       "      <td>-300</td>\n",
       "      <td>-25</td>\n",
       "    </tr>\n",
       "    <tr>\n",
       "      <th>PreviousTransactionBetweenHour</th>\n",
       "      <td>0</td>\n",
       "      <td>1</td>\n",
       "      <td>1</td>\n",
       "      <td>1</td>\n",
       "      <td>1</td>\n",
       "    </tr>\n",
       "    <tr>\n",
       "      <th>NumberOfTransactionWithinHour</th>\n",
       "      <td>0</td>\n",
       "      <td>3</td>\n",
       "      <td>21</td>\n",
       "      <td>3</td>\n",
       "      <td>340</td>\n",
       "    </tr>\n",
       "    <tr>\n",
       "      <th>AveAmtWithinPeriod</th>\n",
       "      <td>2000</td>\n",
       "      <td>1250</td>\n",
       "      <td>45.4545</td>\n",
       "      <td>175</td>\n",
       "      <td>-0.219941</td>\n",
       "    </tr>\n",
       "    <tr>\n",
       "      <th>quarter</th>\n",
       "      <td>1</td>\n",
       "      <td>1</td>\n",
       "      <td>4</td>\n",
       "      <td>1</td>\n",
       "      <td>1</td>\n",
       "    </tr>\n",
       "    <tr>\n",
       "      <th>week_of_month</th>\n",
       "      <td>3</td>\n",
       "      <td>0</td>\n",
       "      <td>2</td>\n",
       "      <td>3</td>\n",
       "      <td>3</td>\n",
       "    </tr>\n",
       "    <tr>\n",
       "      <th>weekday</th>\n",
       "      <td>Sunday</td>\n",
       "      <td>Friday</td>\n",
       "      <td>Friday</td>\n",
       "      <td>Saturday</td>\n",
       "      <td>Monday</td>\n",
       "    </tr>\n",
       "    <tr>\n",
       "      <th>hour</th>\n",
       "      <td>14</td>\n",
       "      <td>11</td>\n",
       "      <td>17</td>\n",
       "      <td>4</td>\n",
       "      <td>19</td>\n",
       "    </tr>\n",
       "  </tbody>\n",
       "</table>\n",
       "</div>"
      ],
      "text/plain": [
       "                                             114383               120660  \\\n",
       "AccountId                            AccountId_4383        AccountId_312   \n",
       "Amount                                         1000                 5000   \n",
       "BatchId                               BatchId_38734          BatchId_396   \n",
       "ChannelId                               ChannelId_3          ChannelId_3   \n",
       "CountryCode                                     256                  256   \n",
       "CurrencyCode                                    UGX                  UGX   \n",
       "CustomerId                          CustomerId_4840       CustomerId_641   \n",
       "FraudResult                                     NaN                  NaN   \n",
       "PricingStrategy                                   2                    2   \n",
       "ProductCategory                             airtime   financial_services   \n",
       "ProductId                               ProductId_3         ProductId_15   \n",
       "ProviderId                             ProviderId_6         ProviderId_5   \n",
       "SubscriptionId                  SubscriptionId_2283  SubscriptionId_3802   \n",
       "TransactionId                   TransactionId_80973  TransactionId_17417   \n",
       "TransactionStartTime            2019-02-24 14:16:23  2019-03-01 11:11:21   \n",
       "Value                                          1000                 5000   \n",
       "TimeBetweenTransaction                         7839                  169   \n",
       "AmountBetweenTransaction                          0                    0   \n",
       "PreviousTransactionBetweenHour                    0                    1   \n",
       "NumberOfTransactionWithinHour                     0                    3   \n",
       "AveAmtWithinPeriod                             2000                 1250   \n",
       "quarter                                           1                    1   \n",
       "week_of_month                                     3                    0   \n",
       "weekday                                      Sunday               Friday   \n",
       "hour                                             14                   11   \n",
       "\n",
       "                                              27227                112824  \\\n",
       "AccountId                              AccountId_126       AccountId_3507   \n",
       "Amount                                          1000                  700   \n",
       "BatchId                               BatchId_109473       BatchId_114914   \n",
       "ChannelId                                ChannelId_3          ChannelId_3   \n",
       "CountryCode                                      256                  256   \n",
       "CurrencyCode                                     UGX                  UGX   \n",
       "CustomerId                            CustomerId_448      CustomerId_3944   \n",
       "FraudResult                                        0                  NaN   \n",
       "PricingStrategy                                    2                    2   \n",
       "ProductCategory                              airtime              airtime   \n",
       "ProductId                                ProductId_3          ProductId_3   \n",
       "ProviderId                              ProviderId_6         ProviderId_6   \n",
       "SubscriptionId                   SubscriptionId_3154  SubscriptionId_2644   \n",
       "TransactionId                   TransactionId_119415  TransactionId_75221   \n",
       "TransactionStartTime             2018-12-14 17:04:28  2019-02-23 04:47:03   \n",
       "Value                                           1000                  700   \n",
       "TimeBetweenTransaction                           556                  876   \n",
       "AmountBetweenTransaction                           0                 -300   \n",
       "PreviousTransactionBetweenHour                     1                    1   \n",
       "NumberOfTransactionWithinHour                     21                    3   \n",
       "AveAmtWithinPeriod                           45.4545                  175   \n",
       "quarter                                            4                    1   \n",
       "week_of_month                                      2                    3   \n",
       "weekday                                       Friday             Saturday   \n",
       "hour                                              17                    4   \n",
       "\n",
       "                                             115983  \n",
       "AccountId                            AccountId_4841  \n",
       "Amount                                          -75  \n",
       "BatchId                               BatchId_73842  \n",
       "ChannelId                               ChannelId_3  \n",
       "CountryCode                                     256  \n",
       "CurrencyCode                                    UGX  \n",
       "CustomerId                          CustomerId_4840  \n",
       "FraudResult                                     NaN  \n",
       "PricingStrategy                                   2  \n",
       "ProductCategory                  financial_services  \n",
       "ProductId                               ProductId_6  \n",
       "ProviderId                             ProviderId_4  \n",
       "SubscriptionId                  SubscriptionId_3829  \n",
       "TransactionId                   TransactionId_82602  \n",
       "TransactionStartTime            2019-02-25 19:50:58  \n",
       "Value                                            75  \n",
       "TimeBetweenTransaction                           99  \n",
       "AmountBetweenTransaction                        -25  \n",
       "PreviousTransactionBetweenHour                    1  \n",
       "NumberOfTransactionWithinHour                   340  \n",
       "AveAmtWithinPeriod                        -0.219941  \n",
       "quarter                                           1  \n",
       "week_of_month                                     3  \n",
       "weekday                                      Monday  \n",
       "hour                                             19  "
      ]
     },
     "execution_count": 18,
     "metadata": {},
     "output_type": "execute_result"
    }
   ],
   "source": [
    "data.sample(5).T"
   ]
  },
  {
   "cell_type": "code",
   "execution_count": 19,
   "metadata": {
    "ExecuteTime": {
     "end_time": "2019-08-22T10:55:28.057499Z",
     "start_time": "2019-08-22T10:55:28.014500Z"
    }
   },
   "outputs": [
    {
     "data": {
      "text/plain": [
       "AccountId                                 object\n",
       "Amount                                   float64\n",
       "BatchId                                   object\n",
       "ChannelId                                 object\n",
       "CountryCode                                int64\n",
       "CurrencyCode                              object\n",
       "CustomerId                                object\n",
       "FraudResult                              float64\n",
       "PricingStrategy                            int64\n",
       "ProductCategory                           object\n",
       "ProductId                                 object\n",
       "ProviderId                                object\n",
       "SubscriptionId                            object\n",
       "TransactionId                             object\n",
       "TransactionStartTime              datetime64[ns]\n",
       "Value                                      int64\n",
       "TimeBetweenTransaction                   float64\n",
       "AmountBetweenTransaction                 float64\n",
       "PreviousTransactionBetweenHour           float64\n",
       "NumberOfTransactionWithinHour            float64\n",
       "AveAmtWithinPeriod                       float64\n",
       "quarter                                    int64\n",
       "week_of_month                              int64\n",
       "weekday                                   object\n",
       "hour                                       int64\n",
       "dtype: object"
      ]
     },
     "execution_count": 19,
     "metadata": {},
     "output_type": "execute_result"
    }
   ],
   "source": [
    "data.dtypes"
   ]
  },
  {
   "cell_type": "code",
   "execution_count": 20,
   "metadata": {
    "ExecuteTime": {
     "end_time": "2019-08-22T10:55:35.202682Z",
     "start_time": "2019-08-22T10:55:28.066500Z"
    }
   },
   "outputs": [
    {
     "data": {
      "text/plain": [
       "AccountId                           4841\n",
       "Amount                              2099\n",
       "BatchId                           139493\n",
       "ChannelId                              5\n",
       "CountryCode                            1\n",
       "CurrencyCode                           1\n",
       "CustomerId                          7479\n",
       "FraudResult                            2\n",
       "PricingStrategy                        4\n",
       "ProductCategory                       10\n",
       "ProductId                             27\n",
       "ProviderId                             6\n",
       "SubscriptionId                      4836\n",
       "TransactionId                     140681\n",
       "TransactionStartTime              138574\n",
       "Value                               1880\n",
       "TimeBetweenTransaction             38600\n",
       "AmountBetweenTransaction            4647\n",
       "PreviousTransactionBetweenHour         2\n",
       "NumberOfTransactionWithinHour       2001\n",
       "AveAmtWithinPeriod                 16150\n",
       "quarter                                2\n",
       "week_of_month                          5\n",
       "weekday                                7\n",
       "hour                                  24\n",
       "dtype: int64"
      ]
     },
     "execution_count": 20,
     "metadata": {},
     "output_type": "execute_result"
    }
   ],
   "source": [
    "data.nunique()"
   ]
  },
  {
   "cell_type": "code",
   "execution_count": 21,
   "metadata": {
    "ExecuteTime": {
     "end_time": "2019-08-22T10:55:35.359672Z",
     "start_time": "2019-08-22T10:55:35.216687Z"
    }
   },
   "outputs": [],
   "source": [
    "data.drop(['CountryCode','CurrencyCode'],inplace=True,axis=1)"
   ]
  },
  {
   "cell_type": "code",
   "execution_count": 22,
   "metadata": {
    "ExecuteTime": {
     "end_time": "2019-08-22T10:55:36.121627Z",
     "start_time": "2019-08-22T10:55:35.375673Z"
    }
   },
   "outputs": [
    {
     "data": {
      "text/plain": [
       "AccountId                             0\n",
       "Amount                                0\n",
       "BatchId                               0\n",
       "ChannelId                             0\n",
       "CustomerId                            0\n",
       "FraudResult                       45019\n",
       "PricingStrategy                       0\n",
       "ProductCategory                       0\n",
       "ProductId                             0\n",
       "ProviderId                            0\n",
       "SubscriptionId                        0\n",
       "TransactionId                         0\n",
       "TransactionStartTime                  0\n",
       "Value                                 0\n",
       "TimeBetweenTransaction                0\n",
       "AmountBetweenTransaction              0\n",
       "PreviousTransactionBetweenHour        0\n",
       "NumberOfTransactionWithinHour         0\n",
       "AveAmtWithinPeriod                    0\n",
       "quarter                               0\n",
       "week_of_month                         0\n",
       "weekday                               0\n",
       "hour                                  0\n",
       "dtype: int64"
      ]
     },
     "execution_count": 22,
     "metadata": {},
     "output_type": "execute_result"
    }
   ],
   "source": [
    "data.isnull().sum()"
   ]
  },
  {
   "cell_type": "code",
   "execution_count": 23,
   "metadata": {
    "ExecuteTime": {
     "end_time": "2019-08-22T10:55:36.151623Z",
     "start_time": "2019-08-22T10:55:36.137625Z"
    }
   },
   "outputs": [],
   "source": [
    "num_col = ['Amount','Value','TimeBetweenTransaction','AmountBetweenTransaction','NumberOfTransactionWithinHour',\n",
    "          'AveAmtWithinPeriod']"
   ]
  },
  {
   "cell_type": "code",
   "execution_count": 24,
   "metadata": {
    "ExecuteTime": {
     "end_time": "2019-08-22T10:55:36.314614Z",
     "start_time": "2019-08-22T10:55:36.166624Z"
    }
   },
   "outputs": [
    {
     "data": {
      "text/plain": [
       "['AccountId',\n",
       " 'ChannelId',\n",
       " 'CustomerId',\n",
       " 'FraudResult',\n",
       " 'PricingStrategy',\n",
       " 'ProductCategory',\n",
       " 'ProductId',\n",
       " 'ProviderId',\n",
       " 'SubscriptionId',\n",
       " 'PreviousTransactionBetweenHour',\n",
       " 'quarter',\n",
       " 'week_of_month',\n",
       " 'weekday',\n",
       " 'hour']"
      ]
     },
     "execution_count": 24,
     "metadata": {},
     "output_type": "execute_result"
    }
   ],
   "source": [
    "cat_col = [col for col in data.columns if col not in (num_col + ['BatchId','TransactionId','TransactionStartTime'])]\n",
    "cat_col"
   ]
  },
  {
   "cell_type": "markdown",
   "metadata": {},
   "source": [
    "## Numerical"
   ]
  },
  {
   "cell_type": "code",
   "execution_count": 25,
   "metadata": {
    "ExecuteTime": {
     "end_time": "2019-08-22T10:55:41.060404Z",
     "start_time": "2019-08-22T10:55:36.327616Z"
    },
    "scrolled": false
   },
   "outputs": [
    {
     "name": "stdout",
     "output_type": "stream",
     "text": [
      "Amount\n"
     ]
    },
    {
     "data": {
      "image/png": "[encoded data removed]",
      "text/plain": [
       "<Figure size 432x288 with 1 Axes>"
      ]
     },
     "metadata": {
      "needs_background": "light"
     },
     "output_type": "display_data"
    },
    {
     "name": "stdout",
     "output_type": "stream",
     "text": [
      "Value\n"
     ]
    },
    {
     "data": {
      "image/png": "[encoded data removed]",
      "text/plain": [
       "<Figure size 432x288 with 1 Axes>"
      ]
     },
     "metadata": {
      "needs_background": "light"
     },
     "output_type": "display_data"
    },
    {
     "name": "stdout",
     "output_type": "stream",
     "text": [
      "TimeBetweenTransaction\n"
     ]
    },
    {
     "data": {
      "image/png": "[encoded data removed]",
      "text/plain": [
       "<Figure size 432x288 with 1 Axes>"
      ]
     },
     "metadata": {
      "needs_background": "light"
     },
     "output_type": "display_data"
    },
    {
     "name": "stdout",
     "output_type": "stream",
     "text": [
      "AmountBetweenTransaction\n"
     ]
    },
    {
     "data": {
      "image/png": "[encoded data removed]",
      "text/plain": [
       "<Figure size 432x288 with 1 Axes>"
      ]
     },
     "metadata": {
      "needs_background": "light"
     },
     "output_type": "display_data"
    },
    {
     "name": "stdout",
     "output_type": "stream",
     "text": [
      "NumberOfTransactionWithinHour\n"
     ]
    },
    {
     "data": {
      "image/png": "[encoded data removed]",
      "text/plain": [
       "<Figure size 432x288 with 1 Axes>"
      ]
     },
     "metadata": {
      "needs_background": "light"
     },
     "output_type": "display_data"
    },
    {
     "name": "stdout",
     "output_type": "stream",
     "text": [
      "AveAmtWithinPeriod\n"
     ]
    },
    {
     "data": {
      "image/png": "[encoded data removed]",
      "text/plain": [
       "<Figure size 432x288 with 1 Axes>"
      ]
     },
     "metadata": {
      "needs_background": "light"
     },
     "output_type": "display_data"
    }
   ],
   "source": [
    "for col in num_col:\n",
    "    print(col)\n",
    "    sns.boxplot(data[col])\n",
    "    plt.show()"
   ]
  },
  {
   "cell_type": "code",
   "execution_count": 26,
   "metadata": {
    "ExecuteTime": {
     "end_time": "2019-08-22T10:55:48.197750Z",
     "start_time": "2019-08-22T10:55:41.073400Z"
    }
   },
   "outputs": [
    {
     "data": {
      "image/png": "[encoded data removed]",
      "text/plain": [
       "<Figure size 432x288 with 1 Axes>"
      ]
     },
     "metadata": {
      "needs_background": "light"
     },
     "output_type": "display_data"
    },
    {
     "data": {
      "image/png": "[encoded data removed]",
      "text/plain": [
       "<Figure size 432x288 with 1 Axes>"
      ]
     },
     "metadata": {
      "needs_background": "light"
     },
     "output_type": "display_data"
    },
    {
     "data": {
      "image/png": "[encoded data removed]",
      "text/plain": [
       "<Figure size 432x288 with 1 Axes>"
      ]
     },
     "metadata": {
      "needs_background": "light"
     },
     "output_type": "display_data"
    },
    {
     "data": {
      "image/png": "[encoded data removed]",
      "text/plain": [
       "<Figure size 432x288 with 1 Axes>"
      ]
     },
     "metadata": {
      "needs_background": "light"
     },
     "output_type": "display_data"
    },
    {
     "data": {
      "image/png": "[encoded data removed]",
      "text/plain": [
       "<Figure size 432x288 with 1 Axes>"
      ]
     },
     "metadata": {
      "needs_background": "light"
     },
     "output_type": "display_data"
    },
    {
     "data": {
      "image/png": "[encoded data removed]",
      "text/plain": [
       "<Figure size 432x288 with 1 Axes>"
      ]
     },
     "metadata": {
      "needs_background": "light"
     },
     "output_type": "display_data"
    }
   ],
   "source": [
    "for col in num_col:\n",
    "    sns.distplot(data[col].dropna()/1000)\n",
    "    plt.show()"
   ]
  },
  {
   "cell_type": "code",
   "execution_count": 27,
   "metadata": {
    "ExecuteTime": {
     "end_time": "2019-08-22T10:59:41.506554Z",
     "start_time": "2019-08-22T10:55:48.210748Z"
    }
   },
   "outputs": [
    {
     "data": {
      "text/plain": [
       "<seaborn.axisgrid.PairGrid at 0x1ca38e5c710>"
      ]
     },
     "execution_count": 27,
     "metadata": {},
     "output_type": "execute_result"
    },
    {
     "data": {
      "image/png": "[encoded data removed]",
      "text/plain": [
       "<Figure size 1328.12x1260 with 56 Axes>"
      ]
     },
     "metadata": {
      "needs_background": "light"
     },
     "output_type": "display_data"
    }
   ],
   "source": [
    "c=num_col + ['FraudResult']\n",
    "sns.pairplot(data[c].dropna(),diag_kind='kde',hue='FraudResult')"
   ]
  },
  {
   "cell_type": "code",
   "execution_count": 40,
   "metadata": {
    "ExecuteTime": {
     "end_time": "2019-08-22T14:31:12.413288Z",
     "start_time": "2019-08-22T14:31:12.386295Z"
    }
   },
   "outputs": [],
   "source": [
    "data['is credit']=np.log(data['Amount']).isnull()"
   ]
  },
  {
   "cell_type": "markdown",
   "metadata": {},
   "source": [
    "## Categorical"
   ]
  },
  {
   "cell_type": "code",
   "execution_count": 41,
   "metadata": {
    "ExecuteTime": {
     "end_time": "2019-08-22T14:31:16.800317Z",
     "start_time": "2019-08-22T14:31:15.881373Z"
    }
   },
   "outputs": [
    {
     "ename": "NameError",
     "evalue": "name 'cat_col' is not defined",
     "output_type": "error",
     "traceback": [
      "\u001b[1;31m---------------------------------------------------------------------------\u001b[0m",
      "\u001b[1;31mNameError\u001b[0m                                 Traceback (most recent call last)",
      "\u001b[1;32m<ipython-input-41-415403ad1b68>\u001b[0m in \u001b[0;36m<module>\u001b[1;34m()\u001b[0m\n\u001b[1;32m----> 1\u001b[1;33m \u001b[0mcat_col\u001b[0m \u001b[1;33m=\u001b[0m \u001b[0mcat_col\u001b[0m \u001b[1;33m+\u001b[0m \u001b[1;33m[\u001b[0m\u001b[1;34m'is credit'\u001b[0m\u001b[1;33m]\u001b[0m\u001b[1;33m\u001b[0m\u001b[0m\n\u001b[0m",
      "\u001b[1;31mNameError\u001b[0m: name 'cat_col' is not defined"
     ]
    }
   ],
   "source": [
    "cat_col = cat_col + ['is credit']"
   ]
  },
  {
   "cell_type": "code",
   "execution_count": 42,
   "metadata": {
    "ExecuteTime": {
     "end_time": "2019-08-22T14:31:16.993299Z",
     "start_time": "2019-08-22T14:31:16.952306Z"
    }
   },
   "outputs": [
    {
     "ename": "NameError",
     "evalue": "name 'cat_col' is not defined",
     "output_type": "error",
     "traceback": [
      "\u001b[1;31m---------------------------------------------------------------------------\u001b[0m",
      "\u001b[1;31mNameError\u001b[0m                                 Traceback (most recent call last)",
      "\u001b[1;32m<ipython-input-42-85a6b06b1c68>\u001b[0m in \u001b[0;36m<module>\u001b[1;34m()\u001b[0m\n\u001b[1;32m----> 1\u001b[1;33m \u001b[0mset\u001b[0m\u001b[1;33m(\u001b[0m\u001b[0mlist\u001b[0m\u001b[1;33m(\u001b[0m\u001b[0mdata\u001b[0m\u001b[1;33m.\u001b[0m\u001b[0mcolumns\u001b[0m\u001b[1;33m)\u001b[0m\u001b[1;33m)\u001b[0m\u001b[1;33m-\u001b[0m\u001b[0mset\u001b[0m\u001b[1;33m(\u001b[0m\u001b[0mcat_col\u001b[0m \u001b[1;33m+\u001b[0m \u001b[0mnum_col\u001b[0m\u001b[1;33m)\u001b[0m\u001b[1;33m\u001b[0m\u001b[0m\n\u001b[0m",
      "\u001b[1;31mNameError\u001b[0m: name 'cat_col' is not defined"
     ]
    }
   ],
   "source": [
    "set(list(data.columns))-set(cat_col + num_col)"
   ]
  },
  {
   "cell_type": "code",
   "execution_count": 31,
   "metadata": {
    "ExecuteTime": {
     "end_time": "2019-08-22T10:59:49.535096Z",
     "start_time": "2019-08-22T10:59:41.896044Z"
    }
   },
   "outputs": [
    {
     "data": {
      "text/plain": [
       "is credit                              2\n",
       "quarter                                2\n",
       "FraudResult                            2\n",
       "PreviousTransactionBetweenHour         2\n",
       "PricingStrategy                        4\n",
       "week_of_month                          5\n",
       "ChannelId                              5\n",
       "ProviderId                             6\n",
       "weekday                                7\n",
       "ProductCategory                       10\n",
       "hour                                  24\n",
       "ProductId                             27\n",
       "Value                               1880\n",
       "NumberOfTransactionWithinHour       2001\n",
       "Amount                              2099\n",
       "AmountBetweenTransaction            4647\n",
       "SubscriptionId                      4836\n",
       "AccountId                           4841\n",
       "CustomerId                          7479\n",
       "AveAmtWithinPeriod                 16150\n",
       "TimeBetweenTransaction             38600\n",
       "TransactionStartTime              138574\n",
       "BatchId                           139493\n",
       "TransactionId                     140681\n",
       "dtype: int64"
      ]
     },
     "execution_count": 31,
     "metadata": {},
     "output_type": "execute_result"
    }
   ],
   "source": [
    "data.nunique().sort_values()"
   ]
  },
  {
   "cell_type": "code",
   "execution_count": 32,
   "metadata": {
    "ExecuteTime": {
     "end_time": "2019-08-22T10:59:49.888596Z",
     "start_time": "2019-08-22T10:59:49.552096Z"
    }
   },
   "outputs": [],
   "source": [
    "cat_co = [col for col in cat_col if data[col].nunique()<100]"
   ]
  },
  {
   "cell_type": "code",
   "execution_count": 33,
   "metadata": {
    "ExecuteTime": {
     "end_time": "2019-08-22T11:00:02.884844Z",
     "start_time": "2019-08-22T10:59:49.903597Z"
    },
    "scrolled": false
   },
   "outputs": [
    {
     "name": "stdout",
     "output_type": "stream",
     "text": [
      "ChannelId\n"
     ]
    },
    {
     "data": {
      "image/png": "[encoded data removed]",
      "text/plain": [
       "<Figure size 864x360 with 1 Axes>"
      ]
     },
     "metadata": {
      "needs_background": "light"
     },
     "output_type": "display_data"
    },
    {
     "name": "stdout",
     "output_type": "stream",
     "text": [
      "FraudResult\n"
     ]
    },
    {
     "data": {
      "image/png": "[encoded data removed]",
      "text/plain": [
       "<Figure size 864x360 with 1 Axes>"
      ]
     },
     "metadata": {
      "needs_background": "light"
     },
     "output_type": "display_data"
    },
    {
     "name": "stdout",
     "output_type": "stream",
     "text": [
      "PricingStrategy\n"
     ]
    },
    {
     "data": {
      "image/png": "[encoded data removed]",
      "text/plain": [
       "<Figure size 864x360 with 1 Axes>"
      ]
     },
     "metadata": {
      "needs_background": "light"
     },
     "output_type": "display_data"
    },
    {
     "name": "stdout",
     "output_type": "stream",
     "text": [
      "ProductCategory\n"
     ]
    },
    {
     "data": {
      "image/png": "[encoded data removed]",
      "text/plain": [
       "<Figure size 864x360 with 1 Axes>"
      ]
     },
     "metadata": {
      "needs_background": "light"
     },
     "output_type": "display_data"
    },
    {
     "name": "stdout",
     "output_type": "stream",
     "text": [
      "ProductId\n"
     ]
    },
    {
     "data": {
      "image/png": "[encoded data removed]",
      "text/plain": [
       "<Figure size 864x360 with 1 Axes>"
      ]
     },
     "metadata": {
      "needs_background": "light"
     },
     "output_type": "display_data"
    },
    {
     "name": "stdout",
     "output_type": "stream",
     "text": [
      "ProviderId\n"
     ]
    },
    {
     "data": {
      "image/png": "[encoded data removed]",
      "text/plain": [
       "<Figure size 864x360 with 1 Axes>"
      ]
     },
     "metadata": {
      "needs_background": "light"
     },
     "output_type": "display_data"
    },
    {
     "name": "stdout",
     "output_type": "stream",
     "text": [
      "PreviousTransactionBetweenHour\n"
     ]
    },
    {
     "data": {
      "image/png": "[encoded data removed]",
      "text/plain": [
       "<Figure size 864x360 with 1 Axes>"
      ]
     },
     "metadata": {
      "needs_background": "light"
     },
     "output_type": "display_data"
    },
    {
     "name": "stdout",
     "output_type": "stream",
     "text": [
      "quarter\n"
     ]
    },
    {
     "data": {
      "image/png": "[encoded data removed]",
      "text/plain": [
       "<Figure size 864x360 with 1 Axes>"
      ]
     },
     "metadata": {
      "needs_background": "light"
     },
     "output_type": "display_data"
    },
    {
     "name": "stdout",
     "output_type": "stream",
     "text": [
      "week_of_month\n"
     ]
    },
    {
     "data": {
      "image/png": "[encoded data removed]",
      "text/plain": [
       "<Figure size 864x360 with 1 Axes>"
      ]
     },
     "metadata": {
      "needs_background": "light"
     },
     "output_type": "display_data"
    },
    {
     "name": "stdout",
     "output_type": "stream",
     "text": [
      "weekday\n"
     ]
    },
    {
     "data": {
      "image/png": "[encoded data removed]",
      "text/plain": [
       "<Figure size 864x360 with 1 Axes>"
      ]
     },
     "metadata": {
      "needs_background": "light"
     },
     "output_type": "display_data"
    },
    {
     "name": "stdout",
     "output_type": "stream",
     "text": [
      "hour\n"
     ]
    },
    {
     "data": {
      "image/png": "[encoded data removed]",
      "text/plain": [
       "<Figure size 864x360 with 1 Axes>"
      ]
     },
     "metadata": {
      "needs_background": "light"
     },
     "output_type": "display_data"
    },
    {
     "name": "stdout",
     "output_type": "stream",
     "text": [
      "is credit\n"
     ]
    },
    {
     "data": {
      "image/png": "[encoded data removed]",
      "text/plain": [
       "<Figure size 864x360 with 1 Axes>"
      ]
     },
     "metadata": {
      "needs_background": "light"
     },
     "output_type": "display_data"
    }
   ],
   "source": [
    "for col in cat_co:\n",
    "        print(col)\n",
    "        plt.figure(figsize=(12,5))\n",
    "        ax=sns.countplot(data[col],order = data[col].value_counts().index)\n",
    "        ax.set_xticklabels(ax.get_xticklabels(), rotation=40, ha=\"right\")\n",
    "        plt.tight_layout()\n",
    "        plt.show()"
   ]
  },
  {
   "cell_type": "code",
   "execution_count": 34,
   "metadata": {
    "ExecuteTime": {
     "end_time": "2019-08-22T11:00:03.132827Z",
     "start_time": "2019-08-22T11:00:02.901844Z"
    }
   },
   "outputs": [],
   "source": [
    "from scipy.stats import chi2_contingency\n",
    "from scipy.stats import chi2\n",
    "def cramers_v(x, y):\n",
    "    \"\"\"\n",
    "    Calculates Cramer's V statistic for categorical-categorical association.\n",
    "    Uses correction from Bergsma and Wicher, Journal of the Korean Statistical Society 42 (2013): 323-328.\n",
    "    This is a symmetric coefficient: V(x,y) = V(y,x)\n",
    "    Original function taken from: https://stackoverflow.com/a/46498792/5863503\n",
    "    Wikipedia: https://en.wikipedia.org/wiki/Cram%C3%A9r%27s_V\n",
    "    **Returns:** float in the range of [0,1]\n",
    "    Parameters\n",
    "    ----------\n",
    "    x : list / NumPy ndarray / Pandas Series\n",
    "        A sequence of categorical measurements\n",
    "    y : list / NumPy ndarray / Pandas Series\n",
    "        A sequence of categorical measurements\n",
    "    \"\"\"\n",
    "    confusion_matrix = pd.crosstab(x,y)\n",
    "    chi2 = chi2_contingency(confusion_matrix)[0]\n",
    "    n = confusion_matrix.sum().sum()\n",
    "    phi2 = chi2/n\n",
    "    r,k = confusion_matrix.shape\n",
    "    phi2corr = max(0, phi2-((k-1)*(r-1))/(n-1))\n",
    "    rcorr = r-((r-1)**2)/(n-1)\n",
    "    kcorr = k-((k-1)**2)/(n-1)\n",
    "    return np.sqrt(phi2corr/min((kcorr-1),(rcorr-1)))\n",
    "\n",
    "\n",
    "def theils_u(x, y):\n",
    "    \"\"\"\n",
    "    Calculates Theil's U statistic (Uncertainty coefficient) for categorical-categorical association.\n",
    "    This is the uncertainty of x given y: value is on the range of [0,1] - where 0 means y provides no information about\n",
    "    x, and 1 means y provides full information about x.\n",
    "    This is an asymmetric coefficient: U(x,y) != U(y,x)\n",
    "    Wikipedia: https://en.wikipedia.org/wiki/Uncertainty_coefficient\n",
    "    **Returns:** float in the range of [0,1]\n",
    "    Parameters\n",
    "    ----------\n",
    "    x : list / NumPy ndarray / Pandas Series\n",
    "        A sequence of categorical measurements\n",
    "    y : list / NumPy ndarray / Pandas Series\n",
    "        A sequence of categorical measurements\n",
    "    \"\"\"\n",
    "    s_xy = conditional_entropy(x,y)\n",
    "    x_counter = Counter(x)\n",
    "    total_occurrences = sum(x_counter.values())\n",
    "    p_x = list(map(lambda n: n/total_occurrences, x_counter.values()))\n",
    "    s_x = ss.entropy(p_x)\n",
    "    if s_x == 0:\n",
    "        return 1\n",
    "    else:\n",
    "        return (s_x - s_xy) / s_x"
   ]
  },
  {
   "cell_type": "code",
   "execution_count": 35,
   "metadata": {
    "ExecuteTime": {
     "end_time": "2019-08-22T11:00:03.316815Z",
     "start_time": "2019-08-22T11:00:03.152827Z"
    }
   },
   "outputs": [
    {
     "data": {
      "text/plain": [
       "['AccountId',\n",
       " 'ChannelId',\n",
       " 'CustomerId',\n",
       " 'FraudResult',\n",
       " 'PricingStrategy',\n",
       " 'ProductCategory',\n",
       " 'ProductId',\n",
       " 'ProviderId',\n",
       " 'SubscriptionId',\n",
       " 'PreviousTransactionBetweenHour',\n",
       " 'quarter',\n",
       " 'week_of_month',\n",
       " 'weekday',\n",
       " 'hour',\n",
       " 'is credit']"
      ]
     },
     "execution_count": 35,
     "metadata": {},
     "output_type": "execute_result"
    }
   ],
   "source": [
    "cat_col"
   ]
  },
  {
   "cell_type": "code",
   "execution_count": 36,
   "metadata": {
    "ExecuteTime": {
     "end_time": "2019-08-22T11:09:46.537950Z",
     "start_time": "2019-08-22T11:00:03.330814Z"
    }
   },
   "outputs": [
    {
     "name": "stdout",
     "output_type": "stream",
     "text": [
      "AccountId\n",
      "ChannelId\n",
      "CustomerId\n",
      "FraudResult\n",
      "PricingStrategy\n",
      "ProductCategory\n",
      "ProductId\n",
      "ProviderId\n",
      "SubscriptionId\n",
      "PreviousTransactionBetweenHour\n",
      "quarter\n",
      "week_of_month\n",
      "weekday\n",
      "hour\n",
      "is credit\n"
     ]
    }
   ],
   "source": [
    "r=[]\n",
    "for x in cat_col:\n",
    "    cc=cat_col\n",
    "    print(x)\n",
    "    for y in cc:\n",
    "        if x!=y:\n",
    "            o=cramers_v(data.dropna()[x],data.dropna()[y])\n",
    "            r.append([x,y,o])\n",
    "    #cc.remove(x)"
   ]
  },
  {
   "cell_type": "code",
   "execution_count": 37,
   "metadata": {
    "ExecuteTime": {
     "end_time": "2019-08-22T11:09:48.047008Z",
     "start_time": "2019-08-22T11:09:46.549951Z"
    }
   },
   "outputs": [
    {
     "data": {
      "text/plain": [
       "<matplotlib.axes._subplots.AxesSubplot at 0x1ca49d4e390>"
      ]
     },
     "execution_count": 37,
     "metadata": {},
     "output_type": "execute_result"
    },
    {
     "data": {
      "image/png": "[encoded data removed]",
      "text/plain": [
       "<Figure size 720x504 with 2 Axes>"
      ]
     },
     "metadata": {
      "needs_background": "light"
     },
     "output_type": "display_data"
    }
   ],
   "source": [
    "plt.figure(figsize=(10,7))\n",
    "sns.heatmap(pd.pivot_table(data=pd.DataFrame(r).sort_values(by=2,ascending=False),\n",
    "                                                            index=0,columns=1,values=2).fillna(1),cmap='coolwarm')"
   ]
  },
  {
   "cell_type": "code",
   "execution_count": 38,
   "metadata": {
    "ExecuteTime": {
     "end_time": "2019-08-22T11:09:49.736304Z",
     "start_time": "2019-08-22T11:09:48.062008Z"
    }
   },
   "outputs": [
    {
     "data": {
      "text/plain": [
       "<seaborn.matrix.ClusterGrid at 0x1ca45bf62e8>"
      ]
     },
     "execution_count": 38,
     "metadata": {},
     "output_type": "execute_result"
    },
    {
     "data": {
      "text/plain": [
       "<Figure size 720x504 with 0 Axes>"
      ]
     },
     "metadata": {},
     "output_type": "display_data"
    },
    {
     "data": {
      "image/png": "[encoded data removed]",
      "text/plain": [
       "<Figure size 720x720 with 4 Axes>"
      ]
     },
     "metadata": {
      "needs_background": "light"
     },
     "output_type": "display_data"
    }
   ],
   "source": [
    "plt.figure(figsize=(10,7))\n",
    "sns.clustermap(pd.pivot_table(data=pd.DataFrame(r).sort_values(by=2,ascending=False),\n",
    "                                                            index=0,columns=1,values=2).fillna(1),cmap='coolwarm')"
   ]
  },
  {
   "cell_type": "markdown",
   "metadata": {},
   "source": [
    "# Feature Creation"
   ]
  },
  {
   "cell_type": "code",
   "execution_count": 39,
   "metadata": {
    "ExecuteTime": {
     "end_time": "2019-08-22T11:09:49.843299Z",
     "start_time": "2019-08-22T11:09:49.749301Z"
    }
   },
   "outputs": [],
   "source": [
    "data.ProductCategory=data.ProductCategory.map({'financial_services':'financial_services',\n",
    "                                               'airtime':'airtime'}).fillna('others')"
   ]
  },
  {
   "cell_type": "code",
   "execution_count": 40,
   "metadata": {
    "ExecuteTime": {
     "end_time": "2019-08-22T11:09:50.028288Z",
     "start_time": "2019-08-22T11:09:49.856296Z"
    }
   },
   "outputs": [],
   "source": [
    "data.ChannelId=data.ChannelId.map({'ChannelId_2':'ChannelId_2',\n",
    "                                   'ChannelId_3':'ChannelId_3'}).fillna('others')"
   ]
  },
  {
   "cell_type": "code",
   "execution_count": 41,
   "metadata": {
    "ExecuteTime": {
     "end_time": "2019-08-22T11:09:50.258291Z",
     "start_time": "2019-08-22T11:09:50.039283Z"
    }
   },
   "outputs": [],
   "source": [
    "data.ProductId=data.ProductId.map({'ProductId_5':'ProductId_22',\n",
    "                                     'ProductId_9':'ProductId_22',\n",
    "                                    'ProductId_22':'ProductId_22',\n",
    "                                    'ProductId_6':'ProductId_6',\n",
    "                                    'ProductId_3':'ProductId_3',\n",
    "                                    'ProductId_10':'ProductId_10',\n",
    "                                    'ProductId_15':'ProductId_15',}).fillna('others')"
   ]
  },
  {
   "cell_type": "code",
   "execution_count": 42,
   "metadata": {
    "ExecuteTime": {
     "end_time": "2019-08-22T11:09:50.431990Z",
     "start_time": "2019-08-22T11:09:50.270294Z"
    }
   },
   "outputs": [],
   "source": [
    "data.ProviderId=data.ProviderId.map({'ProviderId_2':'others','ProviderId_3':'others'}).fillna(data.ProviderId)"
   ]
  },
  {
   "cell_type": "code",
   "execution_count": 43,
   "metadata": {
    "ExecuteTime": {
     "end_time": "2019-08-22T11:09:50.578320Z",
     "start_time": "2019-08-22T11:09:50.442987Z"
    }
   },
   "outputs": [
    {
     "data": {
      "text/plain": [
       "Index(['AccountId', 'Amount', 'BatchId', 'ChannelId', 'CustomerId',\n",
       "       'FraudResult', 'PricingStrategy', 'ProductCategory', 'ProductId',\n",
       "       'ProviderId', 'SubscriptionId', 'TransactionId', 'TransactionStartTime',\n",
       "       'Value', 'TimeBetweenTransaction', 'AmountBetweenTransaction',\n",
       "       'PreviousTransactionBetweenHour', 'NumberOfTransactionWithinHour',\n",
       "       'AveAmtWithinPeriod', 'quarter', 'week_of_month', 'weekday', 'hour',\n",
       "       'is credit'],\n",
       "      dtype='object')"
      ]
     },
     "execution_count": 43,
     "metadata": {},
     "output_type": "execute_result"
    }
   ],
   "source": [
    "data.columns"
   ]
  },
  {
   "cell_type": "code",
   "execution_count": 44,
   "metadata": {
    "ExecuteTime": {
     "end_time": "2019-08-22T11:09:50.695314Z",
     "start_time": "2019-08-22T11:09:50.590322Z"
    }
   },
   "outputs": [],
   "source": [
    "ccc=['Amount','Value',\n",
    "             'TimeBetweenTransaction', 'AmountBetweenTransaction','PreviousTransactionBetweenHour', \n",
    "            'NumberOfTransactionWithinHour', 'AveAmtWithinPeriod','is late']"
   ]
  },
  {
   "cell_type": "code",
   "execution_count": 45,
   "metadata": {
    "ExecuteTime": {
     "end_time": "2019-08-22T11:09:50.878304Z",
     "start_time": "2019-08-22T11:09:50.707312Z"
    }
   },
   "outputs": [],
   "source": [
    "data['is late']=((data.hour <= 5) | (data.hour>=20))"
   ]
  },
  {
   "cell_type": "code",
   "execution_count": 46,
   "metadata": {
    "ExecuteTime": {
     "end_time": "2019-08-22T11:09:53.133165Z",
     "start_time": "2019-08-22T11:09:50.890300Z"
    }
   },
   "outputs": [],
   "source": [
    "channel_grp=data[data.FraudResult==0].groupby('ChannelId').agg(['mean','std','skew','count'])[ccc]\n",
    "prodcat_grp=data[data.FraudResult==0].groupby('ProductCategory').agg(['mean','std','skew','count'])[ccc]\n",
    "providerid_grp=data[data.FraudResult==0].groupby('ProviderId').agg(['mean','std','skew','count'])[ccc]\n",
    "#pricing_grp=data[data.FraudResult==0].groupby('PricingStrategy').agg(['mean','std','skew'])"
   ]
  },
  {
   "cell_type": "code",
   "execution_count": 47,
   "metadata": {
    "ExecuteTime": {
     "end_time": "2019-08-22T11:09:56.450029Z",
     "start_time": "2019-08-22T11:09:53.145166Z"
    }
   },
   "outputs": [],
   "source": [
    "data_mod=data.merge(channel_grp,on='ChannelId').merge(prodcat_grp,on='ProductCategory').merge(providerid_grp,on='ProviderId')"
   ]
  },
  {
   "cell_type": "code",
   "execution_count": 48,
   "metadata": {
    "ExecuteTime": {
     "end_time": "2019-08-22T11:09:57.006996Z",
     "start_time": "2019-08-22T11:09:56.462028Z"
    }
   },
   "outputs": [],
   "source": [
    "test=data[data.FraudResult.isnull()]\n",
    "train=data.dropna()"
   ]
  },
  {
   "cell_type": "code",
   "execution_count": 49,
   "metadata": {
    "ExecuteTime": {
     "end_time": "2019-08-22T11:09:57.117014Z",
     "start_time": "2019-08-22T11:09:57.017993Z"
    }
   },
   "outputs": [
    {
     "data": {
      "text/plain": [
       "0.00201752001839811"
      ]
     },
     "execution_count": 49,
     "metadata": {},
     "output_type": "execute_result"
    }
   ],
   "source": [
    "train.FraudResult.mean()"
   ]
  },
  {
   "cell_type": "markdown",
   "metadata": {},
   "source": [
    "# Modelling"
   ]
  },
  {
   "cell_type": "code",
   "execution_count": 50,
   "metadata": {
    "ExecuteTime": {
     "end_time": "2019-08-22T11:09:57.251018Z",
     "start_time": "2019-08-22T11:09:57.129009Z"
    }
   },
   "outputs": [],
   "source": [
    "#Remember yor removed ids\n",
    "X=train.drop(['FraudResult','TransactionId','BatchId','CustomerId','AccountId',\n",
    "              'SubscriptionId','TransactionStartTime'],axis=1)\n",
    "y=train['FraudResult']"
   ]
  },
  {
   "cell_type": "code",
   "execution_count": 51,
   "metadata": {
    "ExecuteTime": {
     "end_time": "2019-08-22T11:09:57.476894Z",
     "start_time": "2019-08-22T11:09:57.262022Z"
    }
   },
   "outputs": [],
   "source": [
    "X_train, X_test, y_train, y_test = train_test_split(X, y, test_size=0.3, random_state=4112)"
   ]
  },
  {
   "cell_type": "code",
   "execution_count": 52,
   "metadata": {
    "ExecuteTime": {
     "end_time": "2019-08-22T11:09:58.733831Z",
     "start_time": "2019-08-22T11:09:57.488899Z"
    }
   },
   "outputs": [],
   "source": [
    "import category_encoders as ce"
   ]
  },
  {
   "cell_type": "code",
   "execution_count": 53,
   "metadata": {
    "ExecuteTime": {
     "end_time": "2019-08-22T11:09:58.881823Z",
     "start_time": "2019-08-22T11:09:58.744833Z"
    }
   },
   "outputs": [],
   "source": [
    "cat=[col for col in X_train.columns if X_train[col].nunique()<30]"
   ]
  },
  {
   "cell_type": "code",
   "execution_count": 54,
   "metadata": {
    "ExecuteTime": {
     "end_time": "2019-08-22T11:09:59.521780Z",
     "start_time": "2019-08-22T11:09:58.894822Z"
    }
   },
   "outputs": [
    {
     "data": {
      "text/plain": [
       "<matplotlib.axes._subplots.AxesSubplot at 0x1ca4ac4c710>"
      ]
     },
     "execution_count": 54,
     "metadata": {},
     "output_type": "execute_result"
    },
    {
     "data": {
      "image/png": "[encoded data removed]",
      "text/plain": [
       "<Figure size 432x288 with 1 Axes>"
      ]
     },
     "metadata": {
      "needs_background": "light"
     },
     "output_type": "display_data"
    }
   ],
   "source": [
    "X_train.NumberOfTransactionWithinHour.plot.hist()"
   ]
  },
  {
   "cell_type": "code",
   "execution_count": 55,
   "metadata": {
    "ExecuteTime": {
     "end_time": "2019-08-22T11:10:03.865902Z",
     "start_time": "2019-08-22T11:09:59.533783Z"
    }
   },
   "outputs": [],
   "source": [
    "encoder_catboost = ce.cat_boost.CatBoostEncoder(cols=cat)\n",
    "X_train_catboost=encoder_catboost.fit_transform(X_train,y_train)\n",
    "X_test_catboost=encoder_catboost.transform(X_test)"
   ]
  },
  {
   "cell_type": "code",
   "execution_count": 56,
   "metadata": {
    "ExecuteTime": {
     "end_time": "2019-08-22T11:10:07.965686Z",
     "start_time": "2019-08-22T11:10:03.877900Z"
    }
   },
   "outputs": [],
   "source": [
    "X_catboost=encoder_catboost.fit_transform(X,y)"
   ]
  },
  {
   "cell_type": "code",
   "execution_count": 57,
   "metadata": {
    "ExecuteTime": {
     "end_time": "2019-08-22T11:10:26.387379Z",
     "start_time": "2019-08-22T11:10:07.986682Z"
    }
   },
   "outputs": [
    {
     "name": "stdout",
     "output_type": "stream",
     "text": [
      "0:\tlearn: 0.0000000\ttest: 0.0000000\tbest: 0.0000000 (0)\ttotal: 122ms\tremaining: 4m 3s\n",
      "100:\tlearn: 0.9815498\ttest: 0.8571429\tbest: 0.8800000 (46)\ttotal: 11.3s\tremaining: 3m 31s\n",
      "Stopped by overfitting detector  (100 iterations wait)\n",
      "\n",
      "bestTest = 0.88\n",
      "bestIteration = 46\n",
      "\n",
      "Shrink model to first 47 iterations.\n"
     ]
    },
    {
     "data": {
      "text/plain": [
       "<catboost.core.CatBoostClassifier at 0x1ca4d878b70>"
      ]
     },
     "execution_count": 57,
     "metadata": {},
     "output_type": "execute_result"
    }
   ],
   "source": [
    "clf_best_cb=CatBoostClassifier(iterations=2000,learning_rate=0.1,depth=5,verbose=100,\n",
    "                     use_best_model=True,random_seed=12,eval_metric='F1', early_stopping_rounds=100)\n",
    "\n",
    "clf_best_cb.fit(X_train_catboost,y_train,eval_set=(X_test_catboost,y_test))"
   ]
  },
  {
   "cell_type": "code",
   "execution_count": 58,
   "metadata": {
    "ExecuteTime": {
     "end_time": "2019-08-22T11:10:39.732202Z",
     "start_time": "2019-08-22T11:10:26.436374Z"
    }
   },
   "outputs": [
    {
     "name": "stdout",
     "output_type": "stream",
     "text": [
      "0:\tlearn: 0.7842227\ttotal: 145ms\tremaining: 8.82s\n",
      "61:\tlearn: 0.9653333\ttotal: 10.7s\tremaining: 0us\n"
     ]
    },
    {
     "data": {
      "text/plain": [
       "<catboost.core.CatBoostClassifier at 0x1ca4d8784e0>"
      ]
     },
     "execution_count": 58,
     "metadata": {},
     "output_type": "execute_result"
    }
   ],
   "source": [
    "clf_best_cb=CatBoostClassifier(iterations=62,learning_rate=0.1,depth=5,verbose=100,\n",
    "                     random_seed=12,eval_metric='F1')\n",
    "\n",
    "clf_best_cb.fit(X_catboost,y)"
   ]
  },
  {
   "cell_type": "code",
   "execution_count": 59,
   "metadata": {
    "ExecuteTime": {
     "end_time": "2019-08-22T11:10:41.244448Z",
     "start_time": "2019-08-22T11:10:39.746194Z"
    }
   },
   "outputs": [
    {
     "data": {
      "text/plain": [
       "Text(0.5,0,'Importance')"
      ]
     },
     "execution_count": 59,
     "metadata": {},
     "output_type": "execute_result"
    },
    {
     "data": {
      "image/png": "[encoded data removed]",
      "text/plain": [
       "<Figure size 720x1080 with 1 Axes>"
      ]
     },
     "metadata": {
      "needs_background": "light"
     },
     "output_type": "display_data"
    }
   ],
   "source": [
    "fea_imp = pd.DataFrame({'imp': clf_best_cb.feature_importances_, 'col': X_train_catboost.columns})\n",
    "fea_imp = fea_imp.sort_values(['imp', 'col'], ascending=[True, False]).iloc[-30:]\n",
    "fea_imp.plot(kind='barh', x='col', y='imp', figsize=(10, 15), legend=None)\n",
    "plt.title('CatBoost - Feature Importance')\n",
    "plt.ylabel('Features')\n",
    "plt.xlabel('Importance')"
   ]
  },
  {
   "cell_type": "code",
   "execution_count": 60,
   "metadata": {
    "ExecuteTime": {
     "end_time": "2019-08-22T11:10:46.209292Z",
     "start_time": "2019-08-22T11:10:41.258445Z"
    }
   },
   "outputs": [],
   "source": [
    "from xgboost import XGBClassifier"
   ]
  },
  {
   "cell_type": "code",
   "execution_count": 61,
   "metadata": {
    "ExecuteTime": {
     "end_time": "2019-08-22T11:10:46.234288Z",
     "start_time": "2019-08-22T11:10:46.222291Z"
    }
   },
   "outputs": [],
   "source": [
    "xg=XGBClassifier(max_depth=7,learning_rate=0.1, n_estimators=1000, verbosity=1, random_state=0)"
   ]
  },
  {
   "cell_type": "code",
   "execution_count": 62,
   "metadata": {
    "ExecuteTime": {
     "end_time": "2019-08-22T11:12:09.838868Z",
     "start_time": "2019-08-22T11:10:46.249290Z"
    }
   },
   "outputs": [
    {
     "data": {
      "text/plain": [
       "XGBClassifier(base_score=0.5, booster='gbtree', colsample_bylevel=1,\n",
       "       colsample_bynode=1, colsample_bytree=1, gamma=0, learning_rate=0.1,\n",
       "       max_delta_step=0, max_depth=7, min_child_weight=1, missing=None,\n",
       "       n_estimators=1000, n_jobs=1, nthread=None,\n",
       "       objective='binary:logistic', random_state=0, reg_alpha=0,\n",
       "       reg_lambda=1, scale_pos_weight=1, seed=None, silent=None,\n",
       "       subsample=1, verbosity=1)"
      ]
     },
     "execution_count": 62,
     "metadata": {},
     "output_type": "execute_result"
    }
   ],
   "source": [
    "xg.fit(X_train_catboost, y_train,eval_set=[(X_test_catboost, y_test)], eval_metric='aucpr',\n",
    "       early_stopping_rounds=100, verbose=False)"
   ]
  },
  {
   "cell_type": "code",
   "execution_count": 63,
   "metadata": {
    "ExecuteTime": {
     "end_time": "2019-08-22T11:12:10.059886Z",
     "start_time": "2019-08-22T11:12:09.851869Z"
    }
   },
   "outputs": [
    {
     "data": {
      "text/plain": [
       "0.8686868686868686"
      ]
     },
     "execution_count": 63,
     "metadata": {},
     "output_type": "execute_result"
    }
   ],
   "source": [
    "from sklearn.metrics import f1_score\n",
    "f1_score(y_test,xg.predict(X_test_catboost))"
   ]
  },
  {
   "cell_type": "code",
   "execution_count": 64,
   "metadata": {
    "ExecuteTime": {
     "end_time": "2019-08-22T11:12:11.361504Z",
     "start_time": "2019-08-22T11:12:10.072884Z"
    }
   },
   "outputs": [
    {
     "data": {
      "text/plain": [
       "Text(0.5,0,'Importance')"
      ]
     },
     "execution_count": 64,
     "metadata": {},
     "output_type": "execute_result"
    },
    {
     "data": {
      "image/png": "[encoded data removed]",
      "text/plain": [
       "<Figure size 720x1080 with 1 Axes>"
      ]
     },
     "metadata": {
      "needs_background": "light"
     },
     "output_type": "display_data"
    }
   ],
   "source": [
    "fea_imp = pd.DataFrame({'imp': xg.feature_importances_, 'col': X_train_catboost.columns})\n",
    "fea_imp = fea_imp.sort_values(['imp', 'col'], ascending=[True, False]).iloc[-50:]\n",
    "fea_imp.plot(kind='barh', x='col', y='imp', figsize=(10, 15), legend=None)\n",
    "plt.title('CatBoost - Feature Importance')\n",
    "plt.ylabel('Features')\n",
    "plt.xlabel('Importance')"
   ]
  },
  {
   "cell_type": "code",
   "execution_count": 65,
   "metadata": {
    "ExecuteTime": {
     "end_time": "2019-08-22T11:12:12.227358Z",
     "start_time": "2019-08-22T11:12:11.375500Z"
    }
   },
   "outputs": [],
   "source": [
    "xx=encoder_catboost.transform(test.drop(['FraudResult','TransactionId','BatchId','CustomerId','AccountId',\n",
    "              'SubscriptionId','TransactionStartTime'],axis=1))"
   ]
  },
  {
   "cell_type": "code",
   "execution_count": 66,
   "metadata": {
    "ExecuteTime": {
     "end_time": "2019-08-22T11:12:12.470341Z",
     "start_time": "2019-08-22T11:12:12.239359Z"
    }
   },
   "outputs": [
    {
     "data": {
      "text/plain": [
       "0.0012883449210333415"
      ]
     },
     "execution_count": 66,
     "metadata": {},
     "output_type": "execute_result"
    }
   ],
   "source": [
    "xg.predict(xx).mean()"
   ]
  },
  {
   "cell_type": "code",
   "execution_count": 67,
   "metadata": {
    "ExecuteTime": {
     "end_time": "2019-08-22T11:12:13.024703Z",
     "start_time": "2019-08-22T11:12:12.482342Z"
    }
   },
   "outputs": [
    {
     "data": {
      "text/plain": [
       "0.001421621981829894"
      ]
     },
     "execution_count": 67,
     "metadata": {},
     "output_type": "execute_result"
    }
   ],
   "source": [
    "clf_best_cb.predict(xx).mean()"
   ]
  },
  {
   "cell_type": "markdown",
   "metadata": {
    "ExecuteTime": {
     "end_time": "2019-08-21T11:53:13.338771Z",
     "start_time": "2019-08-21T11:53:12.175140Z"
    }
   },
   "source": [
    "pd.DataFrame(xg.predict(xx)).to_csv('XGboost Xente 3 with ids.csv')"
   ]
  },
  {
   "cell_type": "markdown",
   "metadata": {
    "ExecuteTime": {
     "end_time": "2019-08-21T11:53:21.780337Z",
     "start_time": "2019-08-21T11:53:20.935877Z"
    }
   },
   "source": [
    "pd.DataFrame(clf_best_cb.predict(xx)).to_csv('Catboost Xente 3 with ids.csv')"
   ]
  },
  {
   "cell_type": "markdown",
   "metadata": {
    "ExecuteTime": {
     "end_time": "2019-08-21T11:38:49.103017Z",
     "start_time": "2019-08-21T11:38:49.091020Z"
    }
   },
   "source": [
    "# Futher Feature Engineering"
   ]
  },
  {
   "cell_type": "code",
   "execution_count": 68,
   "metadata": {
    "ExecuteTime": {
     "end_time": "2019-08-22T11:12:44.262496Z",
     "start_time": "2019-08-22T11:12:13.036707Z"
    }
   },
   "outputs": [],
   "source": [
    "import featuretools as ft"
   ]
  },
  {
   "cell_type": "code",
   "execution_count": 69,
   "metadata": {
    "ExecuteTime": {
     "end_time": "2019-08-22T11:12:47.154904Z",
     "start_time": "2019-08-22T11:12:44.275495Z"
    }
   },
   "outputs": [
    {
     "data": {
      "text/plain": [
       "Entityset: Xente\n",
       "  Entities:\n",
       "    Data [Rows: 140681, Columns: 25]\n",
       "  Relationships:\n",
       "    No relationships"
      ]
     },
     "execution_count": 69,
     "metadata": {},
     "output_type": "execute_result"
    }
   ],
   "source": [
    "# creating and entity set 'es'\n",
    "es = ft.EntitySet(id = 'Xente')\n",
    "\n",
    "# adding a dataframe \n",
    "es.entity_from_dataframe(entity_id = 'Data', dataframe = data, index = 'TransactionId',\n",
    "                         time_index = 'TransactionStartTime')"
   ]
  },
  {
   "cell_type": "markdown",
   "metadata": {},
   "source": [
    "# KNN"
   ]
  },
  {
   "cell_type": "code",
   "execution_count": 70,
   "metadata": {
    "ExecuteTime": {
     "end_time": "2019-08-22T11:12:48.220601Z",
     "start_time": "2019-08-22T11:12:47.166905Z"
    }
   },
   "outputs": [],
   "source": [
    "from sklearn.neighbors import KNeighborsClassifier"
   ]
  },
  {
   "cell_type": "code",
   "execution_count": 71,
   "metadata": {
    "ExecuteTime": {
     "end_time": "2019-08-22T11:12:48.250593Z",
     "start_time": "2019-08-22T11:12:48.236598Z"
    }
   },
   "outputs": [],
   "source": [
    "from sklearn.preprocessing import MinMaxScaler"
   ]
  },
  {
   "cell_type": "code",
   "execution_count": 72,
   "metadata": {
    "ExecuteTime": {
     "end_time": "2019-08-22T11:12:48.380583Z",
     "start_time": "2019-08-22T11:12:48.268595Z"
    }
   },
   "outputs": [],
   "source": [
    "sc=MinMaxScaler()"
   ]
  },
  {
   "cell_type": "code",
   "execution_count": 73,
   "metadata": {
    "ExecuteTime": {
     "end_time": "2019-08-22T11:12:48.607607Z",
     "start_time": "2019-08-22T11:12:48.393590Z"
    }
   },
   "outputs": [],
   "source": [
    "X_train_catboost_scaled = sc.fit_transform(X_train_catboost)\n",
    "X_test_catboost_scaled = sc.transform(X_test_catboost)"
   ]
  },
  {
   "cell_type": "code",
   "execution_count": 74,
   "metadata": {
    "ExecuteTime": {
     "end_time": "2019-08-22T11:12:48.649597Z",
     "start_time": "2019-08-22T11:12:48.620601Z"
    }
   },
   "outputs": [],
   "source": [
    "knn=KNeighborsClassifier(n_neighbors=5,weights='uniform',leaf_size=30)"
   ]
  },
  {
   "cell_type": "code",
   "execution_count": 75,
   "metadata": {
    "ExecuteTime": {
     "end_time": "2019-08-22T11:12:58.312117Z",
     "start_time": "2019-08-22T11:12:48.661599Z"
    }
   },
   "outputs": [
    {
     "data": {
      "text/plain": [
       "KNeighborsClassifier(algorithm='auto', leaf_size=30, metric='minkowski',\n",
       "           metric_params=None, n_jobs=None, n_neighbors=5, p=2,\n",
       "           weights='uniform')"
      ]
     },
     "execution_count": 75,
     "metadata": {},
     "output_type": "execute_result"
    }
   ],
   "source": [
    "knn.fit(X_train_catboost,y_train)"
   ]
  },
  {
   "cell_type": "code",
   "execution_count": 76,
   "metadata": {
    "ExecuteTime": {
     "end_time": "2019-08-22T11:13:12.235339Z",
     "start_time": "2019-08-22T11:12:58.325120Z"
    }
   },
   "outputs": [
    {
     "name": "stdout",
     "output_type": "stream",
     "text": [
      "0.8159999999999998\n",
      "0.7021276595744681\n"
     ]
    }
   ],
   "source": [
    "print(f1_score(y_train,knn.predict(X_train_catboost)))\n",
    "print(f1_score(y_test,knn.predict(X_test_catboost)))"
   ]
  },
  {
   "cell_type": "code",
   "execution_count": 77,
   "metadata": {
    "ExecuteTime": {
     "end_time": "2019-08-22T11:13:12.307329Z",
     "start_time": "2019-08-22T11:13:12.247337Z"
    }
   },
   "outputs": [],
   "source": [
    "knn1=KNeighborsClassifier(n_neighbors=5,weights='uniform',leaf_size=30)\n",
    "knn2=KNeighborsClassifier(n_neighbors=7,weights='uniform',leaf_size=30)\n",
    "knn3=KNeighborsClassifier(n_neighbors=9,weights='uniform',leaf_size=30)\n",
    "knn4=KNeighborsClassifier(n_neighbors=11,weights='uniform',leaf_size=30)\n",
    "knn5=KNeighborsClassifier(n_neighbors=5,weights='distance',leaf_size=30)\n",
    "knn6=KNeighborsClassifier(n_neighbors=7,weights='distance',leaf_size=30)\n",
    "knn7=KNeighborsClassifier(n_neighbors=9,weights='distance',leaf_size=30)\n",
    "knn8=KNeighborsClassifier(n_neighbors=11,weights='distance',leaf_size=30)"
   ]
  },
  {
   "cell_type": "code",
   "execution_count": 78,
   "metadata": {
    "ExecuteTime": {
     "end_time": "2019-08-22T11:14:30.687098Z",
     "start_time": "2019-08-22T11:13:12.318330Z"
    }
   },
   "outputs": [
    {
     "data": {
      "text/plain": [
       "KNeighborsClassifier(algorithm='auto', leaf_size=30, metric='minkowski',\n",
       "           metric_params=None, n_jobs=None, n_neighbors=11, p=2,\n",
       "           weights='distance')"
      ]
     },
     "execution_count": 78,
     "metadata": {},
     "output_type": "execute_result"
    }
   ],
   "source": [
    "knn1.fit(X_train_catboost,y_train)\n",
    "knn2.fit(X_train_catboost,y_train)\n",
    "knn3.fit(X_train_catboost,y_train)\n",
    "knn4.fit(X_train_catboost,y_train)\n",
    "knn5.fit(X_train_catboost,y_train)\n",
    "knn6.fit(X_train_catboost,y_train)\n",
    "knn7.fit(X_train_catboost,y_train)\n",
    "knn8.fit(X_train_catboost,y_train)"
   ]
  },
  {
   "cell_type": "code",
   "execution_count": 79,
   "metadata": {
    "ExecuteTime": {
     "end_time": "2019-08-22T11:16:13.713472Z",
     "start_time": "2019-08-22T11:14:30.698101Z"
    }
   },
   "outputs": [],
   "source": [
    "X_train_catboost['knn1']=knn1.predict(X_train_catboost)\n",
    "X_train_catboost['knn2']=knn2.predict(X_train_catboost.drop('knn1',axis=1))\n",
    "X_train_catboost['knn3']=knn3.predict(X_train_catboost.drop(['knn1','knn2'],axis=1))\n",
    "X_train_catboost['knn4']=knn4.predict(X_train_catboost.drop(['knn1','knn2','knn3'],axis=1))\n",
    "X_train_catboost['knn5']=knn5.predict(X_train_catboost.drop(['knn1','knn2','knn3','knn4'],axis=1))\n",
    "X_train_catboost['knn6']=knn6.predict(X_train_catboost.drop(['knn1','knn2','knn3','knn4','knn5'],axis=1))\n",
    "X_train_catboost['knn7']=knn7.predict(X_train_catboost.drop(['knn1','knn2','knn3','knn4','knn5','knn6'],axis=1))\n",
    "X_train_catboost['knn8']=knn8.predict(X_train_catboost.drop(['knn1','knn2','knn3','knn4','knn5','knn6','knn7'],axis=1))"
   ]
  },
  {
   "cell_type": "code",
   "execution_count": 80,
   "metadata": {
    "ExecuteTime": {
     "end_time": "2019-08-22T11:16:59.968514Z",
     "start_time": "2019-08-22T11:16:13.726472Z"
    }
   },
   "outputs": [],
   "source": [
    "X_test_catboost['knn1']=knn1.predict(X_test_catboost)\n",
    "X_test_catboost['knn2']=knn2.predict(X_test_catboost.drop('knn1',axis=1))\n",
    "X_test_catboost['knn3']=knn3.predict(X_test_catboost.drop(['knn1','knn2'],axis=1))\n",
    "X_test_catboost['knn4']=knn4.predict(X_test_catboost.drop(['knn1','knn2','knn3'],axis=1))\n",
    "X_test_catboost['knn5']=knn5.predict(X_test_catboost.drop(['knn1','knn2','knn3','knn4'],axis=1))\n",
    "X_test_catboost['knn6']=knn6.predict(X_test_catboost.drop(['knn1','knn2','knn3','knn4','knn5'],axis=1))\n",
    "X_test_catboost['knn7']=knn7.predict(X_test_catboost.drop(['knn1','knn2','knn3','knn4','knn5','knn6'],axis=1))\n",
    "X_test_catboost['knn8']=knn8.predict(X_test_catboost.drop(['knn1','knn2','knn3','knn4','knn5','knn6','knn7'],axis=1))"
   ]
  },
  {
   "cell_type": "code",
   "execution_count": 81,
   "metadata": {
    "ExecuteTime": {
     "end_time": "2019-08-22T11:17:00.440420Z",
     "start_time": "2019-08-22T11:16:59.979518Z"
    }
   },
   "outputs": [
    {
     "data": {
      "text/plain": [
       "Amount                            0.592630\n",
       "ChannelId                         0.029361\n",
       "PricingStrategy                   0.084728\n",
       "ProductCategory                   0.033806\n",
       "ProductId                         0.099517\n",
       "ProviderId                        0.083737\n",
       "Value                             0.611382\n",
       "TimeBetweenTransaction            0.003682\n",
       "AmountBetweenTransaction          0.304991\n",
       "PreviousTransactionBetweenHour    0.010437\n",
       "NumberOfTransactionWithinHour    -0.018349\n",
       "AveAmtWithinPeriod                0.457640\n",
       "quarter                           0.015828\n",
       "week_of_month                    -0.005733\n",
       "weekday                           0.009577\n",
       "hour                              0.039404\n",
       "is credit                         0.030911\n",
       "is late                           0.017064\n",
       "knn1                              0.712078\n",
       "knn2                              0.710988\n",
       "knn3                              0.743289\n",
       "knn4                              0.757717\n",
       "knn5                              0.760431\n",
       "knn6                              0.739833\n",
       "knn7                              0.774973\n",
       "knn8                              0.760431\n",
       "dtype: float64"
      ]
     },
     "execution_count": 81,
     "metadata": {},
     "output_type": "execute_result"
    }
   ],
   "source": [
    "X_test_catboost.corrwith(y_test)"
   ]
  },
  {
   "cell_type": "code",
   "execution_count": 82,
   "metadata": {
    "ExecuteTime": {
     "end_time": "2019-08-22T11:17:16.670543Z",
     "start_time": "2019-08-22T11:17:00.454414Z"
    }
   },
   "outputs": [
    {
     "name": "stdout",
     "output_type": "stream",
     "text": [
      "0:\tlearn: 1.0000000\ttest: 0.7551020\tbest: 0.7551020 (0)\ttotal: 341ms\tremaining: 11m 22s\n",
      "100:\tlearn: 1.0000000\ttest: 0.7600000\tbest: 0.7600000 (1)\ttotal: 13.2s\tremaining: 4m 8s\n",
      "Stopped by overfitting detector  (100 iterations wait)\n",
      "\n",
      "bestTest = 0.76\n",
      "bestIteration = 1\n",
      "\n",
      "Shrink model to first 2 iterations.\n"
     ]
    },
    {
     "data": {
      "text/plain": [
       "<catboost.core.CatBoostClassifier at 0x1ca49d3d278>"
      ]
     },
     "execution_count": 82,
     "metadata": {},
     "output_type": "execute_result"
    }
   ],
   "source": [
    "clf_best_cb=CatBoostClassifier(iterations=2000,learning_rate=0.01,depth=5,verbose=100,\n",
    "                     use_best_model=True,random_seed=12,eval_metric='F1', early_stopping_rounds=100)\n",
    "\n",
    "clf_best_cb.fit(X_train_catboost,y_train,eval_set=(X_test_catboost,y_test))"
   ]
  },
  {
   "cell_type": "code",
   "execution_count": 83,
   "metadata": {
    "ExecuteTime": {
     "end_time": "2019-08-22T11:17:18.201641Z",
     "start_time": "2019-08-22T11:17:16.682541Z"
    }
   },
   "outputs": [
    {
     "data": {
      "text/plain": [
       "Text(0.5,0,'Importance')"
      ]
     },
     "execution_count": 83,
     "metadata": {},
     "output_type": "execute_result"
    },
    {
     "data": {
      "image/png": "[encoded data removed]",
      "text/plain": [
       "<Figure size 720x1080 with 1 Axes>"
      ]
     },
     "metadata": {
      "needs_background": "light"
     },
     "output_type": "display_data"
    }
   ],
   "source": [
    "fea_imp = pd.DataFrame({'imp': clf_best_cb.feature_importances_, 'col': X_train_catboost.columns})\n",
    "fea_imp = fea_imp.sort_values(['imp', 'col'], ascending=[True, False]).iloc[-30:]\n",
    "fea_imp.plot(kind='barh', x='col', y='imp', figsize=(10, 15), legend=None)\n",
    "plt.title('CatBoost - Feature Importance')\n",
    "plt.ylabel('Features')\n",
    "plt.xlabel('Importance')"
   ]
  },
  {
   "cell_type": "markdown",
   "metadata": {
    "ExecuteTime": {
     "end_time": "2019-08-22T10:17:14.782751Z",
     "start_time": "2019-08-22T10:16:35.736261Z"
    }
   },
   "source": [
    "knn1.fit(X_catboost,y)\n",
    "knn2.fit(X_catboost,y)\n",
    "knn3.fit(X_catboost,y)\n",
    "knn4.fit(X_catboost,y)\n",
    "knn5.fit(X_catboost,y)\n",
    "knn6.fit(X_catboost,y)\n",
    "knn7.fit(X_catboost,y)\n",
    "knn8.fit(X_catboost,y)"
   ]
  },
  {
   "cell_type": "code",
   "execution_count": 84,
   "metadata": {
    "ExecuteTime": {
     "end_time": "2019-08-22T11:19:49.483356Z",
     "start_time": "2019-08-22T11:17:18.216645Z"
    }
   },
   "outputs": [],
   "source": [
    "X_catboost['knn1']=knn1.predict(X_catboost)\n",
    "X_catboost['knn2']=knn2.predict(X_catboost.drop('knn1',axis=1))\n",
    "X_catboost['knn3']=knn3.predict(X_catboost.drop(['knn1','knn2'],axis=1))\n",
    "X_catboost['knn4']=knn4.predict(X_catboost.drop(['knn1','knn2','knn3'],axis=1))\n",
    "X_catboost['knn5']=knn5.predict(X_catboost.drop(['knn1','knn2','knn3','knn4'],axis=1))\n",
    "X_catboost['knn6']=knn6.predict(X_catboost.drop(['knn1','knn2','knn3','knn4','knn5'],axis=1))\n",
    "X_catboost['knn7']=knn7.predict(X_catboost.drop(['knn1','knn2','knn3','knn4','knn5','knn6'],axis=1))\n",
    "X_catboost['knn8']=knn8.predict(X_catboost.drop(['knn1','knn2','knn3','knn4','knn5','knn6','knn7'],axis=1))"
   ]
  },
  {
   "cell_type": "code",
   "execution_count": 85,
   "metadata": {
    "ExecuteTime": {
     "end_time": "2019-08-22T11:19:53.864445Z",
     "start_time": "2019-08-22T11:19:49.494360Z"
    }
   },
   "outputs": [
    {
     "name": "stdout",
     "output_type": "stream",
     "text": [
      "0:\tlearn: 0.9304813\ttotal: 241ms\tremaining: 1.45s\n",
      "6:\tlearn: 0.9304813\ttotal: 1.54s\tremaining: 0us\n"
     ]
    },
    {
     "data": {
      "text/plain": [
       "<catboost.core.CatBoostClassifier at 0x1ca52c51a58>"
      ]
     },
     "execution_count": 85,
     "metadata": {},
     "output_type": "execute_result"
    }
   ],
   "source": [
    "clf_best_cb=CatBoostClassifier(iterations=7,learning_rate=0.01,depth=5,verbose=100,\n",
    "                     random_seed=12,eval_metric='F1')\n",
    "\n",
    "clf_best_cb.fit(X_catboost,y)"
   ]
  },
  {
   "cell_type": "code",
   "execution_count": 86,
   "metadata": {
    "ExecuteTime": {
     "end_time": "2019-08-22T11:19:55.730334Z",
     "start_time": "2019-08-22T11:19:53.880448Z"
    }
   },
   "outputs": [
    {
     "data": {
      "text/plain": [
       "Text(0.5,0,'Importance')"
      ]
     },
     "execution_count": 86,
     "metadata": {},
     "output_type": "execute_result"
    },
    {
     "data": {
      "image/png": "[encoded data removed]",
      "text/plain": [
       "<Figure size 720x1080 with 1 Axes>"
      ]
     },
     "metadata": {
      "needs_background": "light"
     },
     "output_type": "display_data"
    }
   ],
   "source": [
    "fea_imp = pd.DataFrame({'imp': clf_best_cb.feature_importances_, 'col': X_train_catboost.columns})\n",
    "fea_imp = fea_imp.sort_values(['imp', 'col'], ascending=[True, False]).iloc[-30:]\n",
    "fea_imp.plot(kind='barh', x='col', y='imp', figsize=(10, 15), legend=None)\n",
    "plt.title('CatBoost - Feature Importance')\n",
    "plt.ylabel('Features')\n",
    "plt.xlabel('Importance')"
   ]
  },
  {
   "cell_type": "code",
   "execution_count": 87,
   "metadata": {
    "ExecuteTime": {
     "end_time": "2019-08-22T11:19:55.880322Z",
     "start_time": "2019-08-22T11:19:55.766330Z"
    }
   },
   "outputs": [
    {
     "data": {
      "text/plain": [
       "Index(['Amount', 'ChannelId', 'PricingStrategy', 'ProductCategory',\n",
       "       'ProductId', 'ProviderId', 'Value', 'TimeBetweenTransaction',\n",
       "       'AmountBetweenTransaction', 'PreviousTransactionBetweenHour',\n",
       "       'NumberOfTransactionWithinHour', 'AveAmtWithinPeriod', 'quarter',\n",
       "       'week_of_month', 'weekday', 'hour', 'is credit', 'is late', 'knn1',\n",
       "       'knn2', 'knn3', 'knn4', 'knn5', 'knn6', 'knn7', 'knn8'],\n",
       "      dtype='object')"
      ]
     },
     "execution_count": 87,
     "metadata": {},
     "output_type": "execute_result"
    }
   ],
   "source": [
    "X_train_catboost.columns"
   ]
  },
  {
   "cell_type": "code",
   "execution_count": 88,
   "metadata": {
    "ExecuteTime": {
     "end_time": "2019-08-22T11:21:26.469593Z",
     "start_time": "2019-08-22T11:19:55.894322Z"
    }
   },
   "outputs": [],
   "source": [
    "xx['knn1']=knn1.predict(xx)\n",
    "xx['knn2']=knn2.predict(xx.drop('knn1',axis=1))\n",
    "xx['knn3']=knn3.predict(xx.drop(['knn1','knn2'],axis=1))\n",
    "xx['knn4']=knn4.predict(xx.drop(['knn1','knn2','knn3'],axis=1))\n",
    "xx['knn5']=knn5.predict(xx.drop(['knn1','knn2','knn3','knn4'],axis=1))\n",
    "xx['knn6']=knn6.predict(xx.drop(['knn1','knn2','knn3','knn4','knn5'],axis=1))\n",
    "xx['knn7']=knn7.predict(xx.drop(['knn1','knn2','knn3','knn4','knn5','knn6'],axis=1))\n",
    "xx['knn8']=knn8.predict(xx.drop(['knn1','knn2','knn3','knn4','knn5','knn6','knn7'],axis=1))"
   ]
  },
  {
   "cell_type": "code",
   "execution_count": 89,
   "metadata": {
    "ExecuteTime": {
     "end_time": "2019-08-22T11:21:27.259544Z",
     "start_time": "2019-08-22T11:21:26.482595Z"
    }
   },
   "outputs": [
    {
     "data": {
      "text/plain": [
       "0.0015771118860925387"
      ]
     },
     "execution_count": 89,
     "metadata": {},
     "output_type": "execute_result"
    }
   ],
   "source": [
    "clf_best_cb.predict(xx).mean()"
   ]
  },
  {
   "cell_type": "markdown",
   "metadata": {
    "ExecuteTime": {
     "end_time": "2019-08-22T10:32:30.306063Z",
     "start_time": "2019-08-22T10:32:29.200904Z"
    }
   },
   "source": [
    "pd.DataFrame(clf_best_cb.predict(xx)).to_csv('Catboost Xente 3 no ids & knn.csv')"
   ]
  },
  {
   "cell_type": "markdown",
   "metadata": {
    "ExecuteTime": {
     "end_time": "2019-08-22T11:35:21.522975Z",
     "start_time": "2019-08-22T11:35:21.514975Z"
    }
   },
   "source": [
    "## PCA"
   ]
  },
  {
   "cell_type": "code",
   "execution_count": 90,
   "metadata": {
    "ExecuteTime": {
     "end_time": "2019-08-22T11:21:30.657630Z",
     "start_time": "2019-08-22T11:21:27.290543Z"
    }
   },
   "outputs": [],
   "source": [
    "from sklearn.decomposition import PCA"
   ]
  },
  {
   "cell_type": "code",
   "execution_count": 91,
   "metadata": {
    "ExecuteTime": {
     "end_time": "2019-08-22T11:21:30.680630Z",
     "start_time": "2019-08-22T11:21:30.668634Z"
    }
   },
   "outputs": [],
   "source": [
    "pca=PCA(n_components=15,random_state=11)"
   ]
  },
  {
   "cell_type": "code",
   "execution_count": 92,
   "metadata": {
    "ExecuteTime": {
     "end_time": "2019-08-22T11:21:31.097602Z",
     "start_time": "2019-08-22T11:21:30.699627Z"
    }
   },
   "outputs": [],
   "source": [
    "X_tr_cb_sc=sc.fit_transform(X_train_catboost)\n",
    "X_te_cb_sc=sc.transform(X_test_catboost)"
   ]
  },
  {
   "cell_type": "code",
   "execution_count": 93,
   "metadata": {
    "ExecuteTime": {
     "end_time": "2019-08-22T11:21:34.758114Z",
     "start_time": "2019-08-22T11:21:31.112605Z"
    }
   },
   "outputs": [
    {
     "data": {
      "text/plain": [
       "PCA(copy=True, iterated_power='auto', n_components=15, random_state=11,\n",
       "  svd_solver='auto', tol=0.0, whiten=False)"
      ]
     },
     "execution_count": 93,
     "metadata": {},
     "output_type": "execute_result"
    }
   ],
   "source": [
    "pca.fit(X_tr_cb_sc,y_train)"
   ]
  },
  {
   "cell_type": "code",
   "execution_count": 94,
   "metadata": {
    "ExecuteTime": {
     "end_time": "2019-08-22T11:21:35.412084Z",
     "start_time": "2019-08-22T11:21:34.770115Z"
    }
   },
   "outputs": [
    {
     "data": {
      "text/plain": [
       "[<matplotlib.lines.Line2D at 0x1ca5221c438>]"
      ]
     },
     "execution_count": 94,
     "metadata": {},
     "output_type": "execute_result"
    },
    {
     "data": {
      "image/png": "[encoded data removed]",
      "text/plain": [
       "<Figure size 504x504 with 1 Axes>"
      ]
     },
     "metadata": {
      "needs_background": "light"
     },
     "output_type": "display_data"
    }
   ],
   "source": [
    "plt.figure(figsize=(7,7))\n",
    "plt.plot(pca.explained_variance_ratio_.cumsum(),'r+')"
   ]
  },
  {
   "cell_type": "code",
   "execution_count": 95,
   "metadata": {
    "ExecuteTime": {
     "end_time": "2019-08-22T11:21:35.560071Z",
     "start_time": "2019-08-22T11:21:35.424081Z"
    }
   },
   "outputs": [],
   "source": [
    "X_tr_pca=pca.transform(X_tr_cb_sc)\n",
    "X_te_pca=pca.transform(X_te_cb_sc)"
   ]
  },
  {
   "cell_type": "code",
   "execution_count": 97,
   "metadata": {
    "ExecuteTime": {
     "end_time": "2019-08-22T11:22:29.524027Z",
     "start_time": "2019-08-22T11:22:29.503031Z"
    }
   },
   "outputs": [
    {
     "data": {
      "text/plain": [
       "0.9925784827906438"
      ]
     },
     "execution_count": 97,
     "metadata": {},
     "output_type": "execute_result"
    }
   ],
   "source": [
    "pca.explained_variance_ratio_.sum()"
   ]
  },
  {
   "cell_type": "code",
   "execution_count": 108,
   "metadata": {
    "ExecuteTime": {
     "end_time": "2019-08-22T11:29:47.419370Z",
     "start_time": "2019-08-22T11:29:29.749130Z"
    }
   },
   "outputs": [
    {
     "name": "stdout",
     "output_type": "stream",
     "text": [
      "0:\tlearn: 0.9309091\ttest: 0.7647059\tbest: 0.7647059 (0)\ttotal: 109ms\tremaining: 3m 38s\n",
      "100:\tlearn: 0.9963899\ttest: 0.7600000\tbest: 0.7800000 (38)\ttotal: 10.8s\tremaining: 3m 23s\n",
      "Stopped by overfitting detector  (100 iterations wait)\n",
      "\n",
      "bestTest = 0.78\n",
      "bestIteration = 38\n",
      "\n",
      "Shrink model to first 39 iterations.\n"
     ]
    },
    {
     "data": {
      "text/plain": [
       "<catboost.core.CatBoostClassifier at 0x1ca522bcd68>"
      ]
     },
     "execution_count": 108,
     "metadata": {},
     "output_type": "execute_result"
    }
   ],
   "source": [
    "clf_best_cb=CatBoostClassifier(iterations=2000,learning_rate=0.01,depth=5,verbose=100,\n",
    "                     use_best_model=True,random_seed=12,eval_metric='F1', early_stopping_rounds=100)\n",
    "\n",
    "clf_best_cb.fit(X_tr_pca,y_train,eval_set=(X_te_pca,y_test))"
   ]
  },
  {
   "cell_type": "code",
   "execution_count": 109,
   "metadata": {
    "ExecuteTime": {
     "end_time": "2019-08-22T11:30:38.249817Z",
     "start_time": "2019-08-22T11:30:35.398360Z"
    }
   },
   "outputs": [],
   "source": [
    "X_pca=pca.fit_transform(X_catboost,y)"
   ]
  },
  {
   "cell_type": "code",
   "execution_count": 110,
   "metadata": {
    "ExecuteTime": {
     "end_time": "2019-08-22T11:31:14.020463Z",
     "start_time": "2019-08-22T11:31:03.889931Z"
    },
    "scrolled": false
   },
   "outputs": [
    {
     "name": "stdout",
     "output_type": "stream",
     "text": [
      "0:\tlearn: 0.1929825\ttotal: 354ms\tremaining: 13.4s\n",
      "38:\tlearn: 0.7818182\ttotal: 6.83s\tremaining: 0us\n"
     ]
    },
    {
     "data": {
      "text/plain": [
       "<catboost.core.CatBoostClassifier at 0x1ca522b3be0>"
      ]
     },
     "execution_count": 110,
     "metadata": {},
     "output_type": "execute_result"
    }
   ],
   "source": [
    "clf_best_cb=CatBoostClassifier(iterations=39,learning_rate=0.01,depth=5,verbose=100,\n",
    "                     random_seed=12,eval_metric='F1')\n",
    "\n",
    "clf_best_cb.fit(X_pca,y)"
   ]
  },
  {
   "cell_type": "code",
   "execution_count": 112,
   "metadata": {
    "ExecuteTime": {
     "end_time": "2019-08-22T11:31:58.181721Z",
     "start_time": "2019-08-22T11:31:58.070730Z"
    }
   },
   "outputs": [],
   "source": [
    "xx_pca=pca.transform(xx)"
   ]
  },
  {
   "cell_type": "code",
   "execution_count": 113,
   "metadata": {
    "ExecuteTime": {
     "end_time": "2019-08-22T11:32:33.711116Z",
     "start_time": "2019-08-22T11:32:31.958567Z"
    }
   },
   "outputs": [],
   "source": [
    "pd.DataFrame(clf_best_cb.predict(xx_pca)).to_csv('Catboost pca.csv')"
   ]
  },
  {
   "cell_type": "markdown",
   "metadata": {},
   "source": [
    "# KMEANS"
   ]
  },
  {
   "cell_type": "code",
   "execution_count": 115,
   "metadata": {
    "ExecuteTime": {
     "end_time": "2019-08-22T11:36:29.923783Z",
     "start_time": "2019-08-22T11:36:27.514420Z"
    }
   },
   "outputs": [],
   "source": [
    "from sklearn.cluster import KMeans"
   ]
  },
  {
   "cell_type": "code",
   "execution_count": 158,
   "metadata": {
    "ExecuteTime": {
     "end_time": "2019-08-22T11:57:21.071462Z",
     "start_time": "2019-08-22T11:57:21.061461Z"
    }
   },
   "outputs": [],
   "source": [
    "km=KMeans(n_clusters=2,random_state=3,max_iter=10000)"
   ]
  },
  {
   "cell_type": "code",
   "execution_count": 159,
   "metadata": {
    "ExecuteTime": {
     "end_time": "2019-08-22T11:57:50.234085Z",
     "start_time": "2019-08-22T11:57:44.660329Z"
    }
   },
   "outputs": [
    {
     "data": {
      "text/plain": [
       "KMeans(algorithm='auto', copy_x=True, init='k-means++', max_iter=10000,\n",
       "    n_clusters=2, n_init=10, n_jobs=None, precompute_distances='auto',\n",
       "    random_state=3, tol=0.0001, verbose=0)"
      ]
     },
     "execution_count": 159,
     "metadata": {},
     "output_type": "execute_result"
    }
   ],
   "source": [
    "km.fit(X_tr_cb_sc,y_train)"
   ]
  },
  {
   "cell_type": "code",
   "execution_count": 160,
   "metadata": {
    "ExecuteTime": {
     "end_time": "2019-08-22T11:58:11.537800Z",
     "start_time": "2019-08-22T11:58:11.277791Z"
    }
   },
   "outputs": [],
   "source": [
    "pred=pd.DataFrame(km.predict(X_te_cb_sc))"
   ]
  },
  {
   "cell_type": "code",
   "execution_count": 161,
   "metadata": {
    "ExecuteTime": {
     "end_time": "2019-08-22T11:58:32.302742Z",
     "start_time": "2019-08-22T11:58:32.268190Z"
    }
   },
   "outputs": [
    {
     "data": {
      "text/plain": [
       "0    0.068574\n",
       "dtype: float64"
      ]
     },
     "execution_count": 161,
     "metadata": {},
     "output_type": "execute_result"
    }
   ],
   "source": [
    "pred.mean()"
   ]
  },
  {
   "cell_type": "code",
   "execution_count": 162,
   "metadata": {
    "ExecuteTime": {
     "end_time": "2019-08-22T11:58:54.922110Z",
     "start_time": "2019-08-22T11:58:54.910112Z"
    }
   },
   "outputs": [],
   "source": [
    "#pred[0]=pred[0].map({0:1,1:0})"
   ]
  },
  {
   "cell_type": "code",
   "execution_count": 163,
   "metadata": {
    "ExecuteTime": {
     "end_time": "2019-08-22T11:59:16.718867Z",
     "start_time": "2019-08-22T11:59:16.206751Z"
    }
   },
   "outputs": [
    {
     "data": {
      "text/plain": [
       "0   -0.009427\n",
       "dtype: float64"
      ]
     },
     "execution_count": 163,
     "metadata": {},
     "output_type": "execute_result"
    }
   ],
   "source": [
    "pred.corrwith(y_test)"
   ]
  },
  {
   "cell_type": "code",
   "execution_count": 164,
   "metadata": {
    "ExecuteTime": {
     "end_time": "2019-08-22T11:59:40.193395Z",
     "start_time": "2019-08-22T11:59:40.133398Z"
    }
   },
   "outputs": [
    {
     "data": {
      "text/plain": [
       "0.0"
      ]
     },
     "execution_count": 164,
     "metadata": {},
     "output_type": "execute_result"
    }
   ],
   "source": [
    "f1_score(y_test.values,pred[0].values)"
   ]
  },
  {
   "cell_type": "markdown",
   "metadata": {
    "ExecuteTime": {
     "end_time": "2019-08-22T11:56:55.144650Z",
     "start_time": "2019-08-22T11:56:55.116653Z"
    }
   },
   "source": [
    "(y_test.values==pred[0].values).mean()"
   ]
  },
  {
   "cell_type": "code",
   "execution_count": null,
   "metadata": {},
   "outputs": [],
   "source": []
  },
  {
   "cell_type": "code",
   "execution_count": null,
   "metadata": {},
   "outputs": [],
   "source": []
  },
  {
   "cell_type": "code",
   "execution_count": null,
   "metadata": {},
   "outputs": [],
   "source": []
  }
 ],
 "metadata": {
  "kernelspec": {
   "display_name": "Python 3",
   "language": "python",
   "name": "python3"
  },
  "language_info": {
   "codemirror_mode": {
    "name": "ipython",
    "version": 3
   },
   "file_extension": ".py",
   "mimetype": "text/x-python",
   "name": "python",
   "nbconvert_exporter": "python",
   "pygments_lexer": "ipython3",
   "version": "3.6.9"
  },
  "toc": {
   "base_numbering": 1,
   "nav_menu": {},
   "number_sections": true,
   "sideBar": true,
   "skip_h1_title": false,
   "title_cell": "Table of Contents",
   "title_sidebar": "Contents",
   "toc_cell": false,
   "toc_position": {
    "height": "550px",
    "left": "186px",
    "top": "110px",
    "width": "303px"
   },
   "toc_section_display": true,
   "toc_window_display": true
  },
  "varInspector": {
   "cols": {
    "lenName": 16,
    "lenType": 16,
    "lenVar": 40
   },
   "kernels_config": {
    "python": {
     "delete_cmd_postfix": "",
     "delete_cmd_prefix": "del ",
     "library": "var_list.py",
     "varRefreshCmd": "print(var_dic_list())"
    },
    "r": {
     "delete_cmd_postfix": ") ",
     "delete_cmd_prefix": "rm(",
     "library": "var_list.r",
     "varRefreshCmd": "cat(var_dic_list()) "
    }
   },
   "types_to_exclude": [
    "module",
    "function",
    "builtin_function_or_method",
    "instance",
    "_Feature"
   ],
   "window_display": false
  }
 },
 "nbformat": 4,
 "nbformat_minor": 2
}
